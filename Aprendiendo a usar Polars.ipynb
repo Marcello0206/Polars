{
 "cells": [
  {
   "cell_type": "markdown",
   "id": "991e6bfa",
   "metadata": {},
   "source": [
    "# Aprendiendo a usar Polars\n"
   ]
  },
  {
   "cell_type": "markdown",
   "id": "af8396f5",
   "metadata": {},
   "source": [
    "### Coders\n",
    "\n",
    "- Anchante Fernandez, Marcello\n",
    "- Batalla Flores, Stephano"
   ]
  },
  {
   "cell_type": "markdown",
   "id": "73400479",
   "metadata": {},
   "source": [
    "![](https://raw.githubusercontent.com/pola-rs/polars-static/master/logos/polars_github_logo_rect_dark_name.svg \"Logo\")"
   ]
  },
  {
   "cell_type": "markdown",
   "id": "e823573b",
   "metadata": {},
   "source": [
    "## ¿Qué es Polars?\n",
    "\n",
    "El paquete Polars es una biblioteca de análisis de datos de código abierto en Python que se centra en la manipulación de datos grandes y complejos. Polars proporciona una alternativa a Pandas y otras bibliotecas de análisis de datos, pero está diseñado específicamente para funcionar con conjuntos de datos más grandes que no caben en la memoria RAM.\n",
    "\n",
    "Polars ofrece una amplia gama de características para el procesamiento de datos, como la selección, filtrado, agregación y transformación de datos. También proporciona herramientas para la creación de gráficos y visualizaciones de datos.\n",
    "\n",
    "Una de las características más destacadas de Polars es su capacidad para trabajar con datos que superan los límites de la memoria RAM. Utiliza una estructura de datos llamada DataFrame Lazy-evaluated, que es una representación de datos que solo se carga en la memoria cuando se necesita.\n",
    "\n",
    "En resumen, el paquete Polars es una biblioteca de análisis de datos de alto rendimiento para Python que se especializa en el procesamiento de grandes conjuntos de datos."
   ]
  },
  {
   "cell_type": "markdown",
   "id": "d5e9c564",
   "metadata": {},
   "source": [
    "## Instalación de Polars"
   ]
  },
  {
   "cell_type": "code",
   "execution_count": null,
   "id": "44e9f8b9",
   "metadata": {},
   "outputs": [],
   "source": [
    "# Para instalar Polars en nuestro sistema, ejecutamos el siguiente código\n",
    "\n",
    "pip install polars"
   ]
  },
  {
   "cell_type": "code",
   "execution_count": 2,
   "id": "41d4cf57",
   "metadata": {},
   "outputs": [],
   "source": [
    "# De esta manera, ejecutamos el paquete en el proyecto\n",
    "\n",
    "import polars as pl"
   ]
  },
  {
   "cell_type": "markdown",
   "id": "68296aeb",
   "metadata": {},
   "source": [
    "## Datos a usar\n",
    "\n",
    "Los datos utilizados para el siguiente tutorial son parte de la Plataforma Nacional de Datos Abiertos del Estado Peruano. Especificamente utilizaremos una data sobre la cantidad de Certificados de Inscripción (C4) emitidos por la RENIEC a nivel nacional e internacional."
   ]
  },
  {
   "cell_type": "markdown",
   "id": "9404836a",
   "metadata": {},
   "source": [
    "## Función pl.read_csv()"
   ]
  },
  {
   "cell_type": "markdown",
   "id": "2450a697",
   "metadata": {},
   "source": [
    "\n",
    "Al tratarse de un archivo '.csv', utilizaremos la función **pl.read_csv()** que nos permitirá leer cualquier archivo de este tipo con facilidad.\n",
    "En este caso, utilizaremos un enlace externo, especificaremos el tipo de separador y la codificación.\n",
    "La función **pl.head()** nos permite mostrar las primeras 5 filas de la data."
   ]
  },
  {
   "cell_type": "code",
   "execution_count": 12,
   "id": "e97bf61e",
   "metadata": {
    "scrolled": true
   },
   "outputs": [
    {
     "data": {
      "text/html": [
       "<div><style>\n",
       ".dataframe > thead > tr > th,\n",
       ".dataframe > tbody > tr > td {\n",
       "  text-align: right;\n",
       "}\n",
       "</style>\n",
       "<small>shape: (5, 7)</small><table border=\"1\" class=\"dataframe\"><thead><tr><th></th><th>AÑO</th><th>MES</th><th>DEPARTAMENTO</th><th>SEXO</th><th>RANGO DE EDADES</th><th>TOTAL EMITIDOS</th></tr><tr><td>i64</td><td>i64</td><td>str</td><td>str</td><td>str</td><td>str</td><td>i64</td></tr></thead><tbody><tr><td>1</td><td>2023</td><td>&quot;ABRIL&quot;</td><td>&quot;ALEMANIA&quot;</td><td>&quot;FEMENINO&quot;</td><td>&quot;36 a 45&quot;</td><td>1</td></tr><tr><td>2</td><td>2023</td><td>&quot;ABRIL&quot;</td><td>&quot;ALEMANIA&quot;</td><td>&quot;FEMENINO&quot;</td><td>&quot;46 a 55&quot;</td><td>2</td></tr><tr><td>3</td><td>2023</td><td>&quot;ABRIL&quot;</td><td>&quot;ALEMANIA&quot;</td><td>&quot;FEMENINO&quot;</td><td>&quot;56 a mas&quot;</td><td>1</td></tr><tr><td>4</td><td>2023</td><td>&quot;ABRIL&quot;</td><td>&quot;ALEMANIA&quot;</td><td>&quot;MASCULINO&quot;</td><td>&quot;18 a 25&quot;</td><td>1</td></tr><tr><td>5</td><td>2023</td><td>&quot;ABRIL&quot;</td><td>&quot;ALEMANIA&quot;</td><td>&quot;MASCULINO&quot;</td><td>&quot;26 a 35&quot;</td><td>2</td></tr></tbody></table></div>"
      ],
      "text/plain": [
       "shape: (5, 7)\n",
       "┌─────┬──────┬───────┬──────────────┬───────────┬─────────────────┬────────────────┐\n",
       "│     ┆ AÑO  ┆ MES   ┆ DEPARTAMENTO ┆ SEXO      ┆ RANGO DE EDADES ┆ TOTAL EMITIDOS │\n",
       "│ --- ┆ ---  ┆ ---   ┆ ---          ┆ ---       ┆ ---             ┆ ---            │\n",
       "│ i64 ┆ i64  ┆ str   ┆ str          ┆ str       ┆ str             ┆ i64            │\n",
       "╞═════╪══════╪═══════╪══════════════╪═══════════╪═════════════════╪════════════════╡\n",
       "│ 1   ┆ 2023 ┆ ABRIL ┆ ALEMANIA     ┆ FEMENINO  ┆ 36 a 45         ┆ 1              │\n",
       "│ 2   ┆ 2023 ┆ ABRIL ┆ ALEMANIA     ┆ FEMENINO  ┆ 46 a 55         ┆ 2              │\n",
       "│ 3   ┆ 2023 ┆ ABRIL ┆ ALEMANIA     ┆ FEMENINO  ┆ 56 a mas        ┆ 1              │\n",
       "│ 4   ┆ 2023 ┆ ABRIL ┆ ALEMANIA     ┆ MASCULINO ┆ 18 a 25         ┆ 1              │\n",
       "│ 5   ┆ 2023 ┆ ABRIL ┆ ALEMANIA     ┆ MASCULINO ┆ 26 a 35         ┆ 2              │\n",
       "└─────┴──────┴───────┴──────────────┴───────────┴─────────────────┴────────────────┘"
      ]
     },
     "execution_count": 12,
     "metadata": {},
     "output_type": "execute_result"
    }
   ],
   "source": [
    "df = pl.read_csv('https://www.datosabiertos.gob.pe/sites/default/files/24_OTI_2023_ABR.csv',separator=\";\",encoding=\"latin\")\n",
    "df.head()"
   ]
  },
  {
   "cell_type": "markdown",
   "id": "1b3b2015",
   "metadata": {},
   "source": [
    "## Función pl.describe()\n",
    "\n",
    "Para tener medidas estadísticas de los datos, utilizaremos la función **pl.describe()**.\n"
   ]
  },
  {
   "cell_type": "code",
   "execution_count": 13,
   "id": "ccc5804a",
   "metadata": {},
   "outputs": [
    {
     "data": {
      "text/html": [
       "<div><style>\n",
       ".dataframe > thead > tr > th,\n",
       ".dataframe > tbody > tr > td {\n",
       "  text-align: right;\n",
       "}\n",
       "</style>\n",
       "<small>shape: (9, 8)</small><table border=\"1\" class=\"dataframe\"><thead><tr><th>describe</th><th></th><th>AÑO</th><th>MES</th><th>DEPARTAMENTO</th><th>SEXO</th><th>RANGO DE EDADES</th><th>TOTAL EMITIDOS</th></tr><tr><td>str</td><td>f64</td><td>f64</td><td>str</td><td>str</td><td>str</td><td>str</td><td>f64</td></tr></thead><tbody><tr><td>&quot;count&quot;</td><td>381.0</td><td>381.0</td><td>&quot;381&quot;</td><td>&quot;381&quot;</td><td>&quot;381&quot;</td><td>&quot;381&quot;</td><td>381.0</td></tr><tr><td>&quot;null_count&quot;</td><td>0.0</td><td>0.0</td><td>&quot;0&quot;</td><td>&quot;0&quot;</td><td>&quot;0&quot;</td><td>&quot;0&quot;</td><td>0.0</td></tr><tr><td>&quot;mean&quot;</td><td>191.0</td><td>2023.0</td><td>null</td><td>null</td><td>null</td><td>null</td><td>186.871391</td></tr><tr><td>&quot;std&quot;</td><td>110.129469</td><td>0.0</td><td>null</td><td>null</td><td>null</td><td>null</td><td>513.82909</td></tr><tr><td>&quot;min&quot;</td><td>1.0</td><td>2023.0</td><td>&quot;ABRIL&quot;</td><td>&quot;ALEMANIA&quot;</td><td>&quot;FEMENINO&quot;</td><td>&quot;18 a 25&quot;</td><td>1.0</td></tr><tr><td>&quot;max&quot;</td><td>381.0</td><td>2023.0</td><td>&quot;ABRIL&quot;</td><td>&quot;VENEZUELA&quot;</td><td>&quot;MASCULINO&quot;</td><td>&quot;56 a mas&quot;</td><td>5874.0</td></tr><tr><td>&quot;median&quot;</td><td>191.0</td><td>2023.0</td><td>null</td><td>null</td><td>null</td><td>null</td><td>62.0</td></tr><tr><td>&quot;25%&quot;</td><td>96.0</td><td>2023.0</td><td>null</td><td>null</td><td>null</td><td>null</td><td>6.0</td></tr><tr><td>&quot;75%&quot;</td><td>286.0</td><td>2023.0</td><td>null</td><td>null</td><td>null</td><td>null</td><td>175.0</td></tr></tbody></table></div>"
      ],
      "text/plain": [
       "shape: (9, 8)\n",
       "┌────────────┬────────────┬────────┬───────┬──────────────┬───────────┬─────────────────┬────────────────┐\n",
       "│ describe   ┆            ┆ AÑO    ┆ MES   ┆ DEPARTAMENTO ┆ SEXO      ┆ RANGO DE EDADES ┆ TOTAL EMITIDOS │\n",
       "│ ---        ┆ ---        ┆ ---    ┆ ---   ┆ ---          ┆ ---       ┆ ---             ┆ ---            │\n",
       "│ str        ┆ f64        ┆ f64    ┆ str   ┆ str          ┆ str       ┆ str             ┆ f64            │\n",
       "╞════════════╪════════════╪════════╪═══════╪══════════════╪═══════════╪═════════════════╪════════════════╡\n",
       "│ count      ┆ 381.0      ┆ 381.0  ┆ 381   ┆ 381          ┆ 381       ┆ 381             ┆ 381.0          │\n",
       "│ null_count ┆ 0.0        ┆ 0.0    ┆ 0     ┆ 0            ┆ 0         ┆ 0               ┆ 0.0            │\n",
       "│ mean       ┆ 191.0      ┆ 2023.0 ┆ null  ┆ null         ┆ null      ┆ null            ┆ 186.871391     │\n",
       "│ std        ┆ 110.129469 ┆ 0.0    ┆ null  ┆ null         ┆ null      ┆ null            ┆ 513.82909      │\n",
       "│ min        ┆ 1.0        ┆ 2023.0 ┆ ABRIL ┆ ALEMANIA     ┆ FEMENINO  ┆ 18 a 25         ┆ 1.0            │\n",
       "│ max        ┆ 381.0      ┆ 2023.0 ┆ ABRIL ┆ VENEZUELA    ┆ MASCULINO ┆ 56 a mas        ┆ 5874.0         │\n",
       "│ median     ┆ 191.0      ┆ 2023.0 ┆ null  ┆ null         ┆ null      ┆ null            ┆ 62.0           │\n",
       "│ 25%        ┆ 96.0       ┆ 2023.0 ┆ null  ┆ null         ┆ null      ┆ null            ┆ 6.0            │\n",
       "│ 75%        ┆ 286.0      ┆ 2023.0 ┆ null  ┆ null         ┆ null      ┆ null            ┆ 175.0          │\n",
       "└────────────┴────────────┴────────┴───────┴──────────────┴───────────┴─────────────────┴────────────────┘"
      ]
     },
     "execution_count": 13,
     "metadata": {},
     "output_type": "execute_result"
    }
   ],
   "source": [
    "df.describe()"
   ]
  }
 ],
 "metadata": {
  "kernelspec": {
   "display_name": "Python 3 (ipykernel)",
   "language": "python",
   "name": "python3"
  },
  "language_info": {
   "codemirror_mode": {
    "name": "ipython",
    "version": 3
   },
   "file_extension": ".py",
   "mimetype": "text/x-python",
   "name": "python",
   "nbconvert_exporter": "python",
   "pygments_lexer": "ipython3",
   "version": "3.9.13"
  }
 },
 "nbformat": 4,
 "nbformat_minor": 5
}
