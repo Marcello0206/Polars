{
 "cells": [
  {
   "cell_type": "markdown",
   "id": "6e06ae51",
   "metadata": {
    "toc": true
   },
   "source": [
    "<h1>Índice<span class=\"tocSkip\"></span></h1>\n",
    "<div class=\"toc\"><ul class=\"toc-item\"><li><span><a href=\"#Coders\" data-toc-modified-id=\"Coders-2\"><span class=\"toc-item-num\">2&nbsp;&nbsp;</span>Coders</a></span></li><li><span><a href=\"#Introducción\" data-toc-modified-id=\"Introducción-3\"><span class=\"toc-item-num\">3&nbsp;&nbsp;</span>Introducción</a></span><ul class=\"toc-item\"><li><span><a href=\"#¿Qué-es-Polars?\" data-toc-modified-id=\"¿Qué-es-Polars?-3.1\"><span class=\"toc-item-num\">3.1&nbsp;&nbsp;</span>¿Qué es Polars?</a></span></li><li><span><a href=\"#Instalación-de-Polars\" data-toc-modified-id=\"Instalación-de-Polars-3.2\"><span class=\"toc-item-num\">3.2&nbsp;&nbsp;</span>Instalación de Polars</a></span></li><li><span><a href=\"#Datos-a-usar\" data-toc-modified-id=\"Datos-a-usar-3.3\"><span class=\"toc-item-num\">3.3&nbsp;&nbsp;</span>Datos a usar</a></span></li></ul></li><li><span><a href=\"#Funciones\" data-toc-modified-id=\"Funciones-4\"><span class=\"toc-item-num\">4&nbsp;&nbsp;</span>Funciones</a></span><ul class=\"toc-item\"><li><span><a href=\"#Función-pl.read_csv()\" data-toc-modified-id=\"Función-pl.read_csv()-4.1\"><span class=\"toc-item-num\">4.1&nbsp;&nbsp;</span>Función <code>pl.read_csv()</code></a></span></li><li><span><a href=\"#Función-pl.columns\" data-toc-modified-id=\"Función-pl.columns-4.2\"><span class=\"toc-item-num\">4.2&nbsp;&nbsp;</span>Función <code>pl.columns</code></a></span></li><li><span><a href=\"#Función-pl.describe()\" data-toc-modified-id=\"Función-pl.describe()-4.3\"><span class=\"toc-item-num\">4.3&nbsp;&nbsp;</span>Función <code>pl.describe()</code></a></span></li><li><span><a href=\"#Función-pl.select()\" data-toc-modified-id=\"Función-pl.select()-4.4\"><span class=\"toc-item-num\">4.4&nbsp;&nbsp;</span>Función <code>pl.select()</code></a></span><ul class=\"toc-item\"><li><span><a href=\"#Seleccionando-una-columna\" data-toc-modified-id=\"Seleccionando-una-columna-4.4.1\"><span class=\"toc-item-num\">4.4.1&nbsp;&nbsp;</span>Seleccionando una columna</a></span></li><li><span><a href=\"#Seleccionando-dos-o-más-columnas\" data-toc-modified-id=\"Seleccionando-dos-o-más-columnas-4.4.2\"><span class=\"toc-item-num\">4.4.2&nbsp;&nbsp;</span>Seleccionando dos o más columnas</a></span></li></ul></li><li><span><a href=\"#Función-pl.with_columns()\" data-toc-modified-id=\"Función-pl.with_columns()-4.5\"><span class=\"toc-item-num\">4.5&nbsp;&nbsp;</span>Función <code>pl.with_columns()</code></a></span></li><li><span><a href=\"#Funciones-pl.head()-y-pl.tail()\" data-toc-modified-id=\"Funciones-pl.head()-y-pl.tail()-4.6\"><span class=\"toc-item-num\">4.6&nbsp;&nbsp;</span>Funciones <code>pl.head()</code> y <code>pl.tail()</code></a></span></li><li><span><a href=\"#Función-df[]\" data-toc-modified-id=\"Función-df[]-4.7\"><span class=\"toc-item-num\">4.7&nbsp;&nbsp;</span>Función <code>df[]</code></a></span><ul class=\"toc-item\"><li><span><a href=\"#Seleccionando-una-o-varias-columnas\" data-toc-modified-id=\"Seleccionando-una-o-varias-columnas-4.7.1\"><span class=\"toc-item-num\">4.7.1&nbsp;&nbsp;</span>Seleccionando una o varias columnas</a></span></li><li><span><a href=\"#Seleccionando-una-o-varias-filas\" data-toc-modified-id=\"Seleccionando-una-o-varias-filas-4.7.2\"><span class=\"toc-item-num\">4.7.2&nbsp;&nbsp;</span>Seleccionando una o varias filas</a></span></li><li><span><a href=\"#Seleccionando-un-dato\" data-toc-modified-id=\"Seleccionando-un-dato-4.7.3\"><span class=\"toc-item-num\">4.7.3&nbsp;&nbsp;</span>Seleccionando un dato</a></span></li></ul></li></ul></li></ul></div>"
   ]
  },
  {
   "cell_type": "markdown",
   "id": "991e6bfa",
   "metadata": {},
   "source": [
    "# Guía de uso básica de Polars\n",
    "------"
   ]
  },
  {
   "cell_type": "markdown",
   "id": "af8396f5",
   "metadata": {},
   "source": [
    "## Coders\n",
    "--------------\n",
    "- Anchante Fernandez, Marcello\n",
    "- Batalla Flores, Stephano"
   ]
  },
  {
   "cell_type": "markdown",
   "id": "73400479",
   "metadata": {},
   "source": [
    "![](https://raw.githubusercontent.com/pola-rs/polars-static/master/logos/polars_github_logo_rect_dark_name.svg \"Logo\")"
   ]
  },
  {
   "cell_type": "markdown",
   "id": "157997e3",
   "metadata": {},
   "source": [
    "## Introducción\n",
    "------------"
   ]
  },
  {
   "cell_type": "markdown",
   "id": "e823573b",
   "metadata": {},
   "source": [
    "### ¿Qué es Polars?\n",
    "\n",
    "El paquete Polars es una biblioteca de análisis de datos de código abierto en Python que se centra en la manipulación de datos grandes y complejos. Polars proporciona una alternativa a Pandas y otras bibliotecas de análisis de datos, pero está diseñado específicamente para funcionar con conjuntos de datos más grandes que no caben en la memoria RAM.\n",
    "\n",
    "Polars ofrece una amplia gama de características para el procesamiento de datos, como la selección, filtrado, agregación y transformación de datos. También proporciona herramientas para la creación de gráficos y visualizaciones de datos.\n",
    "\n",
    "Una de las características más destacadas de Polars es su capacidad para trabajar con datos que superan los límites de la memoria RAM. Utiliza una estructura de datos llamada DataFrame Lazy-evaluated, que es una representación de datos que solo se carga en la memoria cuando se necesita.\n",
    "\n",
    "En resumen, el paquete Polars es una biblioteca de análisis de datos de alto rendimiento para Python que se especializa en el procesamiento de grandes conjuntos de datos."
   ]
  },
  {
   "cell_type": "markdown",
   "id": "d5e9c564",
   "metadata": {},
   "source": [
    "### Instalación de Polars"
   ]
  },
  {
   "cell_type": "markdown",
   "id": "08930a40",
   "metadata": {},
   "source": [
    "Para instalar Polars en nuestro sistema, ejecutamos el siguiente código\n",
    "\n",
    "`!pip install polars`\n",
    "\n",
    "Para ejecutar el paquete en el proyecto, escribimos el siguiente código\n",
    "\n",
    "`import polars as pl`"
   ]
  },
  {
   "cell_type": "markdown",
   "id": "68296aeb",
   "metadata": {},
   "source": [
    "### Datos a usar\n",
    "\n",
    "Si deseas descargar la data utilizada, haz click en el siguiente [vínculo](https://drive.google.com/file/d/1DMjvgcPAYiO71LhaBxBELpUPnFN-bBHx/view?usp=sharing)."
   ]
  },
  {
   "cell_type": "markdown",
   "id": "72b0d750",
   "metadata": {},
   "source": [
    "## Funciones \n",
    "\n",
    "-------------"
   ]
  },
  {
   "cell_type": "markdown",
   "id": "9404836a",
   "metadata": {},
   "source": [
    "### Función ```pl.read_csv()```"
   ]
  },
  {
   "cell_type": "markdown",
   "id": "2450a697",
   "metadata": {},
   "source": [
    "\n",
    "Al tratarse de un archivo '.csv', utilizaremos la función ```pl.read_csv()``` que nos permitirá leer cualquier archivo de este tipo con facilidad.\n",
    "En este caso, utilizaremos un archivo local y especificaremos la codificación.\n",
    "La función ```pl.head()``` nos permite mostrar las primeras 5 filas de la data."
   ]
  },
  {
   "cell_type": "code",
   "execution_count": 42,
   "id": "e97bf61e",
   "metadata": {
    "scrolled": true
   },
   "outputs": [
    {
     "data": {
      "text/html": [
       "<div><style>\n",
       ".dataframe > thead > tr > th,\n",
       ".dataframe > tbody > tr > td {\n",
       "  text-align: right;\n",
       "}\n",
       "</style>\n",
       "<small>shape: (1_000, 8)</small><table border=\"1\" class=\"dataframe\"><thead><tr><th>gender</th><th>race/ethnicity</th><th>parental level of education</th><th>lunch</th><th>test preparation course</th><th>math score</th><th>reading score</th><th>writing score</th></tr><tr><td>str</td><td>str</td><td>str</td><td>str</td><td>str</td><td>i64</td><td>i64</td><td>i64</td></tr></thead><tbody><tr><td>&quot;female&quot;</td><td>&quot;group B&quot;</td><td>&quot;bachelor&#x27;s deg…</td><td>&quot;standard&quot;</td><td>&quot;none&quot;</td><td>72</td><td>72</td><td>74</td></tr><tr><td>&quot;female&quot;</td><td>&quot;group C&quot;</td><td>&quot;some college&quot;</td><td>&quot;standard&quot;</td><td>&quot;completed&quot;</td><td>69</td><td>90</td><td>88</td></tr><tr><td>&quot;female&quot;</td><td>&quot;group B&quot;</td><td>&quot;master&#x27;s degre…</td><td>&quot;standard&quot;</td><td>&quot;none&quot;</td><td>90</td><td>95</td><td>93</td></tr><tr><td>&quot;male&quot;</td><td>&quot;group A&quot;</td><td>&quot;associate&#x27;s de…</td><td>&quot;free/reduced&quot;</td><td>&quot;none&quot;</td><td>47</td><td>57</td><td>44</td></tr><tr><td>&quot;male&quot;</td><td>&quot;group C&quot;</td><td>&quot;some college&quot;</td><td>&quot;standard&quot;</td><td>&quot;none&quot;</td><td>76</td><td>78</td><td>75</td></tr><tr><td>&quot;female&quot;</td><td>&quot;group B&quot;</td><td>&quot;associate&#x27;s de…</td><td>&quot;standard&quot;</td><td>&quot;none&quot;</td><td>71</td><td>83</td><td>78</td></tr><tr><td>&quot;female&quot;</td><td>&quot;group B&quot;</td><td>&quot;some college&quot;</td><td>&quot;standard&quot;</td><td>&quot;completed&quot;</td><td>88</td><td>95</td><td>92</td></tr><tr><td>&quot;male&quot;</td><td>&quot;group B&quot;</td><td>&quot;some college&quot;</td><td>&quot;free/reduced&quot;</td><td>&quot;none&quot;</td><td>40</td><td>43</td><td>39</td></tr><tr><td>&quot;male&quot;</td><td>&quot;group D&quot;</td><td>&quot;high school&quot;</td><td>&quot;free/reduced&quot;</td><td>&quot;completed&quot;</td><td>64</td><td>64</td><td>67</td></tr><tr><td>&quot;female&quot;</td><td>&quot;group B&quot;</td><td>&quot;high school&quot;</td><td>&quot;free/reduced&quot;</td><td>&quot;none&quot;</td><td>38</td><td>60</td><td>50</td></tr><tr><td>&quot;male&quot;</td><td>&quot;group C&quot;</td><td>&quot;associate&#x27;s de…</td><td>&quot;standard&quot;</td><td>&quot;none&quot;</td><td>58</td><td>54</td><td>52</td></tr><tr><td>&quot;male&quot;</td><td>&quot;group D&quot;</td><td>&quot;associate&#x27;s de…</td><td>&quot;standard&quot;</td><td>&quot;none&quot;</td><td>40</td><td>52</td><td>43</td></tr><tr><td>&hellip;</td><td>&hellip;</td><td>&hellip;</td><td>&hellip;</td><td>&hellip;</td><td>&hellip;</td><td>&hellip;</td><td>&hellip;</td></tr><tr><td>&quot;female&quot;</td><td>&quot;group A&quot;</td><td>&quot;some high scho…</td><td>&quot;free/reduced&quot;</td><td>&quot;none&quot;</td><td>44</td><td>45</td><td>45</td></tr><tr><td>&quot;female&quot;</td><td>&quot;group D&quot;</td><td>&quot;some college&quot;</td><td>&quot;free/reduced&quot;</td><td>&quot;completed&quot;</td><td>67</td><td>86</td><td>83</td></tr><tr><td>&quot;male&quot;</td><td>&quot;group E&quot;</td><td>&quot;high school&quot;</td><td>&quot;free/reduced&quot;</td><td>&quot;completed&quot;</td><td>86</td><td>81</td><td>75</td></tr><tr><td>&quot;female&quot;</td><td>&quot;group B&quot;</td><td>&quot;some high scho…</td><td>&quot;standard&quot;</td><td>&quot;completed&quot;</td><td>65</td><td>82</td><td>78</td></tr><tr><td>&quot;female&quot;</td><td>&quot;group D&quot;</td><td>&quot;associate&#x27;s de…</td><td>&quot;free/reduced&quot;</td><td>&quot;none&quot;</td><td>55</td><td>76</td><td>76</td></tr><tr><td>&quot;female&quot;</td><td>&quot;group D&quot;</td><td>&quot;bachelor&#x27;s deg…</td><td>&quot;free/reduced&quot;</td><td>&quot;none&quot;</td><td>62</td><td>72</td><td>74</td></tr><tr><td>&quot;male&quot;</td><td>&quot;group A&quot;</td><td>&quot;high school&quot;</td><td>&quot;standard&quot;</td><td>&quot;none&quot;</td><td>63</td><td>63</td><td>62</td></tr><tr><td>&quot;female&quot;</td><td>&quot;group E&quot;</td><td>&quot;master&#x27;s degre…</td><td>&quot;standard&quot;</td><td>&quot;completed&quot;</td><td>88</td><td>99</td><td>95</td></tr><tr><td>&quot;male&quot;</td><td>&quot;group C&quot;</td><td>&quot;high school&quot;</td><td>&quot;free/reduced&quot;</td><td>&quot;none&quot;</td><td>62</td><td>55</td><td>55</td></tr><tr><td>&quot;female&quot;</td><td>&quot;group C&quot;</td><td>&quot;high school&quot;</td><td>&quot;free/reduced&quot;</td><td>&quot;completed&quot;</td><td>59</td><td>71</td><td>65</td></tr><tr><td>&quot;female&quot;</td><td>&quot;group D&quot;</td><td>&quot;some college&quot;</td><td>&quot;standard&quot;</td><td>&quot;completed&quot;</td><td>68</td><td>78</td><td>77</td></tr><tr><td>&quot;female&quot;</td><td>&quot;group D&quot;</td><td>&quot;some college&quot;</td><td>&quot;free/reduced&quot;</td><td>&quot;none&quot;</td><td>77</td><td>86</td><td>86</td></tr></tbody></table></div>"
      ],
      "text/plain": [
       "shape: (1_000, 8)\n",
       "┌────────┬────────────────┬────────────────┬──────────────┬───────────────┬────────────┬───────────────┬───────────────┐\n",
       "│ gender ┆ race/ethnicity ┆ parental level ┆ lunch        ┆ test          ┆ math score ┆ reading score ┆ writing score │\n",
       "│ ---    ┆ ---            ┆ of education   ┆ ---          ┆ preparation   ┆ ---        ┆ ---           ┆ ---           │\n",
       "│ str    ┆ str            ┆ ---            ┆ str          ┆ course        ┆ i64        ┆ i64           ┆ i64           │\n",
       "│        ┆                ┆ str            ┆              ┆ ---           ┆            ┆               ┆               │\n",
       "│        ┆                ┆                ┆              ┆ str           ┆            ┆               ┆               │\n",
       "╞════════╪════════════════╪════════════════╪══════════════╪═══════════════╪════════════╪═══════════════╪═══════════════╡\n",
       "│ female ┆ group B        ┆ bachelor's     ┆ standard     ┆ none          ┆ 72         ┆ 72            ┆ 74            │\n",
       "│        ┆                ┆ degree         ┆              ┆               ┆            ┆               ┆               │\n",
       "│ female ┆ group C        ┆ some college   ┆ standard     ┆ completed     ┆ 69         ┆ 90            ┆ 88            │\n",
       "│ female ┆ group B        ┆ master's       ┆ standard     ┆ none          ┆ 90         ┆ 95            ┆ 93            │\n",
       "│        ┆                ┆ degree         ┆              ┆               ┆            ┆               ┆               │\n",
       "│ male   ┆ group A        ┆ associate's    ┆ free/reduced ┆ none          ┆ 47         ┆ 57            ┆ 44            │\n",
       "│        ┆                ┆ degree         ┆              ┆               ┆            ┆               ┆               │\n",
       "│ …      ┆ …              ┆ …              ┆ …            ┆ …             ┆ …          ┆ …             ┆ …             │\n",
       "│ male   ┆ group C        ┆ high school    ┆ free/reduced ┆ none          ┆ 62         ┆ 55            ┆ 55            │\n",
       "│ female ┆ group C        ┆ high school    ┆ free/reduced ┆ completed     ┆ 59         ┆ 71            ┆ 65            │\n",
       "│ female ┆ group D        ┆ some college   ┆ standard     ┆ completed     ┆ 68         ┆ 78            ┆ 77            │\n",
       "│ female ┆ group D        ┆ some college   ┆ free/reduced ┆ none          ┆ 77         ┆ 86            ┆ 86            │\n",
       "└────────┴────────────────┴────────────────┴──────────────┴───────────────┴────────────┴───────────────┴───────────────┘"
      ]
     },
     "execution_count": 42,
     "metadata": {},
     "output_type": "execute_result"
    }
   ],
   "source": [
    "import polars as pl\n",
    "\n",
    "df = pl.read_csv('stud_perf_exam.csv',encoding=\"utf-8\")\n",
    "df"
   ]
  },
  {
   "cell_type": "markdown",
   "id": "24fae2ab",
   "metadata": {},
   "source": [
    "### Función `pl.columns`"
   ]
  },
  {
   "cell_type": "markdown",
   "id": "945ab8ab",
   "metadata": {},
   "source": [
    "Si deseamos tener la lista de las variables del archivo, escribimos `pl.columns`."
   ]
  },
  {
   "cell_type": "code",
   "execution_count": 23,
   "id": "e88061c8",
   "metadata": {},
   "outputs": [
    {
     "data": {
      "text/plain": [
       "['gender',\n",
       " 'race/ethnicity',\n",
       " 'parental level of education',\n",
       " 'lunch',\n",
       " 'test preparation course',\n",
       " 'math score',\n",
       " 'reading score',\n",
       " 'writing score']"
      ]
     },
     "execution_count": 23,
     "metadata": {},
     "output_type": "execute_result"
    }
   ],
   "source": [
    "df.columns"
   ]
  },
  {
   "cell_type": "markdown",
   "id": "1b3b2015",
   "metadata": {},
   "source": [
    "### Función `pl.describe()`\n",
    "\n",
    "Para tener medidas estadísticas de los datos como el número de datos, los datos nulos, media, mediana, etc; utilizaremos la función ```pl.describe()```.\n"
   ]
  },
  {
   "cell_type": "code",
   "execution_count": 24,
   "id": "ccc5804a",
   "metadata": {
    "scrolled": true
   },
   "outputs": [
    {
     "data": {
      "text/html": [
       "<div><style>\n",
       ".dataframe > thead > tr > th,\n",
       ".dataframe > tbody > tr > td {\n",
       "  text-align: right;\n",
       "}\n",
       "</style>\n",
       "<small>shape: (9, 9)</small><table border=\"1\" class=\"dataframe\"><thead><tr><th>describe</th><th>gender</th><th>race/ethnicity</th><th>parental level of education</th><th>lunch</th><th>test preparation course</th><th>math score</th><th>reading score</th><th>writing score</th></tr><tr><td>str</td><td>str</td><td>str</td><td>str</td><td>str</td><td>str</td><td>f64</td><td>f64</td><td>f64</td></tr></thead><tbody><tr><td>&quot;count&quot;</td><td>&quot;1000&quot;</td><td>&quot;1000&quot;</td><td>&quot;1000&quot;</td><td>&quot;1000&quot;</td><td>&quot;1000&quot;</td><td>1000.0</td><td>1000.0</td><td>1000.0</td></tr><tr><td>&quot;null_count&quot;</td><td>&quot;0&quot;</td><td>&quot;0&quot;</td><td>&quot;0&quot;</td><td>&quot;0&quot;</td><td>&quot;0&quot;</td><td>0.0</td><td>0.0</td><td>0.0</td></tr><tr><td>&quot;mean&quot;</td><td>null</td><td>null</td><td>null</td><td>null</td><td>null</td><td>66.089</td><td>69.169</td><td>68.054</td></tr><tr><td>&quot;std&quot;</td><td>null</td><td>null</td><td>null</td><td>null</td><td>null</td><td>15.16308</td><td>14.600192</td><td>15.195657</td></tr><tr><td>&quot;min&quot;</td><td>&quot;female&quot;</td><td>&quot;group A&quot;</td><td>&quot;associate&#x27;s de…</td><td>&quot;free/reduced&quot;</td><td>&quot;completed&quot;</td><td>0.0</td><td>17.0</td><td>10.0</td></tr><tr><td>&quot;max&quot;</td><td>&quot;male&quot;</td><td>&quot;group E&quot;</td><td>&quot;some high scho…</td><td>&quot;standard&quot;</td><td>&quot;none&quot;</td><td>100.0</td><td>100.0</td><td>100.0</td></tr><tr><td>&quot;median&quot;</td><td>null</td><td>null</td><td>null</td><td>null</td><td>null</td><td>66.0</td><td>70.0</td><td>69.0</td></tr><tr><td>&quot;25%&quot;</td><td>null</td><td>null</td><td>null</td><td>null</td><td>null</td><td>57.0</td><td>59.0</td><td>58.0</td></tr><tr><td>&quot;75%&quot;</td><td>null</td><td>null</td><td>null</td><td>null</td><td>null</td><td>77.0</td><td>79.0</td><td>79.0</td></tr></tbody></table></div>"
      ],
      "text/plain": [
       "shape: (9, 9)\n",
       "┌────────────┬────────┬───────────────┬───────────────┬───┬───────────────┬────────────┬───────────────┬───────────────┐\n",
       "│ describe   ┆ gender ┆ race/ethnicit ┆ parental      ┆ … ┆ test          ┆ math score ┆ reading score ┆ writing score │\n",
       "│ ---        ┆ ---    ┆ y             ┆ level of      ┆   ┆ preparation   ┆ ---        ┆ ---           ┆ ---           │\n",
       "│ str        ┆ str    ┆ ---           ┆ education     ┆   ┆ course        ┆ f64        ┆ f64           ┆ f64           │\n",
       "│            ┆        ┆ str           ┆ ---           ┆   ┆ ---           ┆            ┆               ┆               │\n",
       "│            ┆        ┆               ┆ str           ┆   ┆ str           ┆            ┆               ┆               │\n",
       "╞════════════╪════════╪═══════════════╪═══════════════╪═══╪═══════════════╪════════════╪═══════════════╪═══════════════╡\n",
       "│ count      ┆ 1000   ┆ 1000          ┆ 1000          ┆ … ┆ 1000          ┆ 1000.0     ┆ 1000.0        ┆ 1000.0        │\n",
       "│ null_count ┆ 0      ┆ 0             ┆ 0             ┆ … ┆ 0             ┆ 0.0        ┆ 0.0           ┆ 0.0           │\n",
       "│ mean       ┆ null   ┆ null          ┆ null          ┆ … ┆ null          ┆ 66.089     ┆ 69.169        ┆ 68.054        │\n",
       "│ std        ┆ null   ┆ null          ┆ null          ┆ … ┆ null          ┆ 15.16308   ┆ 14.600192     ┆ 15.195657     │\n",
       "│ min        ┆ female ┆ group A       ┆ associate's   ┆ … ┆ completed     ┆ 0.0        ┆ 17.0          ┆ 10.0          │\n",
       "│            ┆        ┆               ┆ degree        ┆   ┆               ┆            ┆               ┆               │\n",
       "│ max        ┆ male   ┆ group E       ┆ some high     ┆ … ┆ none          ┆ 100.0      ┆ 100.0         ┆ 100.0         │\n",
       "│            ┆        ┆               ┆ school        ┆   ┆               ┆            ┆               ┆               │\n",
       "│ median     ┆ null   ┆ null          ┆ null          ┆ … ┆ null          ┆ 66.0       ┆ 70.0          ┆ 69.0          │\n",
       "│ 25%        ┆ null   ┆ null          ┆ null          ┆ … ┆ null          ┆ 57.0       ┆ 59.0          ┆ 58.0          │\n",
       "│ 75%        ┆ null   ┆ null          ┆ null          ┆ … ┆ null          ┆ 77.0       ┆ 79.0          ┆ 79.0          │\n",
       "└────────────┴────────┴───────────────┴───────────────┴───┴───────────────┴────────────┴───────────────┴───────────────┘"
      ]
     },
     "execution_count": 24,
     "metadata": {},
     "output_type": "execute_result"
    }
   ],
   "source": [
    "df.describe()"
   ]
  },
  {
   "cell_type": "markdown",
   "id": "62443d09",
   "metadata": {},
   "source": [
    "### Función `pl.select()`\n",
    "Si deseamos seleccionar una o más columnas de la data, utilizamos la función `df.select(pl.col())`"
   ]
  },
  {
   "cell_type": "markdown",
   "id": "40e8f891",
   "metadata": {},
   "source": [
    "#### Seleccionando una columna\n",
    "Si solo deseamos seleccionar una columna, utilizamos `df.select(pl.col('NOMBRE DE LA COLUMNA'))`"
   ]
  },
  {
   "cell_type": "code",
   "execution_count": 53,
   "id": "17393119",
   "metadata": {},
   "outputs": [
    {
     "data": {
      "text/html": [
       "<div><style>\n",
       ".dataframe > thead > tr > th,\n",
       ".dataframe > tbody > tr > td {\n",
       "  text-align: right;\n",
       "}\n",
       "</style>\n",
       "<small>shape: (1_000, 1)</small><table border=\"1\" class=\"dataframe\"><thead><tr><th>gender</th></tr><tr><td>str</td></tr></thead><tbody><tr><td>&quot;female&quot;</td></tr><tr><td>&quot;female&quot;</td></tr><tr><td>&quot;female&quot;</td></tr><tr><td>&quot;male&quot;</td></tr><tr><td>&quot;male&quot;</td></tr><tr><td>&quot;female&quot;</td></tr><tr><td>&quot;female&quot;</td></tr><tr><td>&quot;male&quot;</td></tr><tr><td>&quot;male&quot;</td></tr><tr><td>&quot;female&quot;</td></tr><tr><td>&quot;male&quot;</td></tr><tr><td>&quot;male&quot;</td></tr><tr><td>&hellip;</td></tr><tr><td>&quot;female&quot;</td></tr><tr><td>&quot;female&quot;</td></tr><tr><td>&quot;male&quot;</td></tr><tr><td>&quot;female&quot;</td></tr><tr><td>&quot;female&quot;</td></tr><tr><td>&quot;female&quot;</td></tr><tr><td>&quot;male&quot;</td></tr><tr><td>&quot;female&quot;</td></tr><tr><td>&quot;male&quot;</td></tr><tr><td>&quot;female&quot;</td></tr><tr><td>&quot;female&quot;</td></tr><tr><td>&quot;female&quot;</td></tr></tbody></table></div>"
      ],
      "text/plain": [
       "shape: (1_000, 1)\n",
       "┌────────┐\n",
       "│ gender │\n",
       "│ ---    │\n",
       "│ str    │\n",
       "╞════════╡\n",
       "│ female │\n",
       "│ female │\n",
       "│ female │\n",
       "│ male   │\n",
       "│ …      │\n",
       "│ male   │\n",
       "│ female │\n",
       "│ female │\n",
       "│ female │\n",
       "└────────┘"
      ]
     },
     "execution_count": 53,
     "metadata": {},
     "output_type": "execute_result"
    }
   ],
   "source": [
    "df.select('gender')"
   ]
  },
  {
   "cell_type": "markdown",
   "id": "f20df8e7",
   "metadata": {},
   "source": [
    "#### Seleccionando dos o más columnas\n",
    "Si deseamos seleccionar varias columnas, utilizamos `df.select(pl.col(['nombre columna 1','nombre columna 2',...))`"
   ]
  },
  {
   "cell_type": "code",
   "execution_count": 54,
   "id": "86970c55",
   "metadata": {},
   "outputs": [
    {
     "data": {
      "text/html": [
       "<div><style>\n",
       ".dataframe > thead > tr > th,\n",
       ".dataframe > tbody > tr > td {\n",
       "  text-align: right;\n",
       "}\n",
       "</style>\n",
       "<small>shape: (1_000, 2)</small><table border=\"1\" class=\"dataframe\"><thead><tr><th>gender</th><th>math score</th></tr><tr><td>str</td><td>i64</td></tr></thead><tbody><tr><td>&quot;female&quot;</td><td>72</td></tr><tr><td>&quot;female&quot;</td><td>69</td></tr><tr><td>&quot;female&quot;</td><td>90</td></tr><tr><td>&quot;male&quot;</td><td>47</td></tr><tr><td>&quot;male&quot;</td><td>76</td></tr><tr><td>&quot;female&quot;</td><td>71</td></tr><tr><td>&quot;female&quot;</td><td>88</td></tr><tr><td>&quot;male&quot;</td><td>40</td></tr><tr><td>&quot;male&quot;</td><td>64</td></tr><tr><td>&quot;female&quot;</td><td>38</td></tr><tr><td>&quot;male&quot;</td><td>58</td></tr><tr><td>&quot;male&quot;</td><td>40</td></tr><tr><td>&hellip;</td><td>&hellip;</td></tr><tr><td>&quot;female&quot;</td><td>44</td></tr><tr><td>&quot;female&quot;</td><td>67</td></tr><tr><td>&quot;male&quot;</td><td>86</td></tr><tr><td>&quot;female&quot;</td><td>65</td></tr><tr><td>&quot;female&quot;</td><td>55</td></tr><tr><td>&quot;female&quot;</td><td>62</td></tr><tr><td>&quot;male&quot;</td><td>63</td></tr><tr><td>&quot;female&quot;</td><td>88</td></tr><tr><td>&quot;male&quot;</td><td>62</td></tr><tr><td>&quot;female&quot;</td><td>59</td></tr><tr><td>&quot;female&quot;</td><td>68</td></tr><tr><td>&quot;female&quot;</td><td>77</td></tr></tbody></table></div>"
      ],
      "text/plain": [
       "shape: (1_000, 2)\n",
       "┌────────┬────────────┐\n",
       "│ gender ┆ math score │\n",
       "│ ---    ┆ ---        │\n",
       "│ str    ┆ i64        │\n",
       "╞════════╪════════════╡\n",
       "│ female ┆ 72         │\n",
       "│ female ┆ 69         │\n",
       "│ female ┆ 90         │\n",
       "│ male   ┆ 47         │\n",
       "│ …      ┆ …          │\n",
       "│ male   ┆ 62         │\n",
       "│ female ┆ 59         │\n",
       "│ female ┆ 68         │\n",
       "│ female ┆ 77         │\n",
       "└────────┴────────────┘"
      ]
     },
     "execution_count": 54,
     "metadata": {},
     "output_type": "execute_result"
    }
   ],
   "source": [
    "df.select(['gender','math score'])"
   ]
  },
  {
   "cell_type": "markdown",
   "id": "60dd2fac",
   "metadata": {},
   "source": [
    "### Función `pl.with_columns()`"
   ]
  },
  {
   "cell_type": "markdown",
   "id": "a4b244ef",
   "metadata": {},
   "source": [
    "Si deseamos crear una nueva columna con valores de otras columnas, utilizamos `df.with_columns()`.\n",
    "En este caso, crearemos una columna con los promedios de las notas de matemáticas, lectura e escritura."
   ]
  },
  {
   "cell_type": "code",
   "execution_count": 41,
   "id": "0b61076b",
   "metadata": {},
   "outputs": [
    {
     "data": {
      "text/html": [
       "<div><style>\n",
       ".dataframe > thead > tr > th,\n",
       ".dataframe > tbody > tr > td {\n",
       "  text-align: right;\n",
       "}\n",
       "</style>\n",
       "<small>shape: (1_000, 9)</small><table border=\"1\" class=\"dataframe\"><thead><tr><th>gender</th><th>race/ethnicity</th><th>parental level of education</th><th>lunch</th><th>test preparation course</th><th>math score</th><th>reading score</th><th>writing score</th><th>Promedio</th></tr><tr><td>str</td><td>str</td><td>str</td><td>str</td><td>str</td><td>i64</td><td>i64</td><td>i64</td><td>f64</td></tr></thead><tbody><tr><td>&quot;female&quot;</td><td>&quot;group B&quot;</td><td>&quot;bachelor&#x27;s deg…</td><td>&quot;standard&quot;</td><td>&quot;none&quot;</td><td>72</td><td>72</td><td>74</td><td>72.666667</td></tr><tr><td>&quot;female&quot;</td><td>&quot;group C&quot;</td><td>&quot;some college&quot;</td><td>&quot;standard&quot;</td><td>&quot;completed&quot;</td><td>69</td><td>90</td><td>88</td><td>82.333333</td></tr><tr><td>&quot;female&quot;</td><td>&quot;group B&quot;</td><td>&quot;master&#x27;s degre…</td><td>&quot;standard&quot;</td><td>&quot;none&quot;</td><td>90</td><td>95</td><td>93</td><td>92.666667</td></tr><tr><td>&quot;male&quot;</td><td>&quot;group A&quot;</td><td>&quot;associate&#x27;s de…</td><td>&quot;free/reduced&quot;</td><td>&quot;none&quot;</td><td>47</td><td>57</td><td>44</td><td>49.333333</td></tr><tr><td>&quot;male&quot;</td><td>&quot;group C&quot;</td><td>&quot;some college&quot;</td><td>&quot;standard&quot;</td><td>&quot;none&quot;</td><td>76</td><td>78</td><td>75</td><td>76.333333</td></tr><tr><td>&quot;female&quot;</td><td>&quot;group B&quot;</td><td>&quot;associate&#x27;s de…</td><td>&quot;standard&quot;</td><td>&quot;none&quot;</td><td>71</td><td>83</td><td>78</td><td>77.333333</td></tr><tr><td>&quot;female&quot;</td><td>&quot;group B&quot;</td><td>&quot;some college&quot;</td><td>&quot;standard&quot;</td><td>&quot;completed&quot;</td><td>88</td><td>95</td><td>92</td><td>91.666667</td></tr><tr><td>&quot;male&quot;</td><td>&quot;group B&quot;</td><td>&quot;some college&quot;</td><td>&quot;free/reduced&quot;</td><td>&quot;none&quot;</td><td>40</td><td>43</td><td>39</td><td>40.666667</td></tr><tr><td>&quot;male&quot;</td><td>&quot;group D&quot;</td><td>&quot;high school&quot;</td><td>&quot;free/reduced&quot;</td><td>&quot;completed&quot;</td><td>64</td><td>64</td><td>67</td><td>65.0</td></tr><tr><td>&quot;female&quot;</td><td>&quot;group B&quot;</td><td>&quot;high school&quot;</td><td>&quot;free/reduced&quot;</td><td>&quot;none&quot;</td><td>38</td><td>60</td><td>50</td><td>49.333333</td></tr><tr><td>&quot;male&quot;</td><td>&quot;group C&quot;</td><td>&quot;associate&#x27;s de…</td><td>&quot;standard&quot;</td><td>&quot;none&quot;</td><td>58</td><td>54</td><td>52</td><td>54.666667</td></tr><tr><td>&quot;male&quot;</td><td>&quot;group D&quot;</td><td>&quot;associate&#x27;s de…</td><td>&quot;standard&quot;</td><td>&quot;none&quot;</td><td>40</td><td>52</td><td>43</td><td>45.0</td></tr><tr><td>&hellip;</td><td>&hellip;</td><td>&hellip;</td><td>&hellip;</td><td>&hellip;</td><td>&hellip;</td><td>&hellip;</td><td>&hellip;</td><td>&hellip;</td></tr><tr><td>&quot;female&quot;</td><td>&quot;group A&quot;</td><td>&quot;some high scho…</td><td>&quot;free/reduced&quot;</td><td>&quot;none&quot;</td><td>44</td><td>45</td><td>45</td><td>44.666667</td></tr><tr><td>&quot;female&quot;</td><td>&quot;group D&quot;</td><td>&quot;some college&quot;</td><td>&quot;free/reduced&quot;</td><td>&quot;completed&quot;</td><td>67</td><td>86</td><td>83</td><td>78.666667</td></tr><tr><td>&quot;male&quot;</td><td>&quot;group E&quot;</td><td>&quot;high school&quot;</td><td>&quot;free/reduced&quot;</td><td>&quot;completed&quot;</td><td>86</td><td>81</td><td>75</td><td>80.666667</td></tr><tr><td>&quot;female&quot;</td><td>&quot;group B&quot;</td><td>&quot;some high scho…</td><td>&quot;standard&quot;</td><td>&quot;completed&quot;</td><td>65</td><td>82</td><td>78</td><td>75.0</td></tr><tr><td>&quot;female&quot;</td><td>&quot;group D&quot;</td><td>&quot;associate&#x27;s de…</td><td>&quot;free/reduced&quot;</td><td>&quot;none&quot;</td><td>55</td><td>76</td><td>76</td><td>69.0</td></tr><tr><td>&quot;female&quot;</td><td>&quot;group D&quot;</td><td>&quot;bachelor&#x27;s deg…</td><td>&quot;free/reduced&quot;</td><td>&quot;none&quot;</td><td>62</td><td>72</td><td>74</td><td>69.333333</td></tr><tr><td>&quot;male&quot;</td><td>&quot;group A&quot;</td><td>&quot;high school&quot;</td><td>&quot;standard&quot;</td><td>&quot;none&quot;</td><td>63</td><td>63</td><td>62</td><td>62.666667</td></tr><tr><td>&quot;female&quot;</td><td>&quot;group E&quot;</td><td>&quot;master&#x27;s degre…</td><td>&quot;standard&quot;</td><td>&quot;completed&quot;</td><td>88</td><td>99</td><td>95</td><td>94.0</td></tr><tr><td>&quot;male&quot;</td><td>&quot;group C&quot;</td><td>&quot;high school&quot;</td><td>&quot;free/reduced&quot;</td><td>&quot;none&quot;</td><td>62</td><td>55</td><td>55</td><td>57.333333</td></tr><tr><td>&quot;female&quot;</td><td>&quot;group C&quot;</td><td>&quot;high school&quot;</td><td>&quot;free/reduced&quot;</td><td>&quot;completed&quot;</td><td>59</td><td>71</td><td>65</td><td>65.0</td></tr><tr><td>&quot;female&quot;</td><td>&quot;group D&quot;</td><td>&quot;some college&quot;</td><td>&quot;standard&quot;</td><td>&quot;completed&quot;</td><td>68</td><td>78</td><td>77</td><td>74.333333</td></tr><tr><td>&quot;female&quot;</td><td>&quot;group D&quot;</td><td>&quot;some college&quot;</td><td>&quot;free/reduced&quot;</td><td>&quot;none&quot;</td><td>77</td><td>86</td><td>86</td><td>83.0</td></tr></tbody></table></div>"
      ],
      "text/plain": [
       "shape: (1_000, 9)\n",
       "┌────────┬────────────────┬────────────────┬──────────────┬───┬────────────┬───────────────┬───────────────┬───────────┐\n",
       "│ gender ┆ race/ethnicity ┆ parental level ┆ lunch        ┆ … ┆ math score ┆ reading score ┆ writing score ┆ Promedio  │\n",
       "│ ---    ┆ ---            ┆ of education   ┆ ---          ┆   ┆ ---        ┆ ---           ┆ ---           ┆ ---       │\n",
       "│ str    ┆ str            ┆ ---            ┆ str          ┆   ┆ i64        ┆ i64           ┆ i64           ┆ f64       │\n",
       "│        ┆                ┆ str            ┆              ┆   ┆            ┆               ┆               ┆           │\n",
       "╞════════╪════════════════╪════════════════╪══════════════╪═══╪════════════╪═══════════════╪═══════════════╪═══════════╡\n",
       "│ female ┆ group B        ┆ bachelor's     ┆ standard     ┆ … ┆ 72         ┆ 72            ┆ 74            ┆ 72.666667 │\n",
       "│        ┆                ┆ degree         ┆              ┆   ┆            ┆               ┆               ┆           │\n",
       "│ female ┆ group C        ┆ some college   ┆ standard     ┆ … ┆ 69         ┆ 90            ┆ 88            ┆ 82.333333 │\n",
       "│ female ┆ group B        ┆ master's       ┆ standard     ┆ … ┆ 90         ┆ 95            ┆ 93            ┆ 92.666667 │\n",
       "│        ┆                ┆ degree         ┆              ┆   ┆            ┆               ┆               ┆           │\n",
       "│ male   ┆ group A        ┆ associate's    ┆ free/reduced ┆ … ┆ 47         ┆ 57            ┆ 44            ┆ 49.333333 │\n",
       "│        ┆                ┆ degree         ┆              ┆   ┆            ┆               ┆               ┆           │\n",
       "│ …      ┆ …              ┆ …              ┆ …            ┆ … ┆ …          ┆ …             ┆ …             ┆ …         │\n",
       "│ male   ┆ group C        ┆ high school    ┆ free/reduced ┆ … ┆ 62         ┆ 55            ┆ 55            ┆ 57.333333 │\n",
       "│ female ┆ group C        ┆ high school    ┆ free/reduced ┆ … ┆ 59         ┆ 71            ┆ 65            ┆ 65.0      │\n",
       "│ female ┆ group D        ┆ some college   ┆ standard     ┆ … ┆ 68         ┆ 78            ┆ 77            ┆ 74.333333 │\n",
       "│ female ┆ group D        ┆ some college   ┆ free/reduced ┆ … ┆ 77         ┆ 86            ┆ 86            ┆ 83.0      │\n",
       "└────────┴────────────────┴────────────────┴──────────────┴───┴────────────┴───────────────┴───────────────┴───────────┘"
      ]
     },
     "execution_count": 41,
     "metadata": {},
     "output_type": "execute_result"
    }
   ],
   "source": [
    "df.with_columns(((\n",
    "                pl.col('math score') +\n",
    "                pl.col('reading score') +\n",
    "                pl.col('writing score'))/3).alias('Promedio'))"
   ]
  },
  {
   "cell_type": "markdown",
   "id": "7f812586",
   "metadata": {},
   "source": [
    "### Funciones `pl.head()` y `pl.tail()`"
   ]
  },
  {
   "cell_type": "markdown",
   "id": "86ebe1c5",
   "metadata": {},
   "source": [
    "Si deseamos ver los primeros datos de una data, utilizamos `df.head()`. En caso contrario, si deseamos ver los últimos datos, utilizamos `df.tail()`."
   ]
  },
  {
   "cell_type": "code",
   "execution_count": 77,
   "id": "d6a3f1a7",
   "metadata": {
    "scrolled": false
   },
   "outputs": [
    {
     "data": {
      "text/html": [
       "<div><style>\n",
       ".dataframe > thead > tr > th,\n",
       ".dataframe > tbody > tr > td {\n",
       "  text-align: right;\n",
       "}\n",
       "</style>\n",
       "<small>shape: (5, 8)</small><table border=\"1\" class=\"dataframe\"><thead><tr><th>gender</th><th>race/ethnicity</th><th>parental level of education</th><th>lunch</th><th>test preparation course</th><th>math score</th><th>reading score</th><th>writing score</th></tr><tr><td>str</td><td>str</td><td>str</td><td>str</td><td>str</td><td>i64</td><td>i64</td><td>i64</td></tr></thead><tbody><tr><td>&quot;female&quot;</td><td>&quot;group B&quot;</td><td>&quot;bachelor&#x27;s deg…</td><td>&quot;standard&quot;</td><td>&quot;none&quot;</td><td>72</td><td>72</td><td>74</td></tr><tr><td>&quot;female&quot;</td><td>&quot;group C&quot;</td><td>&quot;some college&quot;</td><td>&quot;standard&quot;</td><td>&quot;completed&quot;</td><td>69</td><td>90</td><td>88</td></tr><tr><td>&quot;female&quot;</td><td>&quot;group B&quot;</td><td>&quot;master&#x27;s degre…</td><td>&quot;standard&quot;</td><td>&quot;none&quot;</td><td>90</td><td>95</td><td>93</td></tr><tr><td>&quot;male&quot;</td><td>&quot;group A&quot;</td><td>&quot;associate&#x27;s de…</td><td>&quot;free/reduced&quot;</td><td>&quot;none&quot;</td><td>47</td><td>57</td><td>44</td></tr><tr><td>&quot;male&quot;</td><td>&quot;group C&quot;</td><td>&quot;some college&quot;</td><td>&quot;standard&quot;</td><td>&quot;none&quot;</td><td>76</td><td>78</td><td>75</td></tr></tbody></table></div>"
      ],
      "text/plain": [
       "shape: (5, 8)\n",
       "┌────────┬────────────────┬────────────────┬──────────────┬───────────────┬────────────┬───────────────┬───────────────┐\n",
       "│ gender ┆ race/ethnicity ┆ parental level ┆ lunch        ┆ test          ┆ math score ┆ reading score ┆ writing score │\n",
       "│ ---    ┆ ---            ┆ of education   ┆ ---          ┆ preparation   ┆ ---        ┆ ---           ┆ ---           │\n",
       "│ str    ┆ str            ┆ ---            ┆ str          ┆ course        ┆ i64        ┆ i64           ┆ i64           │\n",
       "│        ┆                ┆ str            ┆              ┆ ---           ┆            ┆               ┆               │\n",
       "│        ┆                ┆                ┆              ┆ str           ┆            ┆               ┆               │\n",
       "╞════════╪════════════════╪════════════════╪══════════════╪═══════════════╪════════════╪═══════════════╪═══════════════╡\n",
       "│ female ┆ group B        ┆ bachelor's     ┆ standard     ┆ none          ┆ 72         ┆ 72            ┆ 74            │\n",
       "│        ┆                ┆ degree         ┆              ┆               ┆            ┆               ┆               │\n",
       "│ female ┆ group C        ┆ some college   ┆ standard     ┆ completed     ┆ 69         ┆ 90            ┆ 88            │\n",
       "│ female ┆ group B        ┆ master's       ┆ standard     ┆ none          ┆ 90         ┆ 95            ┆ 93            │\n",
       "│        ┆                ┆ degree         ┆              ┆               ┆            ┆               ┆               │\n",
       "│ male   ┆ group A        ┆ associate's    ┆ free/reduced ┆ none          ┆ 47         ┆ 57            ┆ 44            │\n",
       "│        ┆                ┆ degree         ┆              ┆               ┆            ┆               ┆               │\n",
       "│ male   ┆ group C        ┆ some college   ┆ standard     ┆ none          ┆ 76         ┆ 78            ┆ 75            │\n",
       "└────────┴────────────────┴────────────────┴──────────────┴───────────────┴────────────┴───────────────┴───────────────┘"
      ]
     },
     "execution_count": 77,
     "metadata": {},
     "output_type": "execute_result"
    }
   ],
   "source": [
    "df.head()"
   ]
  },
  {
   "cell_type": "code",
   "execution_count": 46,
   "id": "bbf8e7f3",
   "metadata": {},
   "outputs": [
    {
     "data": {
      "text/html": [
       "<div><style>\n",
       ".dataframe > thead > tr > th,\n",
       ".dataframe > tbody > tr > td {\n",
       "  text-align: right;\n",
       "}\n",
       "</style>\n",
       "<small>shape: (5, 8)</small><table border=\"1\" class=\"dataframe\"><thead><tr><th>gender</th><th>race/ethnicity</th><th>parental level of education</th><th>lunch</th><th>test preparation course</th><th>math score</th><th>reading score</th><th>writing score</th></tr><tr><td>str</td><td>str</td><td>str</td><td>str</td><td>str</td><td>i64</td><td>i64</td><td>i64</td></tr></thead><tbody><tr><td>&quot;female&quot;</td><td>&quot;group E&quot;</td><td>&quot;master&#x27;s degre…</td><td>&quot;standard&quot;</td><td>&quot;completed&quot;</td><td>88</td><td>99</td><td>95</td></tr><tr><td>&quot;male&quot;</td><td>&quot;group C&quot;</td><td>&quot;high school&quot;</td><td>&quot;free/reduced&quot;</td><td>&quot;none&quot;</td><td>62</td><td>55</td><td>55</td></tr><tr><td>&quot;female&quot;</td><td>&quot;group C&quot;</td><td>&quot;high school&quot;</td><td>&quot;free/reduced&quot;</td><td>&quot;completed&quot;</td><td>59</td><td>71</td><td>65</td></tr><tr><td>&quot;female&quot;</td><td>&quot;group D&quot;</td><td>&quot;some college&quot;</td><td>&quot;standard&quot;</td><td>&quot;completed&quot;</td><td>68</td><td>78</td><td>77</td></tr><tr><td>&quot;female&quot;</td><td>&quot;group D&quot;</td><td>&quot;some college&quot;</td><td>&quot;free/reduced&quot;</td><td>&quot;none&quot;</td><td>77</td><td>86</td><td>86</td></tr></tbody></table></div>"
      ],
      "text/plain": [
       "shape: (5, 8)\n",
       "┌────────┬────────────────┬────────────────┬──────────────┬───────────────┬────────────┬───────────────┬───────────────┐\n",
       "│ gender ┆ race/ethnicity ┆ parental level ┆ lunch        ┆ test          ┆ math score ┆ reading score ┆ writing score │\n",
       "│ ---    ┆ ---            ┆ of education   ┆ ---          ┆ preparation   ┆ ---        ┆ ---           ┆ ---           │\n",
       "│ str    ┆ str            ┆ ---            ┆ str          ┆ course        ┆ i64        ┆ i64           ┆ i64           │\n",
       "│        ┆                ┆ str            ┆              ┆ ---           ┆            ┆               ┆               │\n",
       "│        ┆                ┆                ┆              ┆ str           ┆            ┆               ┆               │\n",
       "╞════════╪════════════════╪════════════════╪══════════════╪═══════════════╪════════════╪═══════════════╪═══════════════╡\n",
       "│ female ┆ group E        ┆ master's       ┆ standard     ┆ completed     ┆ 88         ┆ 99            ┆ 95            │\n",
       "│        ┆                ┆ degree         ┆              ┆               ┆            ┆               ┆               │\n",
       "│ male   ┆ group C        ┆ high school    ┆ free/reduced ┆ none          ┆ 62         ┆ 55            ┆ 55            │\n",
       "│ female ┆ group C        ┆ high school    ┆ free/reduced ┆ completed     ┆ 59         ┆ 71            ┆ 65            │\n",
       "│ female ┆ group D        ┆ some college   ┆ standard     ┆ completed     ┆ 68         ┆ 78            ┆ 77            │\n",
       "│ female ┆ group D        ┆ some college   ┆ free/reduced ┆ none          ┆ 77         ┆ 86            ┆ 86            │\n",
       "└────────┴────────────────┴────────────────┴──────────────┴───────────────┴────────────┴───────────────┴───────────────┘"
      ]
     },
     "execution_count": 46,
     "metadata": {},
     "output_type": "execute_result"
    }
   ],
   "source": [
    "df.tail()"
   ]
  },
  {
   "cell_type": "markdown",
   "id": "54ede4f6",
   "metadata": {},
   "source": [
    "### Función `df[]`"
   ]
  },
  {
   "cell_type": "markdown",
   "id": "15482a5b",
   "metadata": {},
   "source": [
    "Mientas función `pl.select()` nos permite seleccionar columnas, la función `df[]` nos permite seleccionar columnas, filas o datos de la tabla en específico."
   ]
  },
  {
   "cell_type": "markdown",
   "id": "8654e246",
   "metadata": {},
   "source": [
    "#### Seleccionando una o varias columnas"
   ]
  },
  {
   "cell_type": "code",
   "execution_count": 78,
   "id": "b80171b6",
   "metadata": {},
   "outputs": [
    {
     "data": {
      "text/html": [
       "<div><style>\n",
       ".dataframe > thead > tr > th,\n",
       ".dataframe > tbody > tr > td {\n",
       "  text-align: right;\n",
       "}\n",
       "</style>\n",
       "<small>shape: (5, 2)</small><table border=\"1\" class=\"dataframe\"><thead><tr><th>race/ethnicity</th><th>parental level of education</th></tr><tr><td>str</td><td>str</td></tr></thead><tbody><tr><td>&quot;group B&quot;</td><td>&quot;bachelor&#x27;s deg…</td></tr><tr><td>&quot;group C&quot;</td><td>&quot;some college&quot;</td></tr><tr><td>&quot;group B&quot;</td><td>&quot;master&#x27;s degre…</td></tr><tr><td>&quot;group A&quot;</td><td>&quot;associate&#x27;s de…</td></tr><tr><td>&quot;group C&quot;</td><td>&quot;some college&quot;</td></tr></tbody></table></div>"
      ],
      "text/plain": [
       "shape: (5, 2)\n",
       "┌────────────────┬─────────────────────────────┐\n",
       "│ race/ethnicity ┆ parental level of education │\n",
       "│ ---            ┆ ---                         │\n",
       "│ str            ┆ str                         │\n",
       "╞════════════════╪═════════════════════════════╡\n",
       "│ group B        ┆ bachelor's degree           │\n",
       "│ group C        ┆ some college                │\n",
       "│ group B        ┆ master's degree             │\n",
       "│ group A        ┆ associate's degree          │\n",
       "│ group C        ┆ some college                │\n",
       "└────────────────┴─────────────────────────────┘"
      ]
     },
     "execution_count": 78,
     "metadata": {},
     "output_type": "execute_result"
    }
   ],
   "source": [
    "df[: ,1:3].head()"
   ]
  },
  {
   "cell_type": "code",
   "execution_count": 79,
   "id": "24daa9d3",
   "metadata": {},
   "outputs": [
    {
     "data": {
      "text/html": [
       "<div><style>\n",
       ".dataframe > thead > tr > th,\n",
       ".dataframe > tbody > tr > td {\n",
       "  text-align: right;\n",
       "}\n",
       "</style>\n",
       "<small>shape: (5, 2)</small><table border=\"1\" class=\"dataframe\"><thead><tr><th>race/ethnicity</th><th>gender</th></tr><tr><td>str</td><td>str</td></tr></thead><tbody><tr><td>&quot;group B&quot;</td><td>&quot;female&quot;</td></tr><tr><td>&quot;group C&quot;</td><td>&quot;female&quot;</td></tr><tr><td>&quot;group B&quot;</td><td>&quot;female&quot;</td></tr><tr><td>&quot;group A&quot;</td><td>&quot;male&quot;</td></tr><tr><td>&quot;group C&quot;</td><td>&quot;male&quot;</td></tr></tbody></table></div>"
      ],
      "text/plain": [
       "shape: (5, 2)\n",
       "┌────────────────┬────────┐\n",
       "│ race/ethnicity ┆ gender │\n",
       "│ ---            ┆ ---    │\n",
       "│ str            ┆ str    │\n",
       "╞════════════════╪════════╡\n",
       "│ group B        ┆ female │\n",
       "│ group C        ┆ female │\n",
       "│ group B        ┆ female │\n",
       "│ group A        ┆ male   │\n",
       "│ group C        ┆ male   │\n",
       "└────────────────┴────────┘"
      ]
     },
     "execution_count": 79,
     "metadata": {},
     "output_type": "execute_result"
    }
   ],
   "source": [
    "df[:,['race/ethnicity','gender']].head()"
   ]
  },
  {
   "cell_type": "markdown",
   "id": "45aa500e",
   "metadata": {},
   "source": [
    "#### Seleccionando una o varias filas"
   ]
  },
  {
   "cell_type": "code",
   "execution_count": 93,
   "id": "a620344b",
   "metadata": {
    "scrolled": true
   },
   "outputs": [
    {
     "data": {
      "text/html": [
       "<div><style>\n",
       ".dataframe > thead > tr > th,\n",
       ".dataframe > tbody > tr > td {\n",
       "  text-align: right;\n",
       "}\n",
       "</style>\n",
       "<small>shape: (6, 8)</small><table border=\"1\" class=\"dataframe\"><thead><tr><th>gender</th><th>race/ethnicity</th><th>parental level of education</th><th>lunch</th><th>test preparation course</th><th>math score</th><th>reading score</th><th>writing score</th></tr><tr><td>str</td><td>str</td><td>str</td><td>str</td><td>str</td><td>i64</td><td>i64</td><td>i64</td></tr></thead><tbody><tr><td>&quot;male&quot;</td><td>&quot;group C&quot;</td><td>&quot;some college&quot;</td><td>&quot;standard&quot;</td><td>&quot;none&quot;</td><td>76</td><td>78</td><td>75</td></tr><tr><td>&quot;female&quot;</td><td>&quot;group B&quot;</td><td>&quot;associate&#x27;s de…</td><td>&quot;standard&quot;</td><td>&quot;none&quot;</td><td>71</td><td>83</td><td>78</td></tr><tr><td>&quot;female&quot;</td><td>&quot;group B&quot;</td><td>&quot;some college&quot;</td><td>&quot;standard&quot;</td><td>&quot;completed&quot;</td><td>88</td><td>95</td><td>92</td></tr><tr><td>&quot;male&quot;</td><td>&quot;group B&quot;</td><td>&quot;some college&quot;</td><td>&quot;free/reduced&quot;</td><td>&quot;none&quot;</td><td>40</td><td>43</td><td>39</td></tr><tr><td>&quot;male&quot;</td><td>&quot;group D&quot;</td><td>&quot;high school&quot;</td><td>&quot;free/reduced&quot;</td><td>&quot;completed&quot;</td><td>64</td><td>64</td><td>67</td></tr><tr><td>&quot;female&quot;</td><td>&quot;group B&quot;</td><td>&quot;high school&quot;</td><td>&quot;free/reduced&quot;</td><td>&quot;none&quot;</td><td>38</td><td>60</td><td>50</td></tr></tbody></table></div>"
      ],
      "text/plain": [
       "shape: (6, 8)\n",
       "┌────────┬────────────────┬────────────────┬──────────────┬───────────────┬────────────┬───────────────┬───────────────┐\n",
       "│ gender ┆ race/ethnicity ┆ parental level ┆ lunch        ┆ test          ┆ math score ┆ reading score ┆ writing score │\n",
       "│ ---    ┆ ---            ┆ of education   ┆ ---          ┆ preparation   ┆ ---        ┆ ---           ┆ ---           │\n",
       "│ str    ┆ str            ┆ ---            ┆ str          ┆ course        ┆ i64        ┆ i64           ┆ i64           │\n",
       "│        ┆                ┆ str            ┆              ┆ ---           ┆            ┆               ┆               │\n",
       "│        ┆                ┆                ┆              ┆ str           ┆            ┆               ┆               │\n",
       "╞════════╪════════════════╪════════════════╪══════════════╪═══════════════╪════════════╪═══════════════╪═══════════════╡\n",
       "│ male   ┆ group C        ┆ some college   ┆ standard     ┆ none          ┆ 76         ┆ 78            ┆ 75            │\n",
       "│ female ┆ group B        ┆ associate's    ┆ standard     ┆ none          ┆ 71         ┆ 83            ┆ 78            │\n",
       "│        ┆                ┆ degree         ┆              ┆               ┆            ┆               ┆               │\n",
       "│ female ┆ group B        ┆ some college   ┆ standard     ┆ completed     ┆ 88         ┆ 95            ┆ 92            │\n",
       "│ male   ┆ group B        ┆ some college   ┆ free/reduced ┆ none          ┆ 40         ┆ 43            ┆ 39            │\n",
       "│ male   ┆ group D        ┆ high school    ┆ free/reduced ┆ completed     ┆ 64         ┆ 64            ┆ 67            │\n",
       "│ female ┆ group B        ┆ high school    ┆ free/reduced ┆ none          ┆ 38         ┆ 60            ┆ 50            │\n",
       "└────────┴────────────────┴────────────────┴──────────────┴───────────────┴────────────┴───────────────┴───────────────┘"
      ]
     },
     "execution_count": 93,
     "metadata": {},
     "output_type": "execute_result"
    }
   ],
   "source": [
    "df[4:10,:]"
   ]
  },
  {
   "cell_type": "markdown",
   "id": "ec8d9df6",
   "metadata": {},
   "source": [
    "#### Seleccionando un dato"
   ]
  },
  {
   "cell_type": "code",
   "execution_count": 95,
   "id": "87307bc6",
   "metadata": {},
   "outputs": [
    {
     "data": {
      "text/html": [
       "<div><style>\n",
       ".dataframe > thead > tr > th,\n",
       ".dataframe > tbody > tr > td {\n",
       "  text-align: right;\n",
       "}\n",
       "</style>\n",
       "<small>shape: (5, 8)</small><table border=\"1\" class=\"dataframe\"><thead><tr><th>gender</th><th>race/ethnicity</th><th>parental level of education</th><th>lunch</th><th>test preparation course</th><th>math score</th><th>reading score</th><th>writing score</th></tr><tr><td>str</td><td>str</td><td>str</td><td>str</td><td>str</td><td>i64</td><td>i64</td><td>i64</td></tr></thead><tbody><tr><td>&quot;female&quot;</td><td>&quot;group B&quot;</td><td>&quot;bachelor&#x27;s deg…</td><td>&quot;standard&quot;</td><td>&quot;none&quot;</td><td>72</td><td>72</td><td>74</td></tr><tr><td>&quot;female&quot;</td><td>&quot;group C&quot;</td><td>&quot;some college&quot;</td><td>&quot;standard&quot;</td><td>&quot;completed&quot;</td><td>69</td><td>90</td><td>88</td></tr><tr><td>&quot;female&quot;</td><td>&quot;group B&quot;</td><td>&quot;master&#x27;s degre…</td><td>&quot;standard&quot;</td><td>&quot;none&quot;</td><td>90</td><td>95</td><td>93</td></tr><tr><td>&quot;male&quot;</td><td>&quot;group A&quot;</td><td>&quot;associate&#x27;s de…</td><td>&quot;free/reduced&quot;</td><td>&quot;none&quot;</td><td>47</td><td>57</td><td>44</td></tr><tr><td>&quot;male&quot;</td><td>&quot;group C&quot;</td><td>&quot;some college&quot;</td><td>&quot;standard&quot;</td><td>&quot;none&quot;</td><td>76</td><td>78</td><td>75</td></tr></tbody></table></div>"
      ],
      "text/plain": [
       "shape: (5, 8)\n",
       "┌────────┬────────────────┬────────────────┬──────────────┬───────────────┬────────────┬───────────────┬───────────────┐\n",
       "│ gender ┆ race/ethnicity ┆ parental level ┆ lunch        ┆ test          ┆ math score ┆ reading score ┆ writing score │\n",
       "│ ---    ┆ ---            ┆ of education   ┆ ---          ┆ preparation   ┆ ---        ┆ ---           ┆ ---           │\n",
       "│ str    ┆ str            ┆ ---            ┆ str          ┆ course        ┆ i64        ┆ i64           ┆ i64           │\n",
       "│        ┆                ┆ str            ┆              ┆ ---           ┆            ┆               ┆               │\n",
       "│        ┆                ┆                ┆              ┆ str           ┆            ┆               ┆               │\n",
       "╞════════╪════════════════╪════════════════╪══════════════╪═══════════════╪════════════╪═══════════════╪═══════════════╡\n",
       "│ female ┆ group B        ┆ bachelor's     ┆ standard     ┆ none          ┆ 72         ┆ 72            ┆ 74            │\n",
       "│        ┆                ┆ degree         ┆              ┆               ┆            ┆               ┆               │\n",
       "│ female ┆ group C        ┆ some college   ┆ standard     ┆ completed     ┆ 69         ┆ 90            ┆ 88            │\n",
       "│ female ┆ group B        ┆ master's       ┆ standard     ┆ none          ┆ 90         ┆ 95            ┆ 93            │\n",
       "│        ┆                ┆ degree         ┆              ┆               ┆            ┆               ┆               │\n",
       "│ male   ┆ group A        ┆ associate's    ┆ free/reduced ┆ none          ┆ 47         ┆ 57            ┆ 44            │\n",
       "│        ┆                ┆ degree         ┆              ┆               ┆            ┆               ┆               │\n",
       "│ male   ┆ group C        ┆ some college   ┆ standard     ┆ none          ┆ 76         ┆ 78            ┆ 75            │\n",
       "└────────┴────────────────┴────────────────┴──────────────┴───────────────┴────────────┴───────────────┴───────────────┘"
      ]
     },
     "execution_count": 95,
     "metadata": {},
     "output_type": "execute_result"
    }
   ],
   "source": [
    "df.head()"
   ]
  },
  {
   "cell_type": "code",
   "execution_count": 98,
   "id": "e8f91982",
   "metadata": {},
   "outputs": [
    {
     "data": {
      "text/plain": [
       "'standard'"
      ]
     },
     "execution_count": 98,
     "metadata": {},
     "output_type": "execute_result"
    }
   ],
   "source": [
    "df[0,3]"
   ]
  },
  {
   "cell_type": "code",
   "execution_count": 100,
   "id": "93e41617",
   "metadata": {},
   "outputs": [
    {
     "data": {
      "text/plain": [
       "'standard'"
      ]
     },
     "execution_count": 100,
     "metadata": {},
     "output_type": "execute_result"
    }
   ],
   "source": [
    "df[0,'lunch']"
   ]
  }
 ],
 "metadata": {
  "kernelspec": {
   "display_name": "Python 3 (ipykernel)",
   "language": "python",
   "name": "python3"
  },
  "language_info": {
   "codemirror_mode": {
    "name": "ipython",
    "version": 3
   },
   "file_extension": ".py",
   "mimetype": "text/x-python",
   "name": "python",
   "nbconvert_exporter": "python",
   "pygments_lexer": "ipython3",
   "version": "3.9.13"
  },
  "toc": {
   "base_numbering": "2",
   "nav_menu": {
    "height": "209px",
    "width": "315px"
   },
   "number_sections": true,
   "sideBar": true,
   "skip_h1_title": true,
   "title_cell": "Índice",
   "title_sidebar": "Contenidos",
   "toc_cell": true,
   "toc_position": {
    "height": "calc(100% - 180px)",
    "left": "10px",
    "top": "150px",
    "width": "324.4px"
   },
   "toc_section_display": true,
   "toc_window_display": true
  }
 },
 "nbformat": 4,
 "nbformat_minor": 5
}
