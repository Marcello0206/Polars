{
 "cells": [
  {
   "cell_type": "markdown",
   "id": "6e06ae51",
   "metadata": {
    "toc": true
   },
   "source": [
    "<h1>Índice<span class=\"tocSkip\"></span></h1>\n",
    "<div class=\"toc\"><ul class=\"toc-item\"><li><span><a href=\"#Coders\" data-toc-modified-id=\"Coders-2\"><span class=\"toc-item-num\">2&nbsp;&nbsp;</span>Coders</a></span></li><li><span><a href=\"#Introducción\" data-toc-modified-id=\"Introducción-3\"><span class=\"toc-item-num\">3&nbsp;&nbsp;</span>Introducción</a></span><ul class=\"toc-item\"><li><span><a href=\"#¿Qué-es-Polars?\" data-toc-modified-id=\"¿Qué-es-Polars?-3.1\"><span class=\"toc-item-num\">3.1&nbsp;&nbsp;</span>¿Qué es Polars?</a></span></li><li><span><a href=\"#Instalación-de-Polars\" data-toc-modified-id=\"Instalación-de-Polars-3.2\"><span class=\"toc-item-num\">3.2&nbsp;&nbsp;</span>Instalación de Polars</a></span></li><li><span><a href=\"#Datos-a-usar\" data-toc-modified-id=\"Datos-a-usar-3.3\"><span class=\"toc-item-num\">3.3&nbsp;&nbsp;</span>Datos a usar</a></span></li></ul></li><li><span><a href=\"#Funciones\" data-toc-modified-id=\"Funciones-4\"><span class=\"toc-item-num\">4&nbsp;&nbsp;</span>Funciones</a></span><ul class=\"toc-item\"><li><span><a href=\"#Lectura-y-limpieza-de-datos\" data-toc-modified-id=\"Lectura-y-limpieza-de-datos-4.1\"><span class=\"toc-item-num\">4.1&nbsp;&nbsp;</span>Lectura y limpieza de datos</a></span><ul class=\"toc-item\"><li><span><a href=\"#Función-pl.read_csv()\" data-toc-modified-id=\"Función-pl.read_csv()-4.1.1\"><span class=\"toc-item-num\">4.1.1&nbsp;&nbsp;</span>Función <code>pl.read_csv()</code></a></span></li><li><span><a href=\"#Función-pl.null_count()\" data-toc-modified-id=\"Función-pl.null_count()-4.1.2\"><span class=\"toc-item-num\">4.1.2&nbsp;&nbsp;</span>Función <code>pl.null_count()</code></a></span></li></ul></li><li><span><a href=\"#Medidas-estadísticas\" data-toc-modified-id=\"Medidas-estadísticas-4.2\"><span class=\"toc-item-num\">4.2&nbsp;&nbsp;</span>Medidas estadísticas</a></span><ul class=\"toc-item\"><li><span><a href=\"#Función-pl.sum()\" data-toc-modified-id=\"Función-pl.sum()-4.2.1\"><span class=\"toc-item-num\">4.2.1&nbsp;&nbsp;</span>Función <code>pl.sum()</code></a></span></li><li><span><a href=\"#Función-pl.mean()\" data-toc-modified-id=\"Función-pl.mean()-4.2.2\"><span class=\"toc-item-num\">4.2.2&nbsp;&nbsp;</span>Función <code>pl.mean()</code></a></span></li><li><span><a href=\"#Función-pl.describe()\" data-toc-modified-id=\"Función-pl.describe()-4.2.3\"><span class=\"toc-item-num\">4.2.3&nbsp;&nbsp;</span>Función <code>pl.describe()</code></a></span></li></ul></li><li><span><a href=\"#Manipulación-de-datos\" data-toc-modified-id=\"Manipulación-de-datos-4.3\"><span class=\"toc-item-num\">4.3&nbsp;&nbsp;</span>Manipulación de datos</a></span><ul class=\"toc-item\"><li><span><a href=\"#Función-pl.columns\" data-toc-modified-id=\"Función-pl.columns-4.3.1\"><span class=\"toc-item-num\">4.3.1&nbsp;&nbsp;</span>Función <code>pl.columns</code></a></span></li><li><span><a href=\"#Función-pl.select()\" data-toc-modified-id=\"Función-pl.select()-4.3.2\"><span class=\"toc-item-num\">4.3.2&nbsp;&nbsp;</span>Función <code>pl.select()</code></a></span><ul class=\"toc-item\"><li><span><a href=\"#Seleccionando-una-columna\" data-toc-modified-id=\"Seleccionando-una-columna-4.3.2.1\"><span class=\"toc-item-num\">4.3.2.1&nbsp;&nbsp;</span>Seleccionando una columna</a></span></li><li><span><a href=\"#Seleccionando-dos-o-más-columnas\" data-toc-modified-id=\"Seleccionando-dos-o-más-columnas-4.3.2.2\"><span class=\"toc-item-num\">4.3.2.2&nbsp;&nbsp;</span>Seleccionando dos o más columnas</a></span></li></ul></li><li><span><a href=\"#Función-pl.with_columns()\" data-toc-modified-id=\"Función-pl.with_columns()-4.3.3\"><span class=\"toc-item-num\">4.3.3&nbsp;&nbsp;</span>Función <code>pl.with_columns()</code></a></span></li><li><span><a href=\"#Funciones-pl.head()-y-pl.tail()\" data-toc-modified-id=\"Funciones-pl.head()-y-pl.tail()-4.3.4\"><span class=\"toc-item-num\">4.3.4&nbsp;&nbsp;</span>Funciones <code>pl.head()</code> y <code>pl.tail()</code></a></span></li><li><span><a href=\"#Función-df[]\" data-toc-modified-id=\"Función-df[]-4.3.5\"><span class=\"toc-item-num\">4.3.5&nbsp;&nbsp;</span>Función <code>df[]</code></a></span><ul class=\"toc-item\"><li><span><a href=\"#Seleccionando-una-o-varias-columnas\" data-toc-modified-id=\"Seleccionando-una-o-varias-columnas-4.3.5.1\"><span class=\"toc-item-num\">4.3.5.1&nbsp;&nbsp;</span>Seleccionando una o varias columnas</a></span></li><li><span><a href=\"#Seleccionando-una-o-varias-filas\" data-toc-modified-id=\"Seleccionando-una-o-varias-filas-4.3.5.2\"><span class=\"toc-item-num\">4.3.5.2&nbsp;&nbsp;</span>Seleccionando una o varias filas</a></span></li><li><span><a href=\"#Seleccionando-un-dato\" data-toc-modified-id=\"Seleccionando-un-dato-4.3.5.3\"><span class=\"toc-item-num\">4.3.5.3&nbsp;&nbsp;</span>Seleccionando un dato</a></span></li></ul></li><li><span><a href=\"#Función-pl.groupby()\" data-toc-modified-id=\"Función-pl.groupby()-4.3.6\"><span class=\"toc-item-num\">4.3.6&nbsp;&nbsp;</span>Función <code>pl.groupby()</code></a></span></li><li><span><a href=\"#Función-pl.sort()\" data-toc-modified-id=\"Función-pl.sort()-4.3.7\"><span class=\"toc-item-num\">4.3.7&nbsp;&nbsp;</span>Función <code>pl.sort()</code></a></span></li><li><span><a href=\"#Función-pl.exclude()\" data-toc-modified-id=\"Función-pl.exclude()-4.3.8\"><span class=\"toc-item-num\">4.3.8&nbsp;&nbsp;</span>Función <code>pl.exclude()</code></a></span></li><li><span><a href=\"#Función-pl.filter()\" data-toc-modified-id=\"Función-pl.filter()-4.3.9\"><span class=\"toc-item-num\">4.3.9&nbsp;&nbsp;</span>Función <code>pl.filter()</code></a></span></li><li><span><a href=\"#Función-pl.fillna()\" data-toc-modified-id=\"Función-pl.fillna()-4.3.10\"><span class=\"toc-item-num\">4.3.10&nbsp;&nbsp;</span>Función <code>pl.fillna()</code></a></span></li><li><span><a href=\"#Función-pl.drop_nulls()\" data-toc-modified-id=\"Función-pl.drop_nulls()-4.3.11\"><span class=\"toc-item-num\">4.3.11&nbsp;&nbsp;</span>Función <code>pl.drop_nulls()</code></a></span></li><li><span><a href=\"#Función-pl.drop()\" data-toc-modified-id=\"Función-pl.drop()-4.3.12\"><span class=\"toc-item-num\">4.3.12&nbsp;&nbsp;</span>Función <code>pl.drop()</code></a></span></li><li><span><a href=\"#Función-pl.transpose()\" data-toc-modified-id=\"Función-pl.transpose()-4.3.13\"><span class=\"toc-item-num\">4.3.13&nbsp;&nbsp;</span>Función <code>pl.transpose()</code></a></span></li><li><span><a href=\"#Función-pl.rename()\" data-toc-modified-id=\"Función-pl.rename()-4.3.14\"><span class=\"toc-item-num\">4.3.14&nbsp;&nbsp;</span>Función <code>pl.rename()</code></a></span></li></ul></li></ul></li></ul></div>"
   ]
  },
  {
   "cell_type": "markdown",
   "id": "991e6bfa",
   "metadata": {},
   "source": [
    "# Guía de uso básica de Polars\n",
    "------"
   ]
  },
  {
   "cell_type": "markdown",
   "id": "af8396f5",
   "metadata": {},
   "source": [
    "## Coders\n",
    "--------------\n",
    "- Anchante Fernandez, Marcello\n",
    "- Batalla Flores, Stephano"
   ]
  },
  {
   "cell_type": "markdown",
   "id": "73400479",
   "metadata": {},
   "source": [
    "![](https://raw.githubusercontent.com/pola-rs/polars-static/master/logos/polars_github_logo_rect_dark_name.svg \"Logo\")"
   ]
  },
  {
   "cell_type": "markdown",
   "id": "157997e3",
   "metadata": {},
   "source": [
    "## Introducción\n",
    "------------"
   ]
  },
  {
   "cell_type": "markdown",
   "id": "e823573b",
   "metadata": {},
   "source": [
    "### ¿Qué es Polars?\n",
    "\n",
    "El paquete Polars es una biblioteca de análisis de datos de código abierto en Python que se centra en la manipulación de datos grandes y complejos. Polars proporciona una alternativa a Pandas y otras bibliotecas de análisis de datos, pero está diseñado específicamente para funcionar con conjuntos de datos más grandes que no caben en la memoria RAM.\n",
    "\n",
    "Polars ofrece una amplia gama de características para el procesamiento de datos, como la selección, filtrado, agregación y transformación de datos. También proporciona herramientas para la creación de gráficos y visualizaciones de datos.\n",
    "\n",
    "Una de las características más destacadas de Polars es su capacidad para trabajar con datos que superan los límites de la memoria RAM. Utiliza una estructura de datos llamada DataFrame Lazy-evaluated, que es una representación de datos que solo se carga en la memoria cuando se necesita.\n",
    "\n",
    "En resumen, el paquete Polars es una biblioteca de análisis de datos de alto rendimiento para Python que se especializa en el procesamiento de grandes conjuntos de datos."
   ]
  },
  {
   "cell_type": "markdown",
   "id": "d5e9c564",
   "metadata": {},
   "source": [
    "### Instalación de Polars"
   ]
  },
  {
   "cell_type": "markdown",
   "id": "08930a40",
   "metadata": {},
   "source": [
    "Para instalar Polars en nuestro sistema, ejecutamos el siguiente código\n",
    "\n",
    "`!pip install polars`\n",
    "\n",
    "Para ejecutar el paquete en el proyecto, escribimos el siguiente código\n",
    "\n",
    "`import polars as pl`"
   ]
  },
  {
   "cell_type": "markdown",
   "id": "68296aeb",
   "metadata": {},
   "source": [
    "### Datos a usar\n",
    "\n",
    "Si deseas descargar la data utilizada, haz click en el siguiente [vínculo](https://drive.google.com/file/d/1DMjvgcPAYiO71LhaBxBELpUPnFN-bBHx/view?usp=sharing)."
   ]
  },
  {
   "cell_type": "markdown",
   "id": "72b0d750",
   "metadata": {},
   "source": [
    "## Funciones \n",
    "\n",
    "-------------"
   ]
  },
  {
   "cell_type": "markdown",
   "id": "60c0e2a0",
   "metadata": {},
   "source": [
    "### Lectura y limpieza de datos"
   ]
  },
  {
   "cell_type": "markdown",
   "id": "2450a697",
   "metadata": {},
   "source": [
    "\n",
    "Al tratarse de un archivo '.csv', utilizaremos la función ```pl.read_csv()``` que nos permitirá leer cualquier archivo de este tipo con facilidad.\n",
    "En este caso, utilizaremos un archivo local y especificaremos la codificación.\n",
    "La función ```pl.head()``` nos permite mostrar las primeras 5 filas de la data."
   ]
  },
  {
   "cell_type": "markdown",
   "id": "9404836a",
   "metadata": {},
   "source": [
    "#### Función ```pl.read_csv()```"
   ]
  },
  {
   "cell_type": "code",
   "execution_count": 2,
   "id": "e97bf61e",
   "metadata": {
    "scrolled": true
   },
   "outputs": [
    {
     "data": {
      "text/html": [
       "<div><style>\n",
       ".dataframe > thead > tr > th,\n",
       ".dataframe > tbody > tr > td {\n",
       "  text-align: right;\n",
       "}\n",
       "</style>\n",
       "<small>shape: (1_000, 8)</small><table border=\"1\" class=\"dataframe\"><thead><tr><th>gender</th><th>race/ethnicity</th><th>parental level of education</th><th>lunch</th><th>test preparation course</th><th>math score</th><th>reading score</th><th>writing score</th></tr><tr><td>str</td><td>str</td><td>str</td><td>str</td><td>str</td><td>i64</td><td>i64</td><td>i64</td></tr></thead><tbody><tr><td>&quot;female&quot;</td><td>&quot;group B&quot;</td><td>&quot;bachelor&#x27;s deg…</td><td>&quot;standard&quot;</td><td>&quot;none&quot;</td><td>72</td><td>72</td><td>74</td></tr><tr><td>&quot;female&quot;</td><td>&quot;group C&quot;</td><td>&quot;some college&quot;</td><td>&quot;standard&quot;</td><td>&quot;completed&quot;</td><td>69</td><td>90</td><td>88</td></tr><tr><td>&quot;female&quot;</td><td>&quot;group B&quot;</td><td>&quot;master&#x27;s degre…</td><td>&quot;standard&quot;</td><td>&quot;none&quot;</td><td>90</td><td>95</td><td>93</td></tr><tr><td>&quot;male&quot;</td><td>&quot;group A&quot;</td><td>&quot;associate&#x27;s de…</td><td>&quot;free/reduced&quot;</td><td>&quot;none&quot;</td><td>47</td><td>57</td><td>44</td></tr><tr><td>&quot;male&quot;</td><td>&quot;group C&quot;</td><td>&quot;some college&quot;</td><td>&quot;standard&quot;</td><td>&quot;none&quot;</td><td>76</td><td>78</td><td>75</td></tr><tr><td>&quot;female&quot;</td><td>&quot;group B&quot;</td><td>&quot;associate&#x27;s de…</td><td>&quot;standard&quot;</td><td>&quot;none&quot;</td><td>71</td><td>83</td><td>78</td></tr><tr><td>&quot;female&quot;</td><td>&quot;group B&quot;</td><td>&quot;some college&quot;</td><td>&quot;standard&quot;</td><td>&quot;completed&quot;</td><td>88</td><td>95</td><td>92</td></tr><tr><td>&quot;male&quot;</td><td>&quot;group B&quot;</td><td>&quot;some college&quot;</td><td>&quot;free/reduced&quot;</td><td>&quot;none&quot;</td><td>40</td><td>43</td><td>39</td></tr><tr><td>&quot;male&quot;</td><td>&quot;group D&quot;</td><td>&quot;high school&quot;</td><td>&quot;free/reduced&quot;</td><td>&quot;completed&quot;</td><td>64</td><td>64</td><td>67</td></tr><tr><td>&quot;female&quot;</td><td>&quot;group B&quot;</td><td>&quot;high school&quot;</td><td>&quot;free/reduced&quot;</td><td>&quot;none&quot;</td><td>38</td><td>60</td><td>50</td></tr><tr><td>&quot;male&quot;</td><td>&quot;group C&quot;</td><td>&quot;associate&#x27;s de…</td><td>&quot;standard&quot;</td><td>&quot;none&quot;</td><td>58</td><td>54</td><td>52</td></tr><tr><td>&quot;male&quot;</td><td>&quot;group D&quot;</td><td>&quot;associate&#x27;s de…</td><td>&quot;standard&quot;</td><td>&quot;none&quot;</td><td>40</td><td>52</td><td>43</td></tr><tr><td>&hellip;</td><td>&hellip;</td><td>&hellip;</td><td>&hellip;</td><td>&hellip;</td><td>&hellip;</td><td>&hellip;</td><td>&hellip;</td></tr><tr><td>&quot;female&quot;</td><td>&quot;group A&quot;</td><td>&quot;some high scho…</td><td>&quot;free/reduced&quot;</td><td>&quot;none&quot;</td><td>44</td><td>45</td><td>45</td></tr><tr><td>&quot;female&quot;</td><td>&quot;group D&quot;</td><td>&quot;some college&quot;</td><td>&quot;free/reduced&quot;</td><td>&quot;completed&quot;</td><td>67</td><td>86</td><td>83</td></tr><tr><td>&quot;male&quot;</td><td>&quot;group E&quot;</td><td>&quot;high school&quot;</td><td>&quot;free/reduced&quot;</td><td>&quot;completed&quot;</td><td>86</td><td>81</td><td>75</td></tr><tr><td>&quot;female&quot;</td><td>&quot;group B&quot;</td><td>&quot;some high scho…</td><td>&quot;standard&quot;</td><td>&quot;completed&quot;</td><td>65</td><td>82</td><td>78</td></tr><tr><td>&quot;female&quot;</td><td>&quot;group D&quot;</td><td>&quot;associate&#x27;s de…</td><td>&quot;free/reduced&quot;</td><td>&quot;none&quot;</td><td>55</td><td>76</td><td>76</td></tr><tr><td>&quot;female&quot;</td><td>&quot;group D&quot;</td><td>&quot;bachelor&#x27;s deg…</td><td>&quot;free/reduced&quot;</td><td>&quot;none&quot;</td><td>62</td><td>72</td><td>74</td></tr><tr><td>&quot;male&quot;</td><td>&quot;group A&quot;</td><td>&quot;high school&quot;</td><td>&quot;standard&quot;</td><td>&quot;none&quot;</td><td>63</td><td>63</td><td>62</td></tr><tr><td>&quot;female&quot;</td><td>&quot;group E&quot;</td><td>&quot;master&#x27;s degre…</td><td>&quot;standard&quot;</td><td>&quot;completed&quot;</td><td>88</td><td>99</td><td>95</td></tr><tr><td>&quot;male&quot;</td><td>&quot;group C&quot;</td><td>&quot;high school&quot;</td><td>&quot;free/reduced&quot;</td><td>&quot;none&quot;</td><td>62</td><td>55</td><td>55</td></tr><tr><td>&quot;female&quot;</td><td>&quot;group C&quot;</td><td>&quot;high school&quot;</td><td>&quot;free/reduced&quot;</td><td>&quot;completed&quot;</td><td>59</td><td>71</td><td>65</td></tr><tr><td>&quot;female&quot;</td><td>&quot;group D&quot;</td><td>&quot;some college&quot;</td><td>&quot;standard&quot;</td><td>&quot;completed&quot;</td><td>68</td><td>78</td><td>77</td></tr><tr><td>&quot;female&quot;</td><td>&quot;group D&quot;</td><td>&quot;some college&quot;</td><td>&quot;free/reduced&quot;</td><td>&quot;none&quot;</td><td>77</td><td>86</td><td>86</td></tr></tbody></table></div>"
      ],
      "text/plain": [
       "shape: (1_000, 8)\n",
       "┌────────┬────────────────┬────────────────┬──────────────┬───────────────┬────────────┬───────────────┬───────────────┐\n",
       "│ gender ┆ race/ethnicity ┆ parental level ┆ lunch        ┆ test          ┆ math score ┆ reading score ┆ writing score │\n",
       "│ ---    ┆ ---            ┆ of education   ┆ ---          ┆ preparation   ┆ ---        ┆ ---           ┆ ---           │\n",
       "│ str    ┆ str            ┆ ---            ┆ str          ┆ course        ┆ i64        ┆ i64           ┆ i64           │\n",
       "│        ┆                ┆ str            ┆              ┆ ---           ┆            ┆               ┆               │\n",
       "│        ┆                ┆                ┆              ┆ str           ┆            ┆               ┆               │\n",
       "╞════════╪════════════════╪════════════════╪══════════════╪═══════════════╪════════════╪═══════════════╪═══════════════╡\n",
       "│ female ┆ group B        ┆ bachelor's     ┆ standard     ┆ none          ┆ 72         ┆ 72            ┆ 74            │\n",
       "│        ┆                ┆ degree         ┆              ┆               ┆            ┆               ┆               │\n",
       "│ female ┆ group C        ┆ some college   ┆ standard     ┆ completed     ┆ 69         ┆ 90            ┆ 88            │\n",
       "│ female ┆ group B        ┆ master's       ┆ standard     ┆ none          ┆ 90         ┆ 95            ┆ 93            │\n",
       "│        ┆                ┆ degree         ┆              ┆               ┆            ┆               ┆               │\n",
       "│ male   ┆ group A        ┆ associate's    ┆ free/reduced ┆ none          ┆ 47         ┆ 57            ┆ 44            │\n",
       "│        ┆                ┆ degree         ┆              ┆               ┆            ┆               ┆               │\n",
       "│ …      ┆ …              ┆ …              ┆ …            ┆ …             ┆ …          ┆ …             ┆ …             │\n",
       "│ male   ┆ group C        ┆ high school    ┆ free/reduced ┆ none          ┆ 62         ┆ 55            ┆ 55            │\n",
       "│ female ┆ group C        ┆ high school    ┆ free/reduced ┆ completed     ┆ 59         ┆ 71            ┆ 65            │\n",
       "│ female ┆ group D        ┆ some college   ┆ standard     ┆ completed     ┆ 68         ┆ 78            ┆ 77            │\n",
       "│ female ┆ group D        ┆ some college   ┆ free/reduced ┆ none          ┆ 77         ┆ 86            ┆ 86            │\n",
       "└────────┴────────────────┴────────────────┴──────────────┴───────────────┴────────────┴───────────────┴───────────────┘"
      ]
     },
     "execution_count": 2,
     "metadata": {},
     "output_type": "execute_result"
    }
   ],
   "source": [
    "import polars as pl\n",
    "\n",
    "df = pl.read_csv('stud_perf_exam.csv',encoding=\"utf-8\")\n",
    "df"
   ]
  },
  {
   "cell_type": "markdown",
   "id": "4d875841",
   "metadata": {},
   "source": [
    "#### Función `pl.null_count()`"
   ]
  },
  {
   "cell_type": "markdown",
   "id": "d2ce60ba",
   "metadata": {},
   "source": [
    "Nos permite contar el número de valores perdidos. En caso de Polars, los valores perdidos son considerados `null`."
   ]
  },
  {
   "cell_type": "code",
   "execution_count": 26,
   "id": "b3984125",
   "metadata": {},
   "outputs": [
    {
     "data": {
      "text/html": [
       "<div><style>\n",
       ".dataframe > thead > tr > th,\n",
       ".dataframe > tbody > tr > td {\n",
       "  text-align: right;\n",
       "}\n",
       "</style>\n",
       "<small>shape: (1, 8)</small><table border=\"1\" class=\"dataframe\"><thead><tr><th>gender</th><th>race/ethnicity</th><th>parental level of education</th><th>lunch</th><th>test preparation course</th><th>math score</th><th>reading score</th><th>writing score</th></tr><tr><td>u32</td><td>u32</td><td>u32</td><td>u32</td><td>u32</td><td>u32</td><td>u32</td><td>u32</td></tr></thead><tbody><tr><td>0</td><td>0</td><td>0</td><td>0</td><td>0</td><td>0</td><td>0</td><td>0</td></tr></tbody></table></div>"
      ],
      "text/plain": [
       "shape: (1, 8)\n",
       "┌────────┬────────────────┬───────────────────┬───────┬───────────────────┬────────────┬───────────────┬───────────────┐\n",
       "│ gender ┆ race/ethnicity ┆ parental level of ┆ lunch ┆ test preparation  ┆ math score ┆ reading score ┆ writing score │\n",
       "│ ---    ┆ ---            ┆ education         ┆ ---   ┆ course            ┆ ---        ┆ ---           ┆ ---           │\n",
       "│ u32    ┆ u32            ┆ ---               ┆ u32   ┆ ---               ┆ u32        ┆ u32           ┆ u32           │\n",
       "│        ┆                ┆ u32               ┆       ┆ u32               ┆            ┆               ┆               │\n",
       "╞════════╪════════════════╪═══════════════════╪═══════╪═══════════════════╪════════════╪═══════════════╪═══════════════╡\n",
       "│ 0      ┆ 0              ┆ 0                 ┆ 0     ┆ 0                 ┆ 0          ┆ 0             ┆ 0             │\n",
       "└────────┴────────────────┴───────────────────┴───────┴───────────────────┴────────────┴───────────────┴───────────────┘"
      ]
     },
     "execution_count": 26,
     "metadata": {},
     "output_type": "execute_result"
    }
   ],
   "source": [
    "df.null_count()\n"
   ]
  },
  {
   "cell_type": "markdown",
   "id": "6298490a",
   "metadata": {},
   "source": [
    "------------\n",
    "### Medidas estadísticas"
   ]
  },
  {
   "cell_type": "markdown",
   "id": "20295af6",
   "metadata": {},
   "source": [
    "#### Función `pl.sum()`"
   ]
  },
  {
   "cell_type": "markdown",
   "id": "93c20eb6",
   "metadata": {},
   "source": [
    "Si deseamos sumar los valores de las columnas, la función `pl.sum()` nos mostrará la suma total en una tabla."
   ]
  },
  {
   "cell_type": "code",
   "execution_count": 3,
   "id": "0c4da5fc",
   "metadata": {
    "scrolled": true
   },
   "outputs": [
    {
     "data": {
      "text/html": [
       "<div><style>\n",
       ".dataframe > thead > tr > th,\n",
       ".dataframe > tbody > tr > td {\n",
       "  text-align: right;\n",
       "}\n",
       "</style>\n",
       "<small>shape: (1, 8)</small><table border=\"1\" class=\"dataframe\"><thead><tr><th>gender</th><th>race/ethnicity</th><th>parental level of education</th><th>lunch</th><th>test preparation course</th><th>math score</th><th>reading score</th><th>writing score</th></tr><tr><td>str</td><td>str</td><td>str</td><td>str</td><td>str</td><td>i64</td><td>i64</td><td>i64</td></tr></thead><tbody><tr><td>null</td><td>null</td><td>null</td><td>null</td><td>null</td><td>66089</td><td>69169</td><td>68054</td></tr></tbody></table></div>"
      ],
      "text/plain": [
       "shape: (1, 8)\n",
       "┌────────┬────────────────┬───────────────────┬───────┬───────────────────┬────────────┬───────────────┬───────────────┐\n",
       "│ gender ┆ race/ethnicity ┆ parental level of ┆ lunch ┆ test preparation  ┆ math score ┆ reading score ┆ writing score │\n",
       "│ ---    ┆ ---            ┆ education         ┆ ---   ┆ course            ┆ ---        ┆ ---           ┆ ---           │\n",
       "│ str    ┆ str            ┆ ---               ┆ str   ┆ ---               ┆ i64        ┆ i64           ┆ i64           │\n",
       "│        ┆                ┆ str               ┆       ┆ str               ┆            ┆               ┆               │\n",
       "╞════════╪════════════════╪═══════════════════╪═══════╪═══════════════════╪════════════╪═══════════════╪═══════════════╡\n",
       "│ null   ┆ null           ┆ null              ┆ null  ┆ null              ┆ 66089      ┆ 69169         ┆ 68054         │\n",
       "└────────┴────────────────┴───────────────────┴───────┴───────────────────┴────────────┴───────────────┴───────────────┘"
      ]
     },
     "execution_count": 3,
     "metadata": {},
     "output_type": "execute_result"
    }
   ],
   "source": [
    "df.sum()"
   ]
  },
  {
   "cell_type": "markdown",
   "id": "255327d2",
   "metadata": {},
   "source": [
    "#### Función `pl.mean()`"
   ]
  },
  {
   "cell_type": "markdown",
   "id": "21dd7485",
   "metadata": {},
   "source": [
    "Si deseamos mostrar los promedios de los valores de las columnas, la función `pl.mean()` nos mostrará cada promedio en una tabla."
   ]
  },
  {
   "cell_type": "code",
   "execution_count": 4,
   "id": "73537bf2",
   "metadata": {},
   "outputs": [
    {
     "data": {
      "text/html": [
       "<div><style>\n",
       ".dataframe > thead > tr > th,\n",
       ".dataframe > tbody > tr > td {\n",
       "  text-align: right;\n",
       "}\n",
       "</style>\n",
       "<small>shape: (1, 8)</small><table border=\"1\" class=\"dataframe\"><thead><tr><th>gender</th><th>race/ethnicity</th><th>parental level of education</th><th>lunch</th><th>test preparation course</th><th>math score</th><th>reading score</th><th>writing score</th></tr><tr><td>str</td><td>str</td><td>str</td><td>str</td><td>str</td><td>f64</td><td>f64</td><td>f64</td></tr></thead><tbody><tr><td>null</td><td>null</td><td>null</td><td>null</td><td>null</td><td>66.089</td><td>69.169</td><td>68.054</td></tr></tbody></table></div>"
      ],
      "text/plain": [
       "shape: (1, 8)\n",
       "┌────────┬────────────────┬───────────────────┬───────┬───────────────────┬────────────┬───────────────┬───────────────┐\n",
       "│ gender ┆ race/ethnicity ┆ parental level of ┆ lunch ┆ test preparation  ┆ math score ┆ reading score ┆ writing score │\n",
       "│ ---    ┆ ---            ┆ education         ┆ ---   ┆ course            ┆ ---        ┆ ---           ┆ ---           │\n",
       "│ str    ┆ str            ┆ ---               ┆ str   ┆ ---               ┆ f64        ┆ f64           ┆ f64           │\n",
       "│        ┆                ┆ str               ┆       ┆ str               ┆            ┆               ┆               │\n",
       "╞════════╪════════════════╪═══════════════════╪═══════╪═══════════════════╪════════════╪═══════════════╪═══════════════╡\n",
       "│ null   ┆ null           ┆ null              ┆ null  ┆ null              ┆ 66.089     ┆ 69.169        ┆ 68.054        │\n",
       "└────────┴────────────────┴───────────────────┴───────┴───────────────────┴────────────┴───────────────┴───────────────┘"
      ]
     },
     "execution_count": 4,
     "metadata": {},
     "output_type": "execute_result"
    }
   ],
   "source": [
    "df.mean()"
   ]
  },
  {
   "cell_type": "markdown",
   "id": "1b3b2015",
   "metadata": {},
   "source": [
    "#### Función `pl.describe()`\n",
    "\n",
    "Para tener medidas estadísticas de los datos como el número de datos, los datos nulos, media, mediana, etc; utilizaremos la función ```pl.describe()```.\n"
   ]
  },
  {
   "cell_type": "code",
   "execution_count": 24,
   "id": "ccc5804a",
   "metadata": {
    "scrolled": false
   },
   "outputs": [
    {
     "data": {
      "text/html": [
       "<div><style>\n",
       ".dataframe > thead > tr > th,\n",
       ".dataframe > tbody > tr > td {\n",
       "  text-align: right;\n",
       "}\n",
       "</style>\n",
       "<small>shape: (9, 9)</small><table border=\"1\" class=\"dataframe\"><thead><tr><th>describe</th><th>gender</th><th>race/ethnicity</th><th>parental level of education</th><th>lunch</th><th>test preparation course</th><th>math score</th><th>reading score</th><th>writing score</th></tr><tr><td>str</td><td>str</td><td>str</td><td>str</td><td>str</td><td>str</td><td>f64</td><td>f64</td><td>f64</td></tr></thead><tbody><tr><td>&quot;count&quot;</td><td>&quot;1000&quot;</td><td>&quot;1000&quot;</td><td>&quot;1000&quot;</td><td>&quot;1000&quot;</td><td>&quot;1000&quot;</td><td>1000.0</td><td>1000.0</td><td>1000.0</td></tr><tr><td>&quot;null_count&quot;</td><td>&quot;0&quot;</td><td>&quot;0&quot;</td><td>&quot;0&quot;</td><td>&quot;0&quot;</td><td>&quot;0&quot;</td><td>0.0</td><td>0.0</td><td>0.0</td></tr><tr><td>&quot;mean&quot;</td><td>null</td><td>null</td><td>null</td><td>null</td><td>null</td><td>66.089</td><td>69.169</td><td>68.054</td></tr><tr><td>&quot;std&quot;</td><td>null</td><td>null</td><td>null</td><td>null</td><td>null</td><td>15.16308</td><td>14.600192</td><td>15.195657</td></tr><tr><td>&quot;min&quot;</td><td>&quot;female&quot;</td><td>&quot;group A&quot;</td><td>&quot;associate&#x27;s de…</td><td>&quot;free/reduced&quot;</td><td>&quot;completed&quot;</td><td>0.0</td><td>17.0</td><td>10.0</td></tr><tr><td>&quot;max&quot;</td><td>&quot;male&quot;</td><td>&quot;group E&quot;</td><td>&quot;some high scho…</td><td>&quot;standard&quot;</td><td>&quot;none&quot;</td><td>100.0</td><td>100.0</td><td>100.0</td></tr><tr><td>&quot;median&quot;</td><td>null</td><td>null</td><td>null</td><td>null</td><td>null</td><td>66.0</td><td>70.0</td><td>69.0</td></tr><tr><td>&quot;25%&quot;</td><td>null</td><td>null</td><td>null</td><td>null</td><td>null</td><td>57.0</td><td>59.0</td><td>58.0</td></tr><tr><td>&quot;75%&quot;</td><td>null</td><td>null</td><td>null</td><td>null</td><td>null</td><td>77.0</td><td>79.0</td><td>79.0</td></tr></tbody></table></div>"
      ],
      "text/plain": [
       "shape: (9, 9)\n",
       "┌────────────┬────────┬───────────────┬───────────────┬───┬───────────────┬────────────┬───────────────┬───────────────┐\n",
       "│ describe   ┆ gender ┆ race/ethnicit ┆ parental      ┆ … ┆ test          ┆ math score ┆ reading score ┆ writing score │\n",
       "│ ---        ┆ ---    ┆ y             ┆ level of      ┆   ┆ preparation   ┆ ---        ┆ ---           ┆ ---           │\n",
       "│ str        ┆ str    ┆ ---           ┆ education     ┆   ┆ course        ┆ f64        ┆ f64           ┆ f64           │\n",
       "│            ┆        ┆ str           ┆ ---           ┆   ┆ ---           ┆            ┆               ┆               │\n",
       "│            ┆        ┆               ┆ str           ┆   ┆ str           ┆            ┆               ┆               │\n",
       "╞════════════╪════════╪═══════════════╪═══════════════╪═══╪═══════════════╪════════════╪═══════════════╪═══════════════╡\n",
       "│ count      ┆ 1000   ┆ 1000          ┆ 1000          ┆ … ┆ 1000          ┆ 1000.0     ┆ 1000.0        ┆ 1000.0        │\n",
       "│ null_count ┆ 0      ┆ 0             ┆ 0             ┆ … ┆ 0             ┆ 0.0        ┆ 0.0           ┆ 0.0           │\n",
       "│ mean       ┆ null   ┆ null          ┆ null          ┆ … ┆ null          ┆ 66.089     ┆ 69.169        ┆ 68.054        │\n",
       "│ std        ┆ null   ┆ null          ┆ null          ┆ … ┆ null          ┆ 15.16308   ┆ 14.600192     ┆ 15.195657     │\n",
       "│ min        ┆ female ┆ group A       ┆ associate's   ┆ … ┆ completed     ┆ 0.0        ┆ 17.0          ┆ 10.0          │\n",
       "│            ┆        ┆               ┆ degree        ┆   ┆               ┆            ┆               ┆               │\n",
       "│ max        ┆ male   ┆ group E       ┆ some high     ┆ … ┆ none          ┆ 100.0      ┆ 100.0         ┆ 100.0         │\n",
       "│            ┆        ┆               ┆ school        ┆   ┆               ┆            ┆               ┆               │\n",
       "│ median     ┆ null   ┆ null          ┆ null          ┆ … ┆ null          ┆ 66.0       ┆ 70.0          ┆ 69.0          │\n",
       "│ 25%        ┆ null   ┆ null          ┆ null          ┆ … ┆ null          ┆ 57.0       ┆ 59.0          ┆ 58.0          │\n",
       "│ 75%        ┆ null   ┆ null          ┆ null          ┆ … ┆ null          ┆ 77.0       ┆ 79.0          ┆ 79.0          │\n",
       "└────────────┴────────┴───────────────┴───────────────┴───┴───────────────┴────────────┴───────────────┴───────────────┘"
      ]
     },
     "execution_count": 24,
     "metadata": {},
     "output_type": "execute_result"
    }
   ],
   "source": [
    "df.describe()"
   ]
  },
  {
   "cell_type": "markdown",
   "id": "7244fe9d",
   "metadata": {},
   "source": [
    "-----------\n",
    "### Manipulación de datos"
   ]
  },
  {
   "cell_type": "markdown",
   "id": "24fae2ab",
   "metadata": {},
   "source": [
    "#### Función `pl.columns`"
   ]
  },
  {
   "cell_type": "markdown",
   "id": "945ab8ab",
   "metadata": {},
   "source": [
    "Si deseamos tener la lista de las variables del archivo, escribimos `pl.columns`."
   ]
  },
  {
   "cell_type": "code",
   "execution_count": 23,
   "id": "e88061c8",
   "metadata": {},
   "outputs": [
    {
     "data": {
      "text/plain": [
       "['gender',\n",
       " 'race/ethnicity',\n",
       " 'parental level of education',\n",
       " 'lunch',\n",
       " 'test preparation course',\n",
       " 'math score',\n",
       " 'reading score',\n",
       " 'writing score']"
      ]
     },
     "execution_count": 23,
     "metadata": {},
     "output_type": "execute_result"
    }
   ],
   "source": [
    "df.columns"
   ]
  },
  {
   "cell_type": "markdown",
   "id": "62443d09",
   "metadata": {},
   "source": [
    "#### Función `pl.select()`\n",
    "Si deseamos seleccionar una o más columnas de la data, utilizamos la función `df.select(pl.col())`"
   ]
  },
  {
   "cell_type": "markdown",
   "id": "40e8f891",
   "metadata": {},
   "source": [
    "##### Seleccionando una columna\n",
    "Si solo deseamos seleccionar una columna, utilizamos `df.select(pl.col('NOMBRE DE LA COLUMNA'))`"
   ]
  },
  {
   "cell_type": "code",
   "execution_count": 53,
   "id": "17393119",
   "metadata": {},
   "outputs": [
    {
     "data": {
      "text/html": [
       "<div><style>\n",
       ".dataframe > thead > tr > th,\n",
       ".dataframe > tbody > tr > td {\n",
       "  text-align: right;\n",
       "}\n",
       "</style>\n",
       "<small>shape: (1_000, 1)</small><table border=\"1\" class=\"dataframe\"><thead><tr><th>gender</th></tr><tr><td>str</td></tr></thead><tbody><tr><td>&quot;female&quot;</td></tr><tr><td>&quot;female&quot;</td></tr><tr><td>&quot;female&quot;</td></tr><tr><td>&quot;male&quot;</td></tr><tr><td>&quot;male&quot;</td></tr><tr><td>&quot;female&quot;</td></tr><tr><td>&quot;female&quot;</td></tr><tr><td>&quot;male&quot;</td></tr><tr><td>&quot;male&quot;</td></tr><tr><td>&quot;female&quot;</td></tr><tr><td>&quot;male&quot;</td></tr><tr><td>&quot;male&quot;</td></tr><tr><td>&hellip;</td></tr><tr><td>&quot;female&quot;</td></tr><tr><td>&quot;female&quot;</td></tr><tr><td>&quot;male&quot;</td></tr><tr><td>&quot;female&quot;</td></tr><tr><td>&quot;female&quot;</td></tr><tr><td>&quot;female&quot;</td></tr><tr><td>&quot;male&quot;</td></tr><tr><td>&quot;female&quot;</td></tr><tr><td>&quot;male&quot;</td></tr><tr><td>&quot;female&quot;</td></tr><tr><td>&quot;female&quot;</td></tr><tr><td>&quot;female&quot;</td></tr></tbody></table></div>"
      ],
      "text/plain": [
       "shape: (1_000, 1)\n",
       "┌────────┐\n",
       "│ gender │\n",
       "│ ---    │\n",
       "│ str    │\n",
       "╞════════╡\n",
       "│ female │\n",
       "│ female │\n",
       "│ female │\n",
       "│ male   │\n",
       "│ …      │\n",
       "│ male   │\n",
       "│ female │\n",
       "│ female │\n",
       "│ female │\n",
       "└────────┘"
      ]
     },
     "execution_count": 53,
     "metadata": {},
     "output_type": "execute_result"
    }
   ],
   "source": [
    "df.select('gender')"
   ]
  },
  {
   "cell_type": "markdown",
   "id": "f20df8e7",
   "metadata": {},
   "source": [
    "##### Seleccionando dos o más columnas\n",
    "Si deseamos seleccionar varias columnas, utilizamos `df.select(pl.col(['nombre columna 1','nombre columna 2',...))`"
   ]
  },
  {
   "cell_type": "code",
   "execution_count": 54,
   "id": "86970c55",
   "metadata": {},
   "outputs": [
    {
     "data": {
      "text/html": [
       "<div><style>\n",
       ".dataframe > thead > tr > th,\n",
       ".dataframe > tbody > tr > td {\n",
       "  text-align: right;\n",
       "}\n",
       "</style>\n",
       "<small>shape: (1_000, 2)</small><table border=\"1\" class=\"dataframe\"><thead><tr><th>gender</th><th>math score</th></tr><tr><td>str</td><td>i64</td></tr></thead><tbody><tr><td>&quot;female&quot;</td><td>72</td></tr><tr><td>&quot;female&quot;</td><td>69</td></tr><tr><td>&quot;female&quot;</td><td>90</td></tr><tr><td>&quot;male&quot;</td><td>47</td></tr><tr><td>&quot;male&quot;</td><td>76</td></tr><tr><td>&quot;female&quot;</td><td>71</td></tr><tr><td>&quot;female&quot;</td><td>88</td></tr><tr><td>&quot;male&quot;</td><td>40</td></tr><tr><td>&quot;male&quot;</td><td>64</td></tr><tr><td>&quot;female&quot;</td><td>38</td></tr><tr><td>&quot;male&quot;</td><td>58</td></tr><tr><td>&quot;male&quot;</td><td>40</td></tr><tr><td>&hellip;</td><td>&hellip;</td></tr><tr><td>&quot;female&quot;</td><td>44</td></tr><tr><td>&quot;female&quot;</td><td>67</td></tr><tr><td>&quot;male&quot;</td><td>86</td></tr><tr><td>&quot;female&quot;</td><td>65</td></tr><tr><td>&quot;female&quot;</td><td>55</td></tr><tr><td>&quot;female&quot;</td><td>62</td></tr><tr><td>&quot;male&quot;</td><td>63</td></tr><tr><td>&quot;female&quot;</td><td>88</td></tr><tr><td>&quot;male&quot;</td><td>62</td></tr><tr><td>&quot;female&quot;</td><td>59</td></tr><tr><td>&quot;female&quot;</td><td>68</td></tr><tr><td>&quot;female&quot;</td><td>77</td></tr></tbody></table></div>"
      ],
      "text/plain": [
       "shape: (1_000, 2)\n",
       "┌────────┬────────────┐\n",
       "│ gender ┆ math score │\n",
       "│ ---    ┆ ---        │\n",
       "│ str    ┆ i64        │\n",
       "╞════════╪════════════╡\n",
       "│ female ┆ 72         │\n",
       "│ female ┆ 69         │\n",
       "│ female ┆ 90         │\n",
       "│ male   ┆ 47         │\n",
       "│ …      ┆ …          │\n",
       "│ male   ┆ 62         │\n",
       "│ female ┆ 59         │\n",
       "│ female ┆ 68         │\n",
       "│ female ┆ 77         │\n",
       "└────────┴────────────┘"
      ]
     },
     "execution_count": 54,
     "metadata": {},
     "output_type": "execute_result"
    }
   ],
   "source": [
    "df.select(['gender','math score'])"
   ]
  },
  {
   "cell_type": "markdown",
   "id": "60dd2fac",
   "metadata": {},
   "source": [
    "#### Función `pl.with_columns()`"
   ]
  },
  {
   "cell_type": "markdown",
   "id": "a4b244ef",
   "metadata": {},
   "source": [
    "Si deseamos crear una nueva columna con valores de otras columnas, utilizamos `df.with_columns()`.\n",
    "En este caso, crearemos una columna con los promedios de las notas de matemáticas, lectura e escritura."
   ]
  },
  {
   "cell_type": "code",
   "execution_count": 41,
   "id": "0b61076b",
   "metadata": {},
   "outputs": [
    {
     "data": {
      "text/html": [
       "<div><style>\n",
       ".dataframe > thead > tr > th,\n",
       ".dataframe > tbody > tr > td {\n",
       "  text-align: right;\n",
       "}\n",
       "</style>\n",
       "<small>shape: (1_000, 9)</small><table border=\"1\" class=\"dataframe\"><thead><tr><th>gender</th><th>race/ethnicity</th><th>parental level of education</th><th>lunch</th><th>test preparation course</th><th>math score</th><th>reading score</th><th>writing score</th><th>Promedio</th></tr><tr><td>str</td><td>str</td><td>str</td><td>str</td><td>str</td><td>i64</td><td>i64</td><td>i64</td><td>f64</td></tr></thead><tbody><tr><td>&quot;female&quot;</td><td>&quot;group B&quot;</td><td>&quot;bachelor&#x27;s deg…</td><td>&quot;standard&quot;</td><td>&quot;none&quot;</td><td>72</td><td>72</td><td>74</td><td>72.666667</td></tr><tr><td>&quot;female&quot;</td><td>&quot;group C&quot;</td><td>&quot;some college&quot;</td><td>&quot;standard&quot;</td><td>&quot;completed&quot;</td><td>69</td><td>90</td><td>88</td><td>82.333333</td></tr><tr><td>&quot;female&quot;</td><td>&quot;group B&quot;</td><td>&quot;master&#x27;s degre…</td><td>&quot;standard&quot;</td><td>&quot;none&quot;</td><td>90</td><td>95</td><td>93</td><td>92.666667</td></tr><tr><td>&quot;male&quot;</td><td>&quot;group A&quot;</td><td>&quot;associate&#x27;s de…</td><td>&quot;free/reduced&quot;</td><td>&quot;none&quot;</td><td>47</td><td>57</td><td>44</td><td>49.333333</td></tr><tr><td>&quot;male&quot;</td><td>&quot;group C&quot;</td><td>&quot;some college&quot;</td><td>&quot;standard&quot;</td><td>&quot;none&quot;</td><td>76</td><td>78</td><td>75</td><td>76.333333</td></tr><tr><td>&quot;female&quot;</td><td>&quot;group B&quot;</td><td>&quot;associate&#x27;s de…</td><td>&quot;standard&quot;</td><td>&quot;none&quot;</td><td>71</td><td>83</td><td>78</td><td>77.333333</td></tr><tr><td>&quot;female&quot;</td><td>&quot;group B&quot;</td><td>&quot;some college&quot;</td><td>&quot;standard&quot;</td><td>&quot;completed&quot;</td><td>88</td><td>95</td><td>92</td><td>91.666667</td></tr><tr><td>&quot;male&quot;</td><td>&quot;group B&quot;</td><td>&quot;some college&quot;</td><td>&quot;free/reduced&quot;</td><td>&quot;none&quot;</td><td>40</td><td>43</td><td>39</td><td>40.666667</td></tr><tr><td>&quot;male&quot;</td><td>&quot;group D&quot;</td><td>&quot;high school&quot;</td><td>&quot;free/reduced&quot;</td><td>&quot;completed&quot;</td><td>64</td><td>64</td><td>67</td><td>65.0</td></tr><tr><td>&quot;female&quot;</td><td>&quot;group B&quot;</td><td>&quot;high school&quot;</td><td>&quot;free/reduced&quot;</td><td>&quot;none&quot;</td><td>38</td><td>60</td><td>50</td><td>49.333333</td></tr><tr><td>&quot;male&quot;</td><td>&quot;group C&quot;</td><td>&quot;associate&#x27;s de…</td><td>&quot;standard&quot;</td><td>&quot;none&quot;</td><td>58</td><td>54</td><td>52</td><td>54.666667</td></tr><tr><td>&quot;male&quot;</td><td>&quot;group D&quot;</td><td>&quot;associate&#x27;s de…</td><td>&quot;standard&quot;</td><td>&quot;none&quot;</td><td>40</td><td>52</td><td>43</td><td>45.0</td></tr><tr><td>&hellip;</td><td>&hellip;</td><td>&hellip;</td><td>&hellip;</td><td>&hellip;</td><td>&hellip;</td><td>&hellip;</td><td>&hellip;</td><td>&hellip;</td></tr><tr><td>&quot;female&quot;</td><td>&quot;group A&quot;</td><td>&quot;some high scho…</td><td>&quot;free/reduced&quot;</td><td>&quot;none&quot;</td><td>44</td><td>45</td><td>45</td><td>44.666667</td></tr><tr><td>&quot;female&quot;</td><td>&quot;group D&quot;</td><td>&quot;some college&quot;</td><td>&quot;free/reduced&quot;</td><td>&quot;completed&quot;</td><td>67</td><td>86</td><td>83</td><td>78.666667</td></tr><tr><td>&quot;male&quot;</td><td>&quot;group E&quot;</td><td>&quot;high school&quot;</td><td>&quot;free/reduced&quot;</td><td>&quot;completed&quot;</td><td>86</td><td>81</td><td>75</td><td>80.666667</td></tr><tr><td>&quot;female&quot;</td><td>&quot;group B&quot;</td><td>&quot;some high scho…</td><td>&quot;standard&quot;</td><td>&quot;completed&quot;</td><td>65</td><td>82</td><td>78</td><td>75.0</td></tr><tr><td>&quot;female&quot;</td><td>&quot;group D&quot;</td><td>&quot;associate&#x27;s de…</td><td>&quot;free/reduced&quot;</td><td>&quot;none&quot;</td><td>55</td><td>76</td><td>76</td><td>69.0</td></tr><tr><td>&quot;female&quot;</td><td>&quot;group D&quot;</td><td>&quot;bachelor&#x27;s deg…</td><td>&quot;free/reduced&quot;</td><td>&quot;none&quot;</td><td>62</td><td>72</td><td>74</td><td>69.333333</td></tr><tr><td>&quot;male&quot;</td><td>&quot;group A&quot;</td><td>&quot;high school&quot;</td><td>&quot;standard&quot;</td><td>&quot;none&quot;</td><td>63</td><td>63</td><td>62</td><td>62.666667</td></tr><tr><td>&quot;female&quot;</td><td>&quot;group E&quot;</td><td>&quot;master&#x27;s degre…</td><td>&quot;standard&quot;</td><td>&quot;completed&quot;</td><td>88</td><td>99</td><td>95</td><td>94.0</td></tr><tr><td>&quot;male&quot;</td><td>&quot;group C&quot;</td><td>&quot;high school&quot;</td><td>&quot;free/reduced&quot;</td><td>&quot;none&quot;</td><td>62</td><td>55</td><td>55</td><td>57.333333</td></tr><tr><td>&quot;female&quot;</td><td>&quot;group C&quot;</td><td>&quot;high school&quot;</td><td>&quot;free/reduced&quot;</td><td>&quot;completed&quot;</td><td>59</td><td>71</td><td>65</td><td>65.0</td></tr><tr><td>&quot;female&quot;</td><td>&quot;group D&quot;</td><td>&quot;some college&quot;</td><td>&quot;standard&quot;</td><td>&quot;completed&quot;</td><td>68</td><td>78</td><td>77</td><td>74.333333</td></tr><tr><td>&quot;female&quot;</td><td>&quot;group D&quot;</td><td>&quot;some college&quot;</td><td>&quot;free/reduced&quot;</td><td>&quot;none&quot;</td><td>77</td><td>86</td><td>86</td><td>83.0</td></tr></tbody></table></div>"
      ],
      "text/plain": [
       "shape: (1_000, 9)\n",
       "┌────────┬────────────────┬────────────────┬──────────────┬───┬────────────┬───────────────┬───────────────┬───────────┐\n",
       "│ gender ┆ race/ethnicity ┆ parental level ┆ lunch        ┆ … ┆ math score ┆ reading score ┆ writing score ┆ Promedio  │\n",
       "│ ---    ┆ ---            ┆ of education   ┆ ---          ┆   ┆ ---        ┆ ---           ┆ ---           ┆ ---       │\n",
       "│ str    ┆ str            ┆ ---            ┆ str          ┆   ┆ i64        ┆ i64           ┆ i64           ┆ f64       │\n",
       "│        ┆                ┆ str            ┆              ┆   ┆            ┆               ┆               ┆           │\n",
       "╞════════╪════════════════╪════════════════╪══════════════╪═══╪════════════╪═══════════════╪═══════════════╪═══════════╡\n",
       "│ female ┆ group B        ┆ bachelor's     ┆ standard     ┆ … ┆ 72         ┆ 72            ┆ 74            ┆ 72.666667 │\n",
       "│        ┆                ┆ degree         ┆              ┆   ┆            ┆               ┆               ┆           │\n",
       "│ female ┆ group C        ┆ some college   ┆ standard     ┆ … ┆ 69         ┆ 90            ┆ 88            ┆ 82.333333 │\n",
       "│ female ┆ group B        ┆ master's       ┆ standard     ┆ … ┆ 90         ┆ 95            ┆ 93            ┆ 92.666667 │\n",
       "│        ┆                ┆ degree         ┆              ┆   ┆            ┆               ┆               ┆           │\n",
       "│ male   ┆ group A        ┆ associate's    ┆ free/reduced ┆ … ┆ 47         ┆ 57            ┆ 44            ┆ 49.333333 │\n",
       "│        ┆                ┆ degree         ┆              ┆   ┆            ┆               ┆               ┆           │\n",
       "│ …      ┆ …              ┆ …              ┆ …            ┆ … ┆ …          ┆ …             ┆ …             ┆ …         │\n",
       "│ male   ┆ group C        ┆ high school    ┆ free/reduced ┆ … ┆ 62         ┆ 55            ┆ 55            ┆ 57.333333 │\n",
       "│ female ┆ group C        ┆ high school    ┆ free/reduced ┆ … ┆ 59         ┆ 71            ┆ 65            ┆ 65.0      │\n",
       "│ female ┆ group D        ┆ some college   ┆ standard     ┆ … ┆ 68         ┆ 78            ┆ 77            ┆ 74.333333 │\n",
       "│ female ┆ group D        ┆ some college   ┆ free/reduced ┆ … ┆ 77         ┆ 86            ┆ 86            ┆ 83.0      │\n",
       "└────────┴────────────────┴────────────────┴──────────────┴───┴────────────┴───────────────┴───────────────┴───────────┘"
      ]
     },
     "execution_count": 41,
     "metadata": {},
     "output_type": "execute_result"
    }
   ],
   "source": [
    "df.with_columns(((\n",
    "                pl.col('math score') +\n",
    "                pl.col('reading score') +\n",
    "                pl.col('writing score'))/3).alias('Promedio'))"
   ]
  },
  {
   "cell_type": "markdown",
   "id": "7f812586",
   "metadata": {},
   "source": [
    "#### Funciones `pl.head()` y `pl.tail()`"
   ]
  },
  {
   "cell_type": "markdown",
   "id": "86ebe1c5",
   "metadata": {},
   "source": [
    "Si deseamos ver los primeros datos de una data, utilizamos `df.head()`. En caso contrario, si deseamos ver los últimos datos, utilizamos `df.tail()`."
   ]
  },
  {
   "cell_type": "code",
   "execution_count": 77,
   "id": "d6a3f1a7",
   "metadata": {
    "scrolled": false
   },
   "outputs": [
    {
     "data": {
      "text/html": [
       "<div><style>\n",
       ".dataframe > thead > tr > th,\n",
       ".dataframe > tbody > tr > td {\n",
       "  text-align: right;\n",
       "}\n",
       "</style>\n",
       "<small>shape: (5, 8)</small><table border=\"1\" class=\"dataframe\"><thead><tr><th>gender</th><th>race/ethnicity</th><th>parental level of education</th><th>lunch</th><th>test preparation course</th><th>math score</th><th>reading score</th><th>writing score</th></tr><tr><td>str</td><td>str</td><td>str</td><td>str</td><td>str</td><td>i64</td><td>i64</td><td>i64</td></tr></thead><tbody><tr><td>&quot;female&quot;</td><td>&quot;group B&quot;</td><td>&quot;bachelor&#x27;s deg…</td><td>&quot;standard&quot;</td><td>&quot;none&quot;</td><td>72</td><td>72</td><td>74</td></tr><tr><td>&quot;female&quot;</td><td>&quot;group C&quot;</td><td>&quot;some college&quot;</td><td>&quot;standard&quot;</td><td>&quot;completed&quot;</td><td>69</td><td>90</td><td>88</td></tr><tr><td>&quot;female&quot;</td><td>&quot;group B&quot;</td><td>&quot;master&#x27;s degre…</td><td>&quot;standard&quot;</td><td>&quot;none&quot;</td><td>90</td><td>95</td><td>93</td></tr><tr><td>&quot;male&quot;</td><td>&quot;group A&quot;</td><td>&quot;associate&#x27;s de…</td><td>&quot;free/reduced&quot;</td><td>&quot;none&quot;</td><td>47</td><td>57</td><td>44</td></tr><tr><td>&quot;male&quot;</td><td>&quot;group C&quot;</td><td>&quot;some college&quot;</td><td>&quot;standard&quot;</td><td>&quot;none&quot;</td><td>76</td><td>78</td><td>75</td></tr></tbody></table></div>"
      ],
      "text/plain": [
       "shape: (5, 8)\n",
       "┌────────┬────────────────┬────────────────┬──────────────┬───────────────┬────────────┬───────────────┬───────────────┐\n",
       "│ gender ┆ race/ethnicity ┆ parental level ┆ lunch        ┆ test          ┆ math score ┆ reading score ┆ writing score │\n",
       "│ ---    ┆ ---            ┆ of education   ┆ ---          ┆ preparation   ┆ ---        ┆ ---           ┆ ---           │\n",
       "│ str    ┆ str            ┆ ---            ┆ str          ┆ course        ┆ i64        ┆ i64           ┆ i64           │\n",
       "│        ┆                ┆ str            ┆              ┆ ---           ┆            ┆               ┆               │\n",
       "│        ┆                ┆                ┆              ┆ str           ┆            ┆               ┆               │\n",
       "╞════════╪════════════════╪════════════════╪══════════════╪═══════════════╪════════════╪═══════════════╪═══════════════╡\n",
       "│ female ┆ group B        ┆ bachelor's     ┆ standard     ┆ none          ┆ 72         ┆ 72            ┆ 74            │\n",
       "│        ┆                ┆ degree         ┆              ┆               ┆            ┆               ┆               │\n",
       "│ female ┆ group C        ┆ some college   ┆ standard     ┆ completed     ┆ 69         ┆ 90            ┆ 88            │\n",
       "│ female ┆ group B        ┆ master's       ┆ standard     ┆ none          ┆ 90         ┆ 95            ┆ 93            │\n",
       "│        ┆                ┆ degree         ┆              ┆               ┆            ┆               ┆               │\n",
       "│ male   ┆ group A        ┆ associate's    ┆ free/reduced ┆ none          ┆ 47         ┆ 57            ┆ 44            │\n",
       "│        ┆                ┆ degree         ┆              ┆               ┆            ┆               ┆               │\n",
       "│ male   ┆ group C        ┆ some college   ┆ standard     ┆ none          ┆ 76         ┆ 78            ┆ 75            │\n",
       "└────────┴────────────────┴────────────────┴──────────────┴───────────────┴────────────┴───────────────┴───────────────┘"
      ]
     },
     "execution_count": 77,
     "metadata": {},
     "output_type": "execute_result"
    }
   ],
   "source": [
    "df.head()"
   ]
  },
  {
   "cell_type": "code",
   "execution_count": 46,
   "id": "bbf8e7f3",
   "metadata": {},
   "outputs": [
    {
     "data": {
      "text/html": [
       "<div><style>\n",
       ".dataframe > thead > tr > th,\n",
       ".dataframe > tbody > tr > td {\n",
       "  text-align: right;\n",
       "}\n",
       "</style>\n",
       "<small>shape: (5, 8)</small><table border=\"1\" class=\"dataframe\"><thead><tr><th>gender</th><th>race/ethnicity</th><th>parental level of education</th><th>lunch</th><th>test preparation course</th><th>math score</th><th>reading score</th><th>writing score</th></tr><tr><td>str</td><td>str</td><td>str</td><td>str</td><td>str</td><td>i64</td><td>i64</td><td>i64</td></tr></thead><tbody><tr><td>&quot;female&quot;</td><td>&quot;group E&quot;</td><td>&quot;master&#x27;s degre…</td><td>&quot;standard&quot;</td><td>&quot;completed&quot;</td><td>88</td><td>99</td><td>95</td></tr><tr><td>&quot;male&quot;</td><td>&quot;group C&quot;</td><td>&quot;high school&quot;</td><td>&quot;free/reduced&quot;</td><td>&quot;none&quot;</td><td>62</td><td>55</td><td>55</td></tr><tr><td>&quot;female&quot;</td><td>&quot;group C&quot;</td><td>&quot;high school&quot;</td><td>&quot;free/reduced&quot;</td><td>&quot;completed&quot;</td><td>59</td><td>71</td><td>65</td></tr><tr><td>&quot;female&quot;</td><td>&quot;group D&quot;</td><td>&quot;some college&quot;</td><td>&quot;standard&quot;</td><td>&quot;completed&quot;</td><td>68</td><td>78</td><td>77</td></tr><tr><td>&quot;female&quot;</td><td>&quot;group D&quot;</td><td>&quot;some college&quot;</td><td>&quot;free/reduced&quot;</td><td>&quot;none&quot;</td><td>77</td><td>86</td><td>86</td></tr></tbody></table></div>"
      ],
      "text/plain": [
       "shape: (5, 8)\n",
       "┌────────┬────────────────┬────────────────┬──────────────┬───────────────┬────────────┬───────────────┬───────────────┐\n",
       "│ gender ┆ race/ethnicity ┆ parental level ┆ lunch        ┆ test          ┆ math score ┆ reading score ┆ writing score │\n",
       "│ ---    ┆ ---            ┆ of education   ┆ ---          ┆ preparation   ┆ ---        ┆ ---           ┆ ---           │\n",
       "│ str    ┆ str            ┆ ---            ┆ str          ┆ course        ┆ i64        ┆ i64           ┆ i64           │\n",
       "│        ┆                ┆ str            ┆              ┆ ---           ┆            ┆               ┆               │\n",
       "│        ┆                ┆                ┆              ┆ str           ┆            ┆               ┆               │\n",
       "╞════════╪════════════════╪════════════════╪══════════════╪═══════════════╪════════════╪═══════════════╪═══════════════╡\n",
       "│ female ┆ group E        ┆ master's       ┆ standard     ┆ completed     ┆ 88         ┆ 99            ┆ 95            │\n",
       "│        ┆                ┆ degree         ┆              ┆               ┆            ┆               ┆               │\n",
       "│ male   ┆ group C        ┆ high school    ┆ free/reduced ┆ none          ┆ 62         ┆ 55            ┆ 55            │\n",
       "│ female ┆ group C        ┆ high school    ┆ free/reduced ┆ completed     ┆ 59         ┆ 71            ┆ 65            │\n",
       "│ female ┆ group D        ┆ some college   ┆ standard     ┆ completed     ┆ 68         ┆ 78            ┆ 77            │\n",
       "│ female ┆ group D        ┆ some college   ┆ free/reduced ┆ none          ┆ 77         ┆ 86            ┆ 86            │\n",
       "└────────┴────────────────┴────────────────┴──────────────┴───────────────┴────────────┴───────────────┴───────────────┘"
      ]
     },
     "execution_count": 46,
     "metadata": {},
     "output_type": "execute_result"
    }
   ],
   "source": [
    "df.tail()"
   ]
  },
  {
   "cell_type": "markdown",
   "id": "54ede4f6",
   "metadata": {},
   "source": [
    "#### Función `df[]`"
   ]
  },
  {
   "cell_type": "markdown",
   "id": "15482a5b",
   "metadata": {},
   "source": [
    "Mientas función `pl.select()` nos permite seleccionar columnas, la función `df[]` nos permite seleccionar columnas, filas o datos de la tabla en específico."
   ]
  },
  {
   "cell_type": "markdown",
   "id": "8654e246",
   "metadata": {},
   "source": [
    "##### Seleccionando una o varias columnas"
   ]
  },
  {
   "cell_type": "code",
   "execution_count": 78,
   "id": "b80171b6",
   "metadata": {},
   "outputs": [
    {
     "data": {
      "text/html": [
       "<div><style>\n",
       ".dataframe > thead > tr > th,\n",
       ".dataframe > tbody > tr > td {\n",
       "  text-align: right;\n",
       "}\n",
       "</style>\n",
       "<small>shape: (5, 2)</small><table border=\"1\" class=\"dataframe\"><thead><tr><th>race/ethnicity</th><th>parental level of education</th></tr><tr><td>str</td><td>str</td></tr></thead><tbody><tr><td>&quot;group B&quot;</td><td>&quot;bachelor&#x27;s deg…</td></tr><tr><td>&quot;group C&quot;</td><td>&quot;some college&quot;</td></tr><tr><td>&quot;group B&quot;</td><td>&quot;master&#x27;s degre…</td></tr><tr><td>&quot;group A&quot;</td><td>&quot;associate&#x27;s de…</td></tr><tr><td>&quot;group C&quot;</td><td>&quot;some college&quot;</td></tr></tbody></table></div>"
      ],
      "text/plain": [
       "shape: (5, 2)\n",
       "┌────────────────┬─────────────────────────────┐\n",
       "│ race/ethnicity ┆ parental level of education │\n",
       "│ ---            ┆ ---                         │\n",
       "│ str            ┆ str                         │\n",
       "╞════════════════╪═════════════════════════════╡\n",
       "│ group B        ┆ bachelor's degree           │\n",
       "│ group C        ┆ some college                │\n",
       "│ group B        ┆ master's degree             │\n",
       "│ group A        ┆ associate's degree          │\n",
       "│ group C        ┆ some college                │\n",
       "└────────────────┴─────────────────────────────┘"
      ]
     },
     "execution_count": 78,
     "metadata": {},
     "output_type": "execute_result"
    }
   ],
   "source": [
    "df[: ,1:3].head()"
   ]
  },
  {
   "cell_type": "code",
   "execution_count": 79,
   "id": "24daa9d3",
   "metadata": {},
   "outputs": [
    {
     "data": {
      "text/html": [
       "<div><style>\n",
       ".dataframe > thead > tr > th,\n",
       ".dataframe > tbody > tr > td {\n",
       "  text-align: right;\n",
       "}\n",
       "</style>\n",
       "<small>shape: (5, 2)</small><table border=\"1\" class=\"dataframe\"><thead><tr><th>race/ethnicity</th><th>gender</th></tr><tr><td>str</td><td>str</td></tr></thead><tbody><tr><td>&quot;group B&quot;</td><td>&quot;female&quot;</td></tr><tr><td>&quot;group C&quot;</td><td>&quot;female&quot;</td></tr><tr><td>&quot;group B&quot;</td><td>&quot;female&quot;</td></tr><tr><td>&quot;group A&quot;</td><td>&quot;male&quot;</td></tr><tr><td>&quot;group C&quot;</td><td>&quot;male&quot;</td></tr></tbody></table></div>"
      ],
      "text/plain": [
       "shape: (5, 2)\n",
       "┌────────────────┬────────┐\n",
       "│ race/ethnicity ┆ gender │\n",
       "│ ---            ┆ ---    │\n",
       "│ str            ┆ str    │\n",
       "╞════════════════╪════════╡\n",
       "│ group B        ┆ female │\n",
       "│ group C        ┆ female │\n",
       "│ group B        ┆ female │\n",
       "│ group A        ┆ male   │\n",
       "│ group C        ┆ male   │\n",
       "└────────────────┴────────┘"
      ]
     },
     "execution_count": 79,
     "metadata": {},
     "output_type": "execute_result"
    }
   ],
   "source": [
    "df[:,['race/ethnicity','gender']].head()"
   ]
  },
  {
   "cell_type": "markdown",
   "id": "45aa500e",
   "metadata": {},
   "source": [
    "##### Seleccionando una o varias filas"
   ]
  },
  {
   "cell_type": "code",
   "execution_count": 93,
   "id": "a620344b",
   "metadata": {
    "scrolled": true
   },
   "outputs": [
    {
     "data": {
      "text/html": [
       "<div><style>\n",
       ".dataframe > thead > tr > th,\n",
       ".dataframe > tbody > tr > td {\n",
       "  text-align: right;\n",
       "}\n",
       "</style>\n",
       "<small>shape: (6, 8)</small><table border=\"1\" class=\"dataframe\"><thead><tr><th>gender</th><th>race/ethnicity</th><th>parental level of education</th><th>lunch</th><th>test preparation course</th><th>math score</th><th>reading score</th><th>writing score</th></tr><tr><td>str</td><td>str</td><td>str</td><td>str</td><td>str</td><td>i64</td><td>i64</td><td>i64</td></tr></thead><tbody><tr><td>&quot;male&quot;</td><td>&quot;group C&quot;</td><td>&quot;some college&quot;</td><td>&quot;standard&quot;</td><td>&quot;none&quot;</td><td>76</td><td>78</td><td>75</td></tr><tr><td>&quot;female&quot;</td><td>&quot;group B&quot;</td><td>&quot;associate&#x27;s de…</td><td>&quot;standard&quot;</td><td>&quot;none&quot;</td><td>71</td><td>83</td><td>78</td></tr><tr><td>&quot;female&quot;</td><td>&quot;group B&quot;</td><td>&quot;some college&quot;</td><td>&quot;standard&quot;</td><td>&quot;completed&quot;</td><td>88</td><td>95</td><td>92</td></tr><tr><td>&quot;male&quot;</td><td>&quot;group B&quot;</td><td>&quot;some college&quot;</td><td>&quot;free/reduced&quot;</td><td>&quot;none&quot;</td><td>40</td><td>43</td><td>39</td></tr><tr><td>&quot;male&quot;</td><td>&quot;group D&quot;</td><td>&quot;high school&quot;</td><td>&quot;free/reduced&quot;</td><td>&quot;completed&quot;</td><td>64</td><td>64</td><td>67</td></tr><tr><td>&quot;female&quot;</td><td>&quot;group B&quot;</td><td>&quot;high school&quot;</td><td>&quot;free/reduced&quot;</td><td>&quot;none&quot;</td><td>38</td><td>60</td><td>50</td></tr></tbody></table></div>"
      ],
      "text/plain": [
       "shape: (6, 8)\n",
       "┌────────┬────────────────┬────────────────┬──────────────┬───────────────┬────────────┬───────────────┬───────────────┐\n",
       "│ gender ┆ race/ethnicity ┆ parental level ┆ lunch        ┆ test          ┆ math score ┆ reading score ┆ writing score │\n",
       "│ ---    ┆ ---            ┆ of education   ┆ ---          ┆ preparation   ┆ ---        ┆ ---           ┆ ---           │\n",
       "│ str    ┆ str            ┆ ---            ┆ str          ┆ course        ┆ i64        ┆ i64           ┆ i64           │\n",
       "│        ┆                ┆ str            ┆              ┆ ---           ┆            ┆               ┆               │\n",
       "│        ┆                ┆                ┆              ┆ str           ┆            ┆               ┆               │\n",
       "╞════════╪════════════════╪════════════════╪══════════════╪═══════════════╪════════════╪═══════════════╪═══════════════╡\n",
       "│ male   ┆ group C        ┆ some college   ┆ standard     ┆ none          ┆ 76         ┆ 78            ┆ 75            │\n",
       "│ female ┆ group B        ┆ associate's    ┆ standard     ┆ none          ┆ 71         ┆ 83            ┆ 78            │\n",
       "│        ┆                ┆ degree         ┆              ┆               ┆            ┆               ┆               │\n",
       "│ female ┆ group B        ┆ some college   ┆ standard     ┆ completed     ┆ 88         ┆ 95            ┆ 92            │\n",
       "│ male   ┆ group B        ┆ some college   ┆ free/reduced ┆ none          ┆ 40         ┆ 43            ┆ 39            │\n",
       "│ male   ┆ group D        ┆ high school    ┆ free/reduced ┆ completed     ┆ 64         ┆ 64            ┆ 67            │\n",
       "│ female ┆ group B        ┆ high school    ┆ free/reduced ┆ none          ┆ 38         ┆ 60            ┆ 50            │\n",
       "└────────┴────────────────┴────────────────┴──────────────┴───────────────┴────────────┴───────────────┴───────────────┘"
      ]
     },
     "execution_count": 93,
     "metadata": {},
     "output_type": "execute_result"
    }
   ],
   "source": [
    "df[4:10,:]"
   ]
  },
  {
   "cell_type": "markdown",
   "id": "ec8d9df6",
   "metadata": {},
   "source": [
    "##### Seleccionando un dato"
   ]
  },
  {
   "cell_type": "code",
   "execution_count": 95,
   "id": "87307bc6",
   "metadata": {},
   "outputs": [
    {
     "data": {
      "text/html": [
       "<div><style>\n",
       ".dataframe > thead > tr > th,\n",
       ".dataframe > tbody > tr > td {\n",
       "  text-align: right;\n",
       "}\n",
       "</style>\n",
       "<small>shape: (5, 8)</small><table border=\"1\" class=\"dataframe\"><thead><tr><th>gender</th><th>race/ethnicity</th><th>parental level of education</th><th>lunch</th><th>test preparation course</th><th>math score</th><th>reading score</th><th>writing score</th></tr><tr><td>str</td><td>str</td><td>str</td><td>str</td><td>str</td><td>i64</td><td>i64</td><td>i64</td></tr></thead><tbody><tr><td>&quot;female&quot;</td><td>&quot;group B&quot;</td><td>&quot;bachelor&#x27;s deg…</td><td>&quot;standard&quot;</td><td>&quot;none&quot;</td><td>72</td><td>72</td><td>74</td></tr><tr><td>&quot;female&quot;</td><td>&quot;group C&quot;</td><td>&quot;some college&quot;</td><td>&quot;standard&quot;</td><td>&quot;completed&quot;</td><td>69</td><td>90</td><td>88</td></tr><tr><td>&quot;female&quot;</td><td>&quot;group B&quot;</td><td>&quot;master&#x27;s degre…</td><td>&quot;standard&quot;</td><td>&quot;none&quot;</td><td>90</td><td>95</td><td>93</td></tr><tr><td>&quot;male&quot;</td><td>&quot;group A&quot;</td><td>&quot;associate&#x27;s de…</td><td>&quot;free/reduced&quot;</td><td>&quot;none&quot;</td><td>47</td><td>57</td><td>44</td></tr><tr><td>&quot;male&quot;</td><td>&quot;group C&quot;</td><td>&quot;some college&quot;</td><td>&quot;standard&quot;</td><td>&quot;none&quot;</td><td>76</td><td>78</td><td>75</td></tr></tbody></table></div>"
      ],
      "text/plain": [
       "shape: (5, 8)\n",
       "┌────────┬────────────────┬────────────────┬──────────────┬───────────────┬────────────┬───────────────┬───────────────┐\n",
       "│ gender ┆ race/ethnicity ┆ parental level ┆ lunch        ┆ test          ┆ math score ┆ reading score ┆ writing score │\n",
       "│ ---    ┆ ---            ┆ of education   ┆ ---          ┆ preparation   ┆ ---        ┆ ---           ┆ ---           │\n",
       "│ str    ┆ str            ┆ ---            ┆ str          ┆ course        ┆ i64        ┆ i64           ┆ i64           │\n",
       "│        ┆                ┆ str            ┆              ┆ ---           ┆            ┆               ┆               │\n",
       "│        ┆                ┆                ┆              ┆ str           ┆            ┆               ┆               │\n",
       "╞════════╪════════════════╪════════════════╪══════════════╪═══════════════╪════════════╪═══════════════╪═══════════════╡\n",
       "│ female ┆ group B        ┆ bachelor's     ┆ standard     ┆ none          ┆ 72         ┆ 72            ┆ 74            │\n",
       "│        ┆                ┆ degree         ┆              ┆               ┆            ┆               ┆               │\n",
       "│ female ┆ group C        ┆ some college   ┆ standard     ┆ completed     ┆ 69         ┆ 90            ┆ 88            │\n",
       "│ female ┆ group B        ┆ master's       ┆ standard     ┆ none          ┆ 90         ┆ 95            ┆ 93            │\n",
       "│        ┆                ┆ degree         ┆              ┆               ┆            ┆               ┆               │\n",
       "│ male   ┆ group A        ┆ associate's    ┆ free/reduced ┆ none          ┆ 47         ┆ 57            ┆ 44            │\n",
       "│        ┆                ┆ degree         ┆              ┆               ┆            ┆               ┆               │\n",
       "│ male   ┆ group C        ┆ some college   ┆ standard     ┆ none          ┆ 76         ┆ 78            ┆ 75            │\n",
       "└────────┴────────────────┴────────────────┴──────────────┴───────────────┴────────────┴───────────────┴───────────────┘"
      ]
     },
     "execution_count": 95,
     "metadata": {},
     "output_type": "execute_result"
    }
   ],
   "source": [
    "df.head()"
   ]
  },
  {
   "cell_type": "code",
   "execution_count": 98,
   "id": "e8f91982",
   "metadata": {},
   "outputs": [
    {
     "data": {
      "text/plain": [
       "'standard'"
      ]
     },
     "execution_count": 98,
     "metadata": {},
     "output_type": "execute_result"
    }
   ],
   "source": [
    "df[0,3]"
   ]
  },
  {
   "cell_type": "code",
   "execution_count": 100,
   "id": "93e41617",
   "metadata": {},
   "outputs": [
    {
     "data": {
      "text/plain": [
       "'standard'"
      ]
     },
     "execution_count": 100,
     "metadata": {},
     "output_type": "execute_result"
    }
   ],
   "source": [
    "df[0,'lunch']"
   ]
  },
  {
   "cell_type": "markdown",
   "id": "7ad9ef3f",
   "metadata": {},
   "source": [
    "#### Función `pl.groupby()`"
   ]
  },
  {
   "cell_type": "markdown",
   "id": "b16c299f",
   "metadata": {},
   "source": [
    "Si deseamos agrupar datos y hallar alguna medida estadística, podemos utilizar `pl.groupby()` especificando la columna dentro de los paréntesis. En este caso, mostrará los tipos de variables de la columna 'lunch' y sus respectivos promedios respecto a cada materia."
   ]
  },
  {
   "cell_type": "code",
   "execution_count": 7,
   "id": "ec52ffb4",
   "metadata": {
    "scrolled": false
   },
   "outputs": [
    {
     "data": {
      "text/html": [
       "<div><style>\n",
       ".dataframe > thead > tr > th,\n",
       ".dataframe > tbody > tr > td {\n",
       "  text-align: right;\n",
       "}\n",
       "</style>\n",
       "<small>shape: (2, 8)</small><table border=\"1\" class=\"dataframe\"><thead><tr><th>lunch</th><th>gender</th><th>race/ethnicity</th><th>parental level of education</th><th>test preparation course</th><th>math score</th><th>reading score</th><th>writing score</th></tr><tr><td>str</td><td>str</td><td>str</td><td>str</td><td>str</td><td>f64</td><td>f64</td><td>f64</td></tr></thead><tbody><tr><td>&quot;standard&quot;</td><td>null</td><td>null</td><td>null</td><td>null</td><td>70.034109</td><td>71.654264</td><td>70.823256</td></tr><tr><td>&quot;free/reduced&quot;</td><td>null</td><td>null</td><td>null</td><td>null</td><td>58.921127</td><td>64.653521</td><td>63.022535</td></tr></tbody></table></div>"
      ],
      "text/plain": [
       "shape: (2, 8)\n",
       "┌──────────────┬────────┬──────────────────┬───────────┬──────────────────┬────────────┬───────────────┬───────────────┐\n",
       "│ lunch        ┆ gender ┆ race/ethnicity   ┆ parental  ┆ test preparation ┆ math score ┆ reading score ┆ writing score │\n",
       "│ ---          ┆ ---    ┆ ---              ┆ level of  ┆ course           ┆ ---        ┆ ---           ┆ ---           │\n",
       "│ str          ┆ str    ┆ str              ┆ education ┆ ---              ┆ f64        ┆ f64           ┆ f64           │\n",
       "│              ┆        ┆                  ┆ ---       ┆ str              ┆            ┆               ┆               │\n",
       "│              ┆        ┆                  ┆ str       ┆                  ┆            ┆               ┆               │\n",
       "╞══════════════╪════════╪══════════════════╪═══════════╪══════════════════╪════════════╪═══════════════╪═══════════════╡\n",
       "│ standard     ┆ null   ┆ null             ┆ null      ┆ null             ┆ 70.034109  ┆ 71.654264     ┆ 70.823256     │\n",
       "│ free/reduced ┆ null   ┆ null             ┆ null      ┆ null             ┆ 58.921127  ┆ 64.653521     ┆ 63.022535     │\n",
       "└──────────────┴────────┴──────────────────┴───────────┴──────────────────┴────────────┴───────────────┴───────────────┘"
      ]
     },
     "execution_count": 7,
     "metadata": {},
     "output_type": "execute_result"
    }
   ],
   "source": [
    "df.groupby('lunch').mean()"
   ]
  },
  {
   "cell_type": "markdown",
   "id": "ac7efb20",
   "metadata": {},
   "source": [
    "#### Función `pl.sort()`"
   ]
  },
  {
   "cell_type": "markdown",
   "id": "e748d8cd",
   "metadata": {},
   "source": [
    "Si deseamos ordenar los valores de la tabla respecto a un valores cuantitativo de una columna, la función `pl.sort()` nos permite hacer esto de manera descendente y ascendente por defecto."
   ]
  },
  {
   "cell_type": "code",
   "execution_count": 13,
   "id": "834060c7",
   "metadata": {},
   "outputs": [
    {
     "data": {
      "text/html": [
       "<div><style>\n",
       ".dataframe > thead > tr > th,\n",
       ".dataframe > tbody > tr > td {\n",
       "  text-align: right;\n",
       "}\n",
       "</style>\n",
       "<small>shape: (5, 8)</small><table border=\"1\" class=\"dataframe\"><thead><tr><th>gender</th><th>race/ethnicity</th><th>parental level of education</th><th>lunch</th><th>test preparation course</th><th>math score</th><th>reading score</th><th>writing score</th></tr><tr><td>str</td><td>str</td><td>str</td><td>str</td><td>str</td><td>i64</td><td>i64</td><td>i64</td></tr></thead><tbody><tr><td>&quot;female&quot;</td><td>&quot;group C&quot;</td><td>&quot;some high scho…</td><td>&quot;free/reduced&quot;</td><td>&quot;none&quot;</td><td>0</td><td>17</td><td>10</td></tr><tr><td>&quot;female&quot;</td><td>&quot;group B&quot;</td><td>&quot;high school&quot;</td><td>&quot;free/reduced&quot;</td><td>&quot;none&quot;</td><td>8</td><td>24</td><td>23</td></tr><tr><td>&quot;female&quot;</td><td>&quot;group B&quot;</td><td>&quot;some high scho…</td><td>&quot;free/reduced&quot;</td><td>&quot;none&quot;</td><td>18</td><td>32</td><td>28</td></tr><tr><td>&quot;female&quot;</td><td>&quot;group B&quot;</td><td>&quot;some college&quot;</td><td>&quot;standard&quot;</td><td>&quot;none&quot;</td><td>19</td><td>38</td><td>32</td></tr><tr><td>&quot;female&quot;</td><td>&quot;group C&quot;</td><td>&quot;some college&quot;</td><td>&quot;free/reduced&quot;</td><td>&quot;none&quot;</td><td>22</td><td>39</td><td>33</td></tr></tbody></table></div>"
      ],
      "text/plain": [
       "shape: (5, 8)\n",
       "┌────────┬────────────────┬────────────────┬──────────────┬───────────────┬────────────┬───────────────┬───────────────┐\n",
       "│ gender ┆ race/ethnicity ┆ parental level ┆ lunch        ┆ test          ┆ math score ┆ reading score ┆ writing score │\n",
       "│ ---    ┆ ---            ┆ of education   ┆ ---          ┆ preparation   ┆ ---        ┆ ---           ┆ ---           │\n",
       "│ str    ┆ str            ┆ ---            ┆ str          ┆ course        ┆ i64        ┆ i64           ┆ i64           │\n",
       "│        ┆                ┆ str            ┆              ┆ ---           ┆            ┆               ┆               │\n",
       "│        ┆                ┆                ┆              ┆ str           ┆            ┆               ┆               │\n",
       "╞════════╪════════════════╪════════════════╪══════════════╪═══════════════╪════════════╪═══════════════╪═══════════════╡\n",
       "│ female ┆ group C        ┆ some high      ┆ free/reduced ┆ none          ┆ 0          ┆ 17            ┆ 10            │\n",
       "│        ┆                ┆ school         ┆              ┆               ┆            ┆               ┆               │\n",
       "│ female ┆ group B        ┆ high school    ┆ free/reduced ┆ none          ┆ 8          ┆ 24            ┆ 23            │\n",
       "│ female ┆ group B        ┆ some high      ┆ free/reduced ┆ none          ┆ 18         ┆ 32            ┆ 28            │\n",
       "│        ┆                ┆ school         ┆              ┆               ┆            ┆               ┆               │\n",
       "│ female ┆ group B        ┆ some college   ┆ standard     ┆ none          ┆ 19         ┆ 38            ┆ 32            │\n",
       "│ female ┆ group C        ┆ some college   ┆ free/reduced ┆ none          ┆ 22         ┆ 39            ┆ 33            │\n",
       "└────────┴────────────────┴────────────────┴──────────────┴───────────────┴────────────┴───────────────┴───────────────┘"
      ]
     },
     "execution_count": 13,
     "metadata": {},
     "output_type": "execute_result"
    }
   ],
   "source": [
    "df.sort('math score').head()"
   ]
  },
  {
   "cell_type": "code",
   "execution_count": 11,
   "id": "ce786691",
   "metadata": {
    "scrolled": true
   },
   "outputs": [
    {
     "data": {
      "text/html": [
       "<div><style>\n",
       ".dataframe > thead > tr > th,\n",
       ".dataframe > tbody > tr > td {\n",
       "  text-align: right;\n",
       "}\n",
       "</style>\n",
       "<small>shape: (5, 8)</small><table border=\"1\" class=\"dataframe\"><thead><tr><th>gender</th><th>race/ethnicity</th><th>parental level of education</th><th>lunch</th><th>test preparation course</th><th>math score</th><th>reading score</th><th>writing score</th></tr><tr><td>str</td><td>str</td><td>str</td><td>str</td><td>str</td><td>i64</td><td>i64</td><td>i64</td></tr></thead><tbody><tr><td>&quot;male&quot;</td><td>&quot;group E&quot;</td><td>&quot;associate&#x27;s de…</td><td>&quot;free/reduced&quot;</td><td>&quot;completed&quot;</td><td>100</td><td>100</td><td>93</td></tr><tr><td>&quot;female&quot;</td><td>&quot;group E&quot;</td><td>&quot;some college&quot;</td><td>&quot;standard&quot;</td><td>&quot;none&quot;</td><td>100</td><td>92</td><td>97</td></tr><tr><td>&quot;female&quot;</td><td>&quot;group E&quot;</td><td>&quot;bachelor&#x27;s deg…</td><td>&quot;standard&quot;</td><td>&quot;none&quot;</td><td>100</td><td>100</td><td>100</td></tr><tr><td>&quot;male&quot;</td><td>&quot;group A&quot;</td><td>&quot;some college&quot;</td><td>&quot;standard&quot;</td><td>&quot;completed&quot;</td><td>100</td><td>96</td><td>86</td></tr><tr><td>&quot;male&quot;</td><td>&quot;group D&quot;</td><td>&quot;some college&quot;</td><td>&quot;standard&quot;</td><td>&quot;completed&quot;</td><td>100</td><td>97</td><td>99</td></tr></tbody></table></div>"
      ],
      "text/plain": [
       "shape: (5, 8)\n",
       "┌────────┬────────────────┬────────────────┬──────────────┬───────────────┬────────────┬───────────────┬───────────────┐\n",
       "│ gender ┆ race/ethnicity ┆ parental level ┆ lunch        ┆ test          ┆ math score ┆ reading score ┆ writing score │\n",
       "│ ---    ┆ ---            ┆ of education   ┆ ---          ┆ preparation   ┆ ---        ┆ ---           ┆ ---           │\n",
       "│ str    ┆ str            ┆ ---            ┆ str          ┆ course        ┆ i64        ┆ i64           ┆ i64           │\n",
       "│        ┆                ┆ str            ┆              ┆ ---           ┆            ┆               ┆               │\n",
       "│        ┆                ┆                ┆              ┆ str           ┆            ┆               ┆               │\n",
       "╞════════╪════════════════╪════════════════╪══════════════╪═══════════════╪════════════╪═══════════════╪═══════════════╡\n",
       "│ male   ┆ group E        ┆ associate's    ┆ free/reduced ┆ completed     ┆ 100        ┆ 100           ┆ 93            │\n",
       "│        ┆                ┆ degree         ┆              ┆               ┆            ┆               ┆               │\n",
       "│ female ┆ group E        ┆ some college   ┆ standard     ┆ none          ┆ 100        ┆ 92            ┆ 97            │\n",
       "│ female ┆ group E        ┆ bachelor's     ┆ standard     ┆ none          ┆ 100        ┆ 100           ┆ 100           │\n",
       "│        ┆                ┆ degree         ┆              ┆               ┆            ┆               ┆               │\n",
       "│ male   ┆ group A        ┆ some college   ┆ standard     ┆ completed     ┆ 100        ┆ 96            ┆ 86            │\n",
       "│ male   ┆ group D        ┆ some college   ┆ standard     ┆ completed     ┆ 100        ┆ 97            ┆ 99            │\n",
       "└────────┴────────────────┴────────────────┴──────────────┴───────────────┴────────────┴───────────────┴───────────────┘"
      ]
     },
     "execution_count": 11,
     "metadata": {},
     "output_type": "execute_result"
    }
   ],
   "source": [
    "df.sort('math score',descending=True).head()"
   ]
  },
  {
   "cell_type": "markdown",
   "id": "b5d9d5eb",
   "metadata": {},
   "source": [
    "#### Función `pl.exclude()`"
   ]
  },
  {
   "cell_type": "markdown",
   "id": "6f4da586",
   "metadata": {},
   "source": [
    "Si deseamos excluir una columna de la tabla, utilizamos `pl.exclude()`."
   ]
  },
  {
   "cell_type": "code",
   "execution_count": 16,
   "id": "fa925030",
   "metadata": {},
   "outputs": [
    {
     "data": {
      "text/html": [
       "<div><style>\n",
       ".dataframe > thead > tr > th,\n",
       ".dataframe > tbody > tr > td {\n",
       "  text-align: right;\n",
       "}\n",
       "</style>\n",
       "<small>shape: (1_000, 7)</small><table border=\"1\" class=\"dataframe\"><thead><tr><th>race/ethnicity</th><th>parental level of education</th><th>lunch</th><th>test preparation course</th><th>math score</th><th>reading score</th><th>writing score</th></tr><tr><td>str</td><td>str</td><td>str</td><td>str</td><td>i64</td><td>i64</td><td>i64</td></tr></thead><tbody><tr><td>&quot;group B&quot;</td><td>&quot;bachelor&#x27;s deg…</td><td>&quot;standard&quot;</td><td>&quot;none&quot;</td><td>72</td><td>72</td><td>74</td></tr><tr><td>&quot;group C&quot;</td><td>&quot;some college&quot;</td><td>&quot;standard&quot;</td><td>&quot;completed&quot;</td><td>69</td><td>90</td><td>88</td></tr><tr><td>&quot;group B&quot;</td><td>&quot;master&#x27;s degre…</td><td>&quot;standard&quot;</td><td>&quot;none&quot;</td><td>90</td><td>95</td><td>93</td></tr><tr><td>&quot;group A&quot;</td><td>&quot;associate&#x27;s de…</td><td>&quot;free/reduced&quot;</td><td>&quot;none&quot;</td><td>47</td><td>57</td><td>44</td></tr><tr><td>&quot;group C&quot;</td><td>&quot;some college&quot;</td><td>&quot;standard&quot;</td><td>&quot;none&quot;</td><td>76</td><td>78</td><td>75</td></tr><tr><td>&quot;group B&quot;</td><td>&quot;associate&#x27;s de…</td><td>&quot;standard&quot;</td><td>&quot;none&quot;</td><td>71</td><td>83</td><td>78</td></tr><tr><td>&quot;group B&quot;</td><td>&quot;some college&quot;</td><td>&quot;standard&quot;</td><td>&quot;completed&quot;</td><td>88</td><td>95</td><td>92</td></tr><tr><td>&quot;group B&quot;</td><td>&quot;some college&quot;</td><td>&quot;free/reduced&quot;</td><td>&quot;none&quot;</td><td>40</td><td>43</td><td>39</td></tr><tr><td>&quot;group D&quot;</td><td>&quot;high school&quot;</td><td>&quot;free/reduced&quot;</td><td>&quot;completed&quot;</td><td>64</td><td>64</td><td>67</td></tr><tr><td>&quot;group B&quot;</td><td>&quot;high school&quot;</td><td>&quot;free/reduced&quot;</td><td>&quot;none&quot;</td><td>38</td><td>60</td><td>50</td></tr><tr><td>&quot;group C&quot;</td><td>&quot;associate&#x27;s de…</td><td>&quot;standard&quot;</td><td>&quot;none&quot;</td><td>58</td><td>54</td><td>52</td></tr><tr><td>&quot;group D&quot;</td><td>&quot;associate&#x27;s de…</td><td>&quot;standard&quot;</td><td>&quot;none&quot;</td><td>40</td><td>52</td><td>43</td></tr><tr><td>&hellip;</td><td>&hellip;</td><td>&hellip;</td><td>&hellip;</td><td>&hellip;</td><td>&hellip;</td><td>&hellip;</td></tr><tr><td>&quot;group A&quot;</td><td>&quot;some high scho…</td><td>&quot;free/reduced&quot;</td><td>&quot;none&quot;</td><td>44</td><td>45</td><td>45</td></tr><tr><td>&quot;group D&quot;</td><td>&quot;some college&quot;</td><td>&quot;free/reduced&quot;</td><td>&quot;completed&quot;</td><td>67</td><td>86</td><td>83</td></tr><tr><td>&quot;group E&quot;</td><td>&quot;high school&quot;</td><td>&quot;free/reduced&quot;</td><td>&quot;completed&quot;</td><td>86</td><td>81</td><td>75</td></tr><tr><td>&quot;group B&quot;</td><td>&quot;some high scho…</td><td>&quot;standard&quot;</td><td>&quot;completed&quot;</td><td>65</td><td>82</td><td>78</td></tr><tr><td>&quot;group D&quot;</td><td>&quot;associate&#x27;s de…</td><td>&quot;free/reduced&quot;</td><td>&quot;none&quot;</td><td>55</td><td>76</td><td>76</td></tr><tr><td>&quot;group D&quot;</td><td>&quot;bachelor&#x27;s deg…</td><td>&quot;free/reduced&quot;</td><td>&quot;none&quot;</td><td>62</td><td>72</td><td>74</td></tr><tr><td>&quot;group A&quot;</td><td>&quot;high school&quot;</td><td>&quot;standard&quot;</td><td>&quot;none&quot;</td><td>63</td><td>63</td><td>62</td></tr><tr><td>&quot;group E&quot;</td><td>&quot;master&#x27;s degre…</td><td>&quot;standard&quot;</td><td>&quot;completed&quot;</td><td>88</td><td>99</td><td>95</td></tr><tr><td>&quot;group C&quot;</td><td>&quot;high school&quot;</td><td>&quot;free/reduced&quot;</td><td>&quot;none&quot;</td><td>62</td><td>55</td><td>55</td></tr><tr><td>&quot;group C&quot;</td><td>&quot;high school&quot;</td><td>&quot;free/reduced&quot;</td><td>&quot;completed&quot;</td><td>59</td><td>71</td><td>65</td></tr><tr><td>&quot;group D&quot;</td><td>&quot;some college&quot;</td><td>&quot;standard&quot;</td><td>&quot;completed&quot;</td><td>68</td><td>78</td><td>77</td></tr><tr><td>&quot;group D&quot;</td><td>&quot;some college&quot;</td><td>&quot;free/reduced&quot;</td><td>&quot;none&quot;</td><td>77</td><td>86</td><td>86</td></tr></tbody></table></div>"
      ],
      "text/plain": [
       "shape: (1_000, 7)\n",
       "┌────────────────┬────────────────────┬──────────────┬────────────────────┬────────────┬───────────────┬───────────────┐\n",
       "│ race/ethnicity ┆ parental level of  ┆ lunch        ┆ test preparation   ┆ math score ┆ reading score ┆ writing score │\n",
       "│ ---            ┆ education          ┆ ---          ┆ course             ┆ ---        ┆ ---           ┆ ---           │\n",
       "│ str            ┆ ---                ┆ str          ┆ ---                ┆ i64        ┆ i64           ┆ i64           │\n",
       "│                ┆ str                ┆              ┆ str                ┆            ┆               ┆               │\n",
       "╞════════════════╪════════════════════╪══════════════╪════════════════════╪════════════╪═══════════════╪═══════════════╡\n",
       "│ group B        ┆ bachelor's degree  ┆ standard     ┆ none               ┆ 72         ┆ 72            ┆ 74            │\n",
       "│ group C        ┆ some college       ┆ standard     ┆ completed          ┆ 69         ┆ 90            ┆ 88            │\n",
       "│ group B        ┆ master's degree    ┆ standard     ┆ none               ┆ 90         ┆ 95            ┆ 93            │\n",
       "│ group A        ┆ associate's degree ┆ free/reduced ┆ none               ┆ 47         ┆ 57            ┆ 44            │\n",
       "│ …              ┆ …                  ┆ …            ┆ …                  ┆ …          ┆ …             ┆ …             │\n",
       "│ group C        ┆ high school        ┆ free/reduced ┆ none               ┆ 62         ┆ 55            ┆ 55            │\n",
       "│ group C        ┆ high school        ┆ free/reduced ┆ completed          ┆ 59         ┆ 71            ┆ 65            │\n",
       "│ group D        ┆ some college       ┆ standard     ┆ completed          ┆ 68         ┆ 78            ┆ 77            │\n",
       "│ group D        ┆ some college       ┆ free/reduced ┆ none               ┆ 77         ┆ 86            ┆ 86            │\n",
       "└────────────────┴────────────────────┴──────────────┴────────────────────┴────────────┴───────────────┴───────────────┘"
      ]
     },
     "execution_count": 16,
     "metadata": {},
     "output_type": "execute_result"
    }
   ],
   "source": [
    "df.select([pl.exclude('gender')])"
   ]
  },
  {
   "cell_type": "markdown",
   "id": "786681eb",
   "metadata": {},
   "source": [
    "#### Función `pl.filter()`"
   ]
  },
  {
   "cell_type": "markdown",
   "id": "aacc89b1",
   "metadata": {},
   "source": [
    "Nos permite filtrar tablas con varias restricciones."
   ]
  },
  {
   "cell_type": "code",
   "execution_count": 22,
   "id": "6778a644",
   "metadata": {
    "scrolled": false
   },
   "outputs": [
    {
     "data": {
      "text/html": [
       "<div><style>\n",
       ".dataframe > thead > tr > th,\n",
       ".dataframe > tbody > tr > td {\n",
       "  text-align: right;\n",
       "}\n",
       "</style>\n",
       "<small>shape: (4, 8)</small><table border=\"1\" class=\"dataframe\"><thead><tr><th>gender</th><th>race/ethnicity</th><th>parental level of education</th><th>lunch</th><th>test preparation course</th><th>math score</th><th>reading score</th><th>writing score</th></tr><tr><td>str</td><td>str</td><td>str</td><td>str</td><td>str</td><td>i64</td><td>i64</td><td>i64</td></tr></thead><tbody><tr><td>&quot;male&quot;</td><td>&quot;group A&quot;</td><td>&quot;associate&#x27;s de…</td><td>&quot;standard&quot;</td><td>&quot;completed&quot;</td><td>97</td><td>92</td><td>86</td></tr><tr><td>&quot;female&quot;</td><td>&quot;group A&quot;</td><td>&quot;some high scho…</td><td>&quot;standard&quot;</td><td>&quot;completed&quot;</td><td>92</td><td>100</td><td>97</td></tr><tr><td>&quot;male&quot;</td><td>&quot;group A&quot;</td><td>&quot;bachelor&#x27;s deg…</td><td>&quot;standard&quot;</td><td>&quot;none&quot;</td><td>91</td><td>96</td><td>92</td></tr><tr><td>&quot;male&quot;</td><td>&quot;group A&quot;</td><td>&quot;some college&quot;</td><td>&quot;standard&quot;</td><td>&quot;completed&quot;</td><td>100</td><td>96</td><td>86</td></tr></tbody></table></div>"
      ],
      "text/plain": [
       "shape: (4, 8)\n",
       "┌────────┬────────────────┬──────────────────────┬──────────┬─────────────┬────────────┬───────────────┬───────────────┐\n",
       "│ gender ┆ race/ethnicity ┆ parental level of    ┆ lunch    ┆ test        ┆ math score ┆ reading score ┆ writing score │\n",
       "│ ---    ┆ ---            ┆ education            ┆ ---      ┆ preparation ┆ ---        ┆ ---           ┆ ---           │\n",
       "│ str    ┆ str            ┆ ---                  ┆ str      ┆ course      ┆ i64        ┆ i64           ┆ i64           │\n",
       "│        ┆                ┆ str                  ┆          ┆ ---         ┆            ┆               ┆               │\n",
       "│        ┆                ┆                      ┆          ┆ str         ┆            ┆               ┆               │\n",
       "╞════════╪════════════════╪══════════════════════╪══════════╪═════════════╪════════════╪═══════════════╪═══════════════╡\n",
       "│ male   ┆ group A        ┆ associate's degree   ┆ standard ┆ completed   ┆ 97         ┆ 92            ┆ 86            │\n",
       "│ female ┆ group A        ┆ some high school     ┆ standard ┆ completed   ┆ 92         ┆ 100           ┆ 97            │\n",
       "│ male   ┆ group A        ┆ bachelor's degree    ┆ standard ┆ none        ┆ 91         ┆ 96            ┆ 92            │\n",
       "│ male   ┆ group A        ┆ some college         ┆ standard ┆ completed   ┆ 100        ┆ 96            ┆ 86            │\n",
       "└────────┴────────────────┴──────────────────────┴──────────┴─────────────┴────────────┴───────────────┴───────────────┘"
      ]
     },
     "execution_count": 22,
     "metadata": {},
     "output_type": "execute_result"
    }
   ],
   "source": [
    "df.filter((pl.col('math score') > 90) & (pl.col('race/ethnicity') == 'group A'))"
   ]
  },
  {
   "cell_type": "markdown",
   "id": "f0767d9d",
   "metadata": {},
   "source": [
    "#### Función `pl.fillna()`"
   ]
  },
  {
   "cell_type": "markdown",
   "id": "f6bbfef2",
   "metadata": {},
   "source": [
    "La función permite completar los espacios vacíos o null con una caracter de nuestra preferencia."
   ]
  },
  {
   "cell_type": "code",
   "execution_count": 27,
   "id": "d0c96a21",
   "metadata": {},
   "outputs": [
    {
     "data": {
      "text/html": [
       "<div><style>\n",
       ".dataframe > thead > tr > th,\n",
       ".dataframe > tbody > tr > td {\n",
       "  text-align: right;\n",
       "}\n",
       "</style>\n",
       "<small>shape: (6, 2)</small><table border=\"1\" class=\"dataframe\"><thead><tr><th>col1</th><th>col2</th></tr><tr><td>i64</td><td>i64</td></tr></thead><tbody><tr><td>1</td><td>1</td></tr><tr><td>2</td><td>null</td></tr><tr><td>3</td><td>3</td></tr><tr><td>4</td><td>10</td></tr><tr><td>5</td><td>null</td></tr><tr><td>6</td><td>null</td></tr></tbody></table></div>"
      ],
      "text/plain": [
       "shape: (6, 2)\n",
       "┌──────┬──────┐\n",
       "│ col1 ┆ col2 │\n",
       "│ ---  ┆ ---  │\n",
       "│ i64  ┆ i64  │\n",
       "╞══════╪══════╡\n",
       "│ 1    ┆ 1    │\n",
       "│ 2    ┆ null │\n",
       "│ 3    ┆ 3    │\n",
       "│ 4    ┆ 10   │\n",
       "│ 5    ┆ null │\n",
       "│ 6    ┆ null │\n",
       "└──────┴──────┘"
      ]
     },
     "execution_count": 27,
     "metadata": {},
     "output_type": "execute_result"
    }
   ],
   "source": [
    "datos = pl.DataFrame(\n",
    "    {\"col1\":[1,2,3,4,5,6],\n",
    "     \"col2\":[1,None,3,10,None,None]})\n",
    "\n",
    "datos"
   ]
  },
  {
   "cell_type": "code",
   "execution_count": 32,
   "id": "d1f3cdd6",
   "metadata": {},
   "outputs": [
    {
     "data": {
      "text/html": [
       "<div><style>\n",
       ".dataframe > thead > tr > th,\n",
       ".dataframe > tbody > tr > td {\n",
       "  text-align: right;\n",
       "}\n",
       "</style>\n",
       "<small>shape: (6, 2)</small><table border=\"1\" class=\"dataframe\"><thead><tr><th>col1</th><th>col2</th></tr><tr><td>i64</td><td>i64</td></tr></thead><tbody><tr><td>1</td><td>1</td></tr><tr><td>2</td><td>2</td></tr><tr><td>3</td><td>3</td></tr><tr><td>4</td><td>10</td></tr><tr><td>5</td><td>2</td></tr><tr><td>6</td><td>2</td></tr></tbody></table></div>"
      ],
      "text/plain": [
       "shape: (6, 2)\n",
       "┌──────┬──────┐\n",
       "│ col1 ┆ col2 │\n",
       "│ ---  ┆ ---  │\n",
       "│ i64  ┆ i64  │\n",
       "╞══════╪══════╡\n",
       "│ 1    ┆ 1    │\n",
       "│ 2    ┆ 2    │\n",
       "│ 3    ┆ 3    │\n",
       "│ 4    ┆ 10   │\n",
       "│ 5    ┆ 2    │\n",
       "│ 6    ┆ 2    │\n",
       "└──────┴──────┘"
      ]
     },
     "execution_count": 32,
     "metadata": {},
     "output_type": "execute_result"
    }
   ],
   "source": [
    "datos.with_columns(pl.col(\"col2\").fill_null(pl.lit(2)))"
   ]
  },
  {
   "cell_type": "markdown",
   "id": "f1c1103e",
   "metadata": {},
   "source": [
    "#### Función `pl.drop_nulls()`"
   ]
  },
  {
   "cell_type": "code",
   "execution_count": 34,
   "id": "b44a98b6",
   "metadata": {},
   "outputs": [
    {
     "data": {
      "text/html": [
       "<div><style>\n",
       ".dataframe > thead > tr > th,\n",
       ".dataframe > tbody > tr > td {\n",
       "  text-align: right;\n",
       "}\n",
       "</style>\n",
       "<small>shape: (6, 2)</small><table border=\"1\" class=\"dataframe\"><thead><tr><th>col1</th><th>col2</th></tr><tr><td>i64</td><td>i64</td></tr></thead><tbody><tr><td>1</td><td>1</td></tr><tr><td>2</td><td>null</td></tr><tr><td>3</td><td>3</td></tr><tr><td>4</td><td>10</td></tr><tr><td>5</td><td>null</td></tr><tr><td>6</td><td>null</td></tr></tbody></table></div>"
      ],
      "text/plain": [
       "shape: (6, 2)\n",
       "┌──────┬──────┐\n",
       "│ col1 ┆ col2 │\n",
       "│ ---  ┆ ---  │\n",
       "│ i64  ┆ i64  │\n",
       "╞══════╪══════╡\n",
       "│ 1    ┆ 1    │\n",
       "│ 2    ┆ null │\n",
       "│ 3    ┆ 3    │\n",
       "│ 4    ┆ 10   │\n",
       "│ 5    ┆ null │\n",
       "│ 6    ┆ null │\n",
       "└──────┴──────┘"
      ]
     },
     "execution_count": 34,
     "metadata": {},
     "output_type": "execute_result"
    }
   ],
   "source": [
    "datos"
   ]
  },
  {
   "cell_type": "code",
   "execution_count": 33,
   "id": "8a1df294",
   "metadata": {
    "scrolled": true
   },
   "outputs": [
    {
     "data": {
      "text/html": [
       "<div><style>\n",
       ".dataframe > thead > tr > th,\n",
       ".dataframe > tbody > tr > td {\n",
       "  text-align: right;\n",
       "}\n",
       "</style>\n",
       "<small>shape: (3, 2)</small><table border=\"1\" class=\"dataframe\"><thead><tr><th>col1</th><th>col2</th></tr><tr><td>i64</td><td>i64</td></tr></thead><tbody><tr><td>1</td><td>1</td></tr><tr><td>3</td><td>3</td></tr><tr><td>4</td><td>10</td></tr></tbody></table></div>"
      ],
      "text/plain": [
       "shape: (3, 2)\n",
       "┌──────┬──────┐\n",
       "│ col1 ┆ col2 │\n",
       "│ ---  ┆ ---  │\n",
       "│ i64  ┆ i64  │\n",
       "╞══════╪══════╡\n",
       "│ 1    ┆ 1    │\n",
       "│ 3    ┆ 3    │\n",
       "│ 4    ┆ 10   │\n",
       "└──────┴──────┘"
      ]
     },
     "execution_count": 33,
     "metadata": {},
     "output_type": "execute_result"
    }
   ],
   "source": [
    "datos.drop_nulls()"
   ]
  },
  {
   "cell_type": "markdown",
   "id": "fa48b877",
   "metadata": {},
   "source": [
    "#### Función `pl.drop()`"
   ]
  },
  {
   "cell_type": "markdown",
   "id": "4ba208f4",
   "metadata": {},
   "source": [
    "Nos permite eliminar columnas."
   ]
  },
  {
   "cell_type": "code",
   "execution_count": 43,
   "id": "8888dc0b",
   "metadata": {},
   "outputs": [
    {
     "data": {
      "text/html": [
       "<div><style>\n",
       ".dataframe > thead > tr > th,\n",
       ".dataframe > tbody > tr > td {\n",
       "  text-align: right;\n",
       "}\n",
       "</style>\n",
       "<small>shape: (5, 8)</small><table border=\"1\" class=\"dataframe\"><thead><tr><th>gender</th><th>race/ethnicity</th><th>parental level of education</th><th>lunch</th><th>test preparation course</th><th>math score</th><th>reading score</th><th>writing score</th></tr><tr><td>str</td><td>str</td><td>str</td><td>str</td><td>str</td><td>i64</td><td>i64</td><td>i64</td></tr></thead><tbody><tr><td>&quot;female&quot;</td><td>&quot;group B&quot;</td><td>&quot;bachelor&#x27;s deg…</td><td>&quot;standard&quot;</td><td>&quot;none&quot;</td><td>72</td><td>72</td><td>74</td></tr><tr><td>&quot;female&quot;</td><td>&quot;group C&quot;</td><td>&quot;some college&quot;</td><td>&quot;standard&quot;</td><td>&quot;completed&quot;</td><td>69</td><td>90</td><td>88</td></tr><tr><td>&quot;female&quot;</td><td>&quot;group B&quot;</td><td>&quot;master&#x27;s degre…</td><td>&quot;standard&quot;</td><td>&quot;none&quot;</td><td>90</td><td>95</td><td>93</td></tr><tr><td>&quot;male&quot;</td><td>&quot;group A&quot;</td><td>&quot;associate&#x27;s de…</td><td>&quot;free/reduced&quot;</td><td>&quot;none&quot;</td><td>47</td><td>57</td><td>44</td></tr><tr><td>&quot;male&quot;</td><td>&quot;group C&quot;</td><td>&quot;some college&quot;</td><td>&quot;standard&quot;</td><td>&quot;none&quot;</td><td>76</td><td>78</td><td>75</td></tr></tbody></table></div>"
      ],
      "text/plain": [
       "shape: (5, 8)\n",
       "┌────────┬────────────────┬────────────────┬──────────────┬───────────────┬────────────┬───────────────┬───────────────┐\n",
       "│ gender ┆ race/ethnicity ┆ parental level ┆ lunch        ┆ test          ┆ math score ┆ reading score ┆ writing score │\n",
       "│ ---    ┆ ---            ┆ of education   ┆ ---          ┆ preparation   ┆ ---        ┆ ---           ┆ ---           │\n",
       "│ str    ┆ str            ┆ ---            ┆ str          ┆ course        ┆ i64        ┆ i64           ┆ i64           │\n",
       "│        ┆                ┆ str            ┆              ┆ ---           ┆            ┆               ┆               │\n",
       "│        ┆                ┆                ┆              ┆ str           ┆            ┆               ┆               │\n",
       "╞════════╪════════════════╪════════════════╪══════════════╪═══════════════╪════════════╪═══════════════╪═══════════════╡\n",
       "│ female ┆ group B        ┆ bachelor's     ┆ standard     ┆ none          ┆ 72         ┆ 72            ┆ 74            │\n",
       "│        ┆                ┆ degree         ┆              ┆               ┆            ┆               ┆               │\n",
       "│ female ┆ group C        ┆ some college   ┆ standard     ┆ completed     ┆ 69         ┆ 90            ┆ 88            │\n",
       "│ female ┆ group B        ┆ master's       ┆ standard     ┆ none          ┆ 90         ┆ 95            ┆ 93            │\n",
       "│        ┆                ┆ degree         ┆              ┆               ┆            ┆               ┆               │\n",
       "│ male   ┆ group A        ┆ associate's    ┆ free/reduced ┆ none          ┆ 47         ┆ 57            ┆ 44            │\n",
       "│        ┆                ┆ degree         ┆              ┆               ┆            ┆               ┆               │\n",
       "│ male   ┆ group C        ┆ some college   ┆ standard     ┆ none          ┆ 76         ┆ 78            ┆ 75            │\n",
       "└────────┴────────────────┴────────────────┴──────────────┴───────────────┴────────────┴───────────────┴───────────────┘"
      ]
     },
     "execution_count": 43,
     "metadata": {},
     "output_type": "execute_result"
    }
   ],
   "source": [
    "df.head()"
   ]
  },
  {
   "cell_type": "code",
   "execution_count": 44,
   "id": "67bd1826",
   "metadata": {},
   "outputs": [
    {
     "data": {
      "text/html": [
       "<div><style>\n",
       ".dataframe > thead > tr > th,\n",
       ".dataframe > tbody > tr > td {\n",
       "  text-align: right;\n",
       "}\n",
       "</style>\n",
       "<small>shape: (5, 7)</small><table border=\"1\" class=\"dataframe\"><thead><tr><th>gender</th><th>race/ethnicity</th><th>lunch</th><th>test preparation course</th><th>math score</th><th>reading score</th><th>writing score</th></tr><tr><td>str</td><td>str</td><td>str</td><td>str</td><td>i64</td><td>i64</td><td>i64</td></tr></thead><tbody><tr><td>&quot;female&quot;</td><td>&quot;group B&quot;</td><td>&quot;standard&quot;</td><td>&quot;none&quot;</td><td>72</td><td>72</td><td>74</td></tr><tr><td>&quot;female&quot;</td><td>&quot;group C&quot;</td><td>&quot;standard&quot;</td><td>&quot;completed&quot;</td><td>69</td><td>90</td><td>88</td></tr><tr><td>&quot;female&quot;</td><td>&quot;group B&quot;</td><td>&quot;standard&quot;</td><td>&quot;none&quot;</td><td>90</td><td>95</td><td>93</td></tr><tr><td>&quot;male&quot;</td><td>&quot;group A&quot;</td><td>&quot;free/reduced&quot;</td><td>&quot;none&quot;</td><td>47</td><td>57</td><td>44</td></tr><tr><td>&quot;male&quot;</td><td>&quot;group C&quot;</td><td>&quot;standard&quot;</td><td>&quot;none&quot;</td><td>76</td><td>78</td><td>75</td></tr></tbody></table></div>"
      ],
      "text/plain": [
       "shape: (5, 7)\n",
       "┌────────┬────────────────┬──────────────┬─────────────────────────┬────────────┬───────────────┬───────────────┐\n",
       "│ gender ┆ race/ethnicity ┆ lunch        ┆ test preparation course ┆ math score ┆ reading score ┆ writing score │\n",
       "│ ---    ┆ ---            ┆ ---          ┆ ---                     ┆ ---        ┆ ---           ┆ ---           │\n",
       "│ str    ┆ str            ┆ str          ┆ str                     ┆ i64        ┆ i64           ┆ i64           │\n",
       "╞════════╪════════════════╪══════════════╪═════════════════════════╪════════════╪═══════════════╪═══════════════╡\n",
       "│ female ┆ group B        ┆ standard     ┆ none                    ┆ 72         ┆ 72            ┆ 74            │\n",
       "│ female ┆ group C        ┆ standard     ┆ completed               ┆ 69         ┆ 90            ┆ 88            │\n",
       "│ female ┆ group B        ┆ standard     ┆ none                    ┆ 90         ┆ 95            ┆ 93            │\n",
       "│ male   ┆ group A        ┆ free/reduced ┆ none                    ┆ 47         ┆ 57            ┆ 44            │\n",
       "│ male   ┆ group C        ┆ standard     ┆ none                    ┆ 76         ┆ 78            ┆ 75            │\n",
       "└────────┴────────────────┴──────────────┴─────────────────────────┴────────────┴───────────────┴───────────────┘"
      ]
     },
     "execution_count": 44,
     "metadata": {},
     "output_type": "execute_result"
    }
   ],
   "source": [
    "df.drop('parental level of education').head()"
   ]
  },
  {
   "cell_type": "markdown",
   "id": "a6d7b0be",
   "metadata": {},
   "source": [
    "#### Función `pl.transpose()`"
   ]
  },
  {
   "cell_type": "markdown",
   "id": "8c5f9631",
   "metadata": {},
   "source": [
    "Nos permite convertir filas en columnas y columnas en filas."
   ]
  },
  {
   "cell_type": "code",
   "execution_count": 47,
   "id": "58340e90",
   "metadata": {
    "scrolled": true
   },
   "outputs": [
    {
     "data": {
      "text/html": [
       "<div><style>\n",
       ".dataframe > thead > tr > th,\n",
       ".dataframe > tbody > tr > td {\n",
       "  text-align: right;\n",
       "}\n",
       "</style>\n",
       "<small>shape: (8, 1_001)</small><table border=\"1\" class=\"dataframe\"><thead><tr><th>column</th><th>column_0</th><th>column_1</th><th>column_2</th><th>column_3</th><th>column_4</th><th>column_5</th><th>column_6</th><th>column_7</th><th>column_8</th><th>column_9</th><th>column_10</th><th>column_11</th><th>column_12</th><th>column_13</th><th>column_14</th><th>column_15</th><th>column_16</th><th>column_17</th><th>column_18</th><th>column_19</th><th>column_20</th><th>column_21</th><th>column_22</th><th>column_23</th><th>column_24</th><th>column_25</th><th>column_26</th><th>column_27</th><th>column_28</th><th>column_29</th><th>column_30</th><th>column_31</th><th>column_32</th><th>column_33</th><th>column_34</th><th>column_35</th><th>&hellip;</th><th>column_963</th><th>column_964</th><th>column_965</th><th>column_966</th><th>column_967</th><th>column_968</th><th>column_969</th><th>column_970</th><th>column_971</th><th>column_972</th><th>column_973</th><th>column_974</th><th>column_975</th><th>column_976</th><th>column_977</th><th>column_978</th><th>column_979</th><th>column_980</th><th>column_981</th><th>column_982</th><th>column_983</th><th>column_984</th><th>column_985</th><th>column_986</th><th>column_987</th><th>column_988</th><th>column_989</th><th>column_990</th><th>column_991</th><th>column_992</th><th>column_993</th><th>column_994</th><th>column_995</th><th>column_996</th><th>column_997</th><th>column_998</th><th>column_999</th></tr><tr><td>str</td><td>str</td><td>str</td><td>str</td><td>str</td><td>str</td><td>str</td><td>str</td><td>str</td><td>str</td><td>str</td><td>str</td><td>str</td><td>str</td><td>str</td><td>str</td><td>str</td><td>str</td><td>str</td><td>str</td><td>str</td><td>str</td><td>str</td><td>str</td><td>str</td><td>str</td><td>str</td><td>str</td><td>str</td><td>str</td><td>str</td><td>str</td><td>str</td><td>str</td><td>str</td><td>str</td><td>str</td><td>&hellip;</td><td>str</td><td>str</td><td>str</td><td>str</td><td>str</td><td>str</td><td>str</td><td>str</td><td>str</td><td>str</td><td>str</td><td>str</td><td>str</td><td>str</td><td>str</td><td>str</td><td>str</td><td>str</td><td>str</td><td>str</td><td>str</td><td>str</td><td>str</td><td>str</td><td>str</td><td>str</td><td>str</td><td>str</td><td>str</td><td>str</td><td>str</td><td>str</td><td>str</td><td>str</td><td>str</td><td>str</td><td>str</td></tr></thead><tbody><tr><td>&quot;gender&quot;</td><td>&quot;female&quot;</td><td>&quot;female&quot;</td><td>&quot;female&quot;</td><td>&quot;male&quot;</td><td>&quot;male&quot;</td><td>&quot;female&quot;</td><td>&quot;female&quot;</td><td>&quot;male&quot;</td><td>&quot;male&quot;</td><td>&quot;female&quot;</td><td>&quot;male&quot;</td><td>&quot;male&quot;</td><td>&quot;female&quot;</td><td>&quot;male&quot;</td><td>&quot;female&quot;</td><td>&quot;female&quot;</td><td>&quot;male&quot;</td><td>&quot;female&quot;</td><td>&quot;male&quot;</td><td>&quot;female&quot;</td><td>&quot;male&quot;</td><td>&quot;female&quot;</td><td>&quot;male&quot;</td><td>&quot;female&quot;</td><td>&quot;male&quot;</td><td>&quot;male&quot;</td><td>&quot;male&quot;</td><td>&quot;female&quot;</td><td>&quot;male&quot;</td><td>&quot;female&quot;</td><td>&quot;female&quot;</td><td>&quot;female&quot;</td><td>&quot;female&quot;</td><td>&quot;male&quot;</td><td>&quot;male&quot;</td><td>&quot;male&quot;</td><td>&hellip;</td><td>&quot;female&quot;</td><td>&quot;male&quot;</td><td>&quot;female&quot;</td><td>&quot;male&quot;</td><td>&quot;male&quot;</td><td>&quot;female&quot;</td><td>&quot;female&quot;</td><td>&quot;female&quot;</td><td>&quot;male&quot;</td><td>&quot;female&quot;</td><td>&quot;female&quot;</td><td>&quot;female&quot;</td><td>&quot;female&quot;</td><td>&quot;male&quot;</td><td>&quot;male&quot;</td><td>&quot;male&quot;</td><td>&quot;female&quot;</td><td>&quot;female&quot;</td><td>&quot;male&quot;</td><td>&quot;male&quot;</td><td>&quot;female&quot;</td><td>&quot;female&quot;</td><td>&quot;male&quot;</td><td>&quot;female&quot;</td><td>&quot;male&quot;</td><td>&quot;female&quot;</td><td>&quot;female&quot;</td><td>&quot;male&quot;</td><td>&quot;female&quot;</td><td>&quot;female&quot;</td><td>&quot;female&quot;</td><td>&quot;male&quot;</td><td>&quot;female&quot;</td><td>&quot;male&quot;</td><td>&quot;female&quot;</td><td>&quot;female&quot;</td><td>&quot;female&quot;</td></tr><tr><td>&quot;race/ethnicity…</td><td>&quot;group B&quot;</td><td>&quot;group C&quot;</td><td>&quot;group B&quot;</td><td>&quot;group A&quot;</td><td>&quot;group C&quot;</td><td>&quot;group B&quot;</td><td>&quot;group B&quot;</td><td>&quot;group B&quot;</td><td>&quot;group D&quot;</td><td>&quot;group B&quot;</td><td>&quot;group C&quot;</td><td>&quot;group D&quot;</td><td>&quot;group B&quot;</td><td>&quot;group A&quot;</td><td>&quot;group A&quot;</td><td>&quot;group C&quot;</td><td>&quot;group C&quot;</td><td>&quot;group B&quot;</td><td>&quot;group C&quot;</td><td>&quot;group C&quot;</td><td>&quot;group D&quot;</td><td>&quot;group B&quot;</td><td>&quot;group D&quot;</td><td>&quot;group C&quot;</td><td>&quot;group D&quot;</td><td>&quot;group A&quot;</td><td>&quot;group B&quot;</td><td>&quot;group C&quot;</td><td>&quot;group C&quot;</td><td>&quot;group D&quot;</td><td>&quot;group D&quot;</td><td>&quot;group B&quot;</td><td>&quot;group E&quot;</td><td>&quot;group D&quot;</td><td>&quot;group E&quot;</td><td>&quot;group E&quot;</td><td>&hellip;</td><td>&quot;group C&quot;</td><td>&quot;group D&quot;</td><td>&quot;group D&quot;</td><td>&quot;group A&quot;</td><td>&quot;group C&quot;</td><td>&quot;group E&quot;</td><td>&quot;group B&quot;</td><td>&quot;group D&quot;</td><td>&quot;group C&quot;</td><td>&quot;group A&quot;</td><td>&quot;group D&quot;</td><td>&quot;group A&quot;</td><td>&quot;group C&quot;</td><td>&quot;group B&quot;</td><td>&quot;group C&quot;</td><td>&quot;group D&quot;</td><td>&quot;group C&quot;</td><td>&quot;group B&quot;</td><td>&quot;group D&quot;</td><td>&quot;group B&quot;</td><td>&quot;group A&quot;</td><td>&quot;group C&quot;</td><td>&quot;group A&quot;</td><td>&quot;group C&quot;</td><td>&quot;group E&quot;</td><td>&quot;group A&quot;</td><td>&quot;group D&quot;</td><td>&quot;group E&quot;</td><td>&quot;group B&quot;</td><td>&quot;group D&quot;</td><td>&quot;group D&quot;</td><td>&quot;group A&quot;</td><td>&quot;group E&quot;</td><td>&quot;group C&quot;</td><td>&quot;group C&quot;</td><td>&quot;group D&quot;</td><td>&quot;group D&quot;</td></tr><tr><td>&quot;parental level…</td><td>&quot;bachelor&#x27;s deg…</td><td>&quot;some college&quot;</td><td>&quot;master&#x27;s degre…</td><td>&quot;associate&#x27;s de…</td><td>&quot;some college&quot;</td><td>&quot;associate&#x27;s de…</td><td>&quot;some college&quot;</td><td>&quot;some college&quot;</td><td>&quot;high school&quot;</td><td>&quot;high school&quot;</td><td>&quot;associate&#x27;s de…</td><td>&quot;associate&#x27;s de…</td><td>&quot;high school&quot;</td><td>&quot;some college&quot;</td><td>&quot;master&#x27;s degre…</td><td>&quot;some high scho…</td><td>&quot;high school&quot;</td><td>&quot;some high scho…</td><td>&quot;master&#x27;s degre…</td><td>&quot;associate&#x27;s de…</td><td>&quot;high school&quot;</td><td>&quot;some college&quot;</td><td>&quot;some college&quot;</td><td>&quot;some high scho…</td><td>&quot;bachelor&#x27;s deg…</td><td>&quot;master&#x27;s degre…</td><td>&quot;some college&quot;</td><td>&quot;bachelor&#x27;s deg…</td><td>&quot;high school&quot;</td><td>&quot;master&#x27;s degre…</td><td>&quot;some college&quot;</td><td>&quot;some college&quot;</td><td>&quot;master&#x27;s degre…</td><td>&quot;some college&quot;</td><td>&quot;some college&quot;</td><td>&quot;associate&#x27;s de…</td><td>&hellip;</td><td>&quot;some high scho…</td><td>&quot;some college&quot;</td><td>&quot;some college&quot;</td><td>&quot;some high scho…</td><td>&quot;some college&quot;</td><td>&quot;associate&#x27;s de…</td><td>&quot;bachelor&#x27;s deg…</td><td>&quot;bachelor&#x27;s deg…</td><td>&quot;some high scho…</td><td>&quot;high school&quot;</td><td>&quot;some college&quot;</td><td>&quot;some college&quot;</td><td>&quot;some college&quot;</td><td>&quot;some college&quot;</td><td>&quot;associate&#x27;s de…</td><td>&quot;high school&quot;</td><td>&quot;associate&#x27;s de…</td><td>&quot;high school&quot;</td><td>&quot;some high scho…</td><td>&quot;some high scho…</td><td>&quot;some college&quot;</td><td>&quot;some high scho…</td><td>&quot;high school&quot;</td><td>&quot;associate&#x27;s de…</td><td>&quot;some high scho…</td><td>&quot;some high scho…</td><td>&quot;some college&quot;</td><td>&quot;high school&quot;</td><td>&quot;some high scho…</td><td>&quot;associate&#x27;s de…</td><td>&quot;bachelor&#x27;s deg…</td><td>&quot;high school&quot;</td><td>&quot;master&#x27;s degre…</td><td>&quot;high school&quot;</td><td>&quot;high school&quot;</td><td>&quot;some college&quot;</td><td>&quot;some college&quot;</td></tr><tr><td>&quot;lunch&quot;</td><td>&quot;standard&quot;</td><td>&quot;standard&quot;</td><td>&quot;standard&quot;</td><td>&quot;free/reduced&quot;</td><td>&quot;standard&quot;</td><td>&quot;standard&quot;</td><td>&quot;standard&quot;</td><td>&quot;free/reduced&quot;</td><td>&quot;free/reduced&quot;</td><td>&quot;free/reduced&quot;</td><td>&quot;standard&quot;</td><td>&quot;standard&quot;</td><td>&quot;standard&quot;</td><td>&quot;standard&quot;</td><td>&quot;standard&quot;</td><td>&quot;standard&quot;</td><td>&quot;standard&quot;</td><td>&quot;free/reduced&quot;</td><td>&quot;free/reduced&quot;</td><td>&quot;free/reduced&quot;</td><td>&quot;standard&quot;</td><td>&quot;free/reduced&quot;</td><td>&quot;standard&quot;</td><td>&quot;standard&quot;</td><td>&quot;free/reduced&quot;</td><td>&quot;free/reduced&quot;</td><td>&quot;standard&quot;</td><td>&quot;standard&quot;</td><td>&quot;standard&quot;</td><td>&quot;standard&quot;</td><td>&quot;standard&quot;</td><td>&quot;standard&quot;</td><td>&quot;free/reduced&quot;</td><td>&quot;standard&quot;</td><td>&quot;standard&quot;</td><td>&quot;standard&quot;</td><td>&hellip;</td><td>&quot;free/reduced&quot;</td><td>&quot;standard&quot;</td><td>&quot;standard&quot;</td><td>&quot;standard&quot;</td><td>&quot;standard&quot;</td><td>&quot;standard&quot;</td><td>&quot;standard&quot;</td><td>&quot;standard&quot;</td><td>&quot;standard&quot;</td><td>&quot;free/reduced&quot;</td><td>&quot;free/reduced&quot;</td><td>&quot;standard&quot;</td><td>&quot;standard&quot;</td><td>&quot;free/reduced&quot;</td><td>&quot;standard&quot;</td><td>&quot;standard&quot;</td><td>&quot;standard&quot;</td><td>&quot;free/reduced&quot;</td><td>&quot;standard&quot;</td><td>&quot;standard&quot;</td><td>&quot;standard&quot;</td><td>&quot;standard&quot;</td><td>&quot;standard&quot;</td><td>&quot;standard&quot;</td><td>&quot;standard&quot;</td><td>&quot;free/reduced&quot;</td><td>&quot;free/reduced&quot;</td><td>&quot;free/reduced&quot;</td><td>&quot;standard&quot;</td><td>&quot;free/reduced&quot;</td><td>&quot;free/reduced&quot;</td><td>&quot;standard&quot;</td><td>&quot;standard&quot;</td><td>&quot;free/reduced&quot;</td><td>&quot;free/reduced&quot;</td><td>&quot;standard&quot;</td><td>&quot;free/reduced&quot;</td></tr><tr><td>&quot;test preparati…</td><td>&quot;none&quot;</td><td>&quot;completed&quot;</td><td>&quot;none&quot;</td><td>&quot;none&quot;</td><td>&quot;none&quot;</td><td>&quot;none&quot;</td><td>&quot;completed&quot;</td><td>&quot;none&quot;</td><td>&quot;completed&quot;</td><td>&quot;none&quot;</td><td>&quot;none&quot;</td><td>&quot;none&quot;</td><td>&quot;none&quot;</td><td>&quot;completed&quot;</td><td>&quot;none&quot;</td><td>&quot;none&quot;</td><td>&quot;none&quot;</td><td>&quot;none&quot;</td><td>&quot;completed&quot;</td><td>&quot;none&quot;</td><td>&quot;none&quot;</td><td>&quot;completed&quot;</td><td>&quot;none&quot;</td><td>&quot;none&quot;</td><td>&quot;completed&quot;</td><td>&quot;none&quot;</td><td>&quot;none&quot;</td><td>&quot;none&quot;</td><td>&quot;none&quot;</td><td>&quot;none&quot;</td><td>&quot;none&quot;</td><td>&quot;none&quot;</td><td>&quot;none&quot;</td><td>&quot;none&quot;</td><td>&quot;none&quot;</td><td>&quot;completed&quot;</td><td>&hellip;</td><td>&quot;completed&quot;</td><td>&quot;none&quot;</td><td>&quot;none&quot;</td><td>&quot;completed&quot;</td><td>&quot;none&quot;</td><td>&quot;none&quot;</td><td>&quot;none&quot;</td><td>&quot;none&quot;</td><td>&quot;completed&quot;</td><td>&quot;completed&quot;</td><td>&quot;none&quot;</td><td>&quot;none&quot;</td><td>&quot;completed&quot;</td><td>&quot;completed&quot;</td><td>&quot;none&quot;</td><td>&quot;completed&quot;</td><td>&quot;none&quot;</td><td>&quot;none&quot;</td><td>&quot;none&quot;</td><td>&quot;completed&quot;</td><td>&quot;completed&quot;</td><td>&quot;none&quot;</td><td>&quot;none&quot;</td><td>&quot;none&quot;</td><td>&quot;completed&quot;</td><td>&quot;none&quot;</td><td>&quot;completed&quot;</td><td>&quot;completed&quot;</td><td>&quot;completed&quot;</td><td>&quot;none&quot;</td><td>&quot;none&quot;</td><td>&quot;none&quot;</td><td>&quot;completed&quot;</td><td>&quot;none&quot;</td><td>&quot;completed&quot;</td><td>&quot;completed&quot;</td><td>&quot;none&quot;</td></tr><tr><td>&quot;math score&quot;</td><td>&quot;72&quot;</td><td>&quot;69&quot;</td><td>&quot;90&quot;</td><td>&quot;47&quot;</td><td>&quot;76&quot;</td><td>&quot;71&quot;</td><td>&quot;88&quot;</td><td>&quot;40&quot;</td><td>&quot;64&quot;</td><td>&quot;38&quot;</td><td>&quot;58&quot;</td><td>&quot;40&quot;</td><td>&quot;65&quot;</td><td>&quot;78&quot;</td><td>&quot;50&quot;</td><td>&quot;69&quot;</td><td>&quot;88&quot;</td><td>&quot;18&quot;</td><td>&quot;46&quot;</td><td>&quot;54&quot;</td><td>&quot;66&quot;</td><td>&quot;65&quot;</td><td>&quot;44&quot;</td><td>&quot;69&quot;</td><td>&quot;74&quot;</td><td>&quot;73&quot;</td><td>&quot;69&quot;</td><td>&quot;67&quot;</td><td>&quot;70&quot;</td><td>&quot;62&quot;</td><td>&quot;69&quot;</td><td>&quot;63&quot;</td><td>&quot;56&quot;</td><td>&quot;40&quot;</td><td>&quot;97&quot;</td><td>&quot;81&quot;</td><td>&hellip;</td><td>&quot;65&quot;</td><td>&quot;72&quot;</td><td>&quot;62&quot;</td><td>&quot;66&quot;</td><td>&quot;63&quot;</td><td>&quot;68&quot;</td><td>&quot;75&quot;</td><td>&quot;89&quot;</td><td>&quot;78&quot;</td><td>&quot;53&quot;</td><td>&quot;49&quot;</td><td>&quot;54&quot;</td><td>&quot;64&quot;</td><td>&quot;60&quot;</td><td>&quot;62&quot;</td><td>&quot;55&quot;</td><td>&quot;91&quot;</td><td>&quot;8&quot;</td><td>&quot;81&quot;</td><td>&quot;79&quot;</td><td>&quot;78&quot;</td><td>&quot;74&quot;</td><td>&quot;57&quot;</td><td>&quot;40&quot;</td><td>&quot;81&quot;</td><td>&quot;44&quot;</td><td>&quot;67&quot;</td><td>&quot;86&quot;</td><td>&quot;65&quot;</td><td>&quot;55&quot;</td><td>&quot;62&quot;</td><td>&quot;63&quot;</td><td>&quot;88&quot;</td><td>&quot;62&quot;</td><td>&quot;59&quot;</td><td>&quot;68&quot;</td><td>&quot;77&quot;</td></tr><tr><td>&quot;reading score&quot;</td><td>&quot;72&quot;</td><td>&quot;90&quot;</td><td>&quot;95&quot;</td><td>&quot;57&quot;</td><td>&quot;78&quot;</td><td>&quot;83&quot;</td><td>&quot;95&quot;</td><td>&quot;43&quot;</td><td>&quot;64&quot;</td><td>&quot;60&quot;</td><td>&quot;54&quot;</td><td>&quot;52&quot;</td><td>&quot;81&quot;</td><td>&quot;72&quot;</td><td>&quot;53&quot;</td><td>&quot;75&quot;</td><td>&quot;89&quot;</td><td>&quot;32&quot;</td><td>&quot;42&quot;</td><td>&quot;58&quot;</td><td>&quot;69&quot;</td><td>&quot;75&quot;</td><td>&quot;54&quot;</td><td>&quot;73&quot;</td><td>&quot;71&quot;</td><td>&quot;74&quot;</td><td>&quot;54&quot;</td><td>&quot;69&quot;</td><td>&quot;70&quot;</td><td>&quot;70&quot;</td><td>&quot;74&quot;</td><td>&quot;65&quot;</td><td>&quot;72&quot;</td><td>&quot;42&quot;</td><td>&quot;87&quot;</td><td>&quot;81&quot;</td><td>&hellip;</td><td>&quot;76&quot;</td><td>&quot;57&quot;</td><td>&quot;70&quot;</td><td>&quot;68&quot;</td><td>&quot;63&quot;</td><td>&quot;76&quot;</td><td>&quot;84&quot;</td><td>&quot;100&quot;</td><td>&quot;72&quot;</td><td>&quot;50&quot;</td><td>&quot;65&quot;</td><td>&quot;63&quot;</td><td>&quot;82&quot;</td><td>&quot;62&quot;</td><td>&quot;65&quot;</td><td>&quot;41&quot;</td><td>&quot;95&quot;</td><td>&quot;24&quot;</td><td>&quot;78&quot;</td><td>&quot;85&quot;</td><td>&quot;87&quot;</td><td>&quot;75&quot;</td><td>&quot;51&quot;</td><td>&quot;59&quot;</td><td>&quot;75&quot;</td><td>&quot;45&quot;</td><td>&quot;86&quot;</td><td>&quot;81&quot;</td><td>&quot;82&quot;</td><td>&quot;76&quot;</td><td>&quot;72&quot;</td><td>&quot;63&quot;</td><td>&quot;99&quot;</td><td>&quot;55&quot;</td><td>&quot;71&quot;</td><td>&quot;78&quot;</td><td>&quot;86&quot;</td></tr><tr><td>&quot;writing score&quot;</td><td>&quot;74&quot;</td><td>&quot;88&quot;</td><td>&quot;93&quot;</td><td>&quot;44&quot;</td><td>&quot;75&quot;</td><td>&quot;78&quot;</td><td>&quot;92&quot;</td><td>&quot;39&quot;</td><td>&quot;67&quot;</td><td>&quot;50&quot;</td><td>&quot;52&quot;</td><td>&quot;43&quot;</td><td>&quot;73&quot;</td><td>&quot;70&quot;</td><td>&quot;58&quot;</td><td>&quot;78&quot;</td><td>&quot;86&quot;</td><td>&quot;28&quot;</td><td>&quot;46&quot;</td><td>&quot;61&quot;</td><td>&quot;63&quot;</td><td>&quot;70&quot;</td><td>&quot;53&quot;</td><td>&quot;73&quot;</td><td>&quot;80&quot;</td><td>&quot;72&quot;</td><td>&quot;55&quot;</td><td>&quot;75&quot;</td><td>&quot;65&quot;</td><td>&quot;75&quot;</td><td>&quot;74&quot;</td><td>&quot;61&quot;</td><td>&quot;65&quot;</td><td>&quot;38&quot;</td><td>&quot;82&quot;</td><td>&quot;79&quot;</td><td>&hellip;</td><td>&quot;75&quot;</td><td>&quot;58&quot;</td><td>&quot;72&quot;</td><td>&quot;64&quot;</td><td>&quot;60&quot;</td><td>&quot;67&quot;</td><td>&quot;80&quot;</td><td>&quot;100&quot;</td><td>&quot;69&quot;</td><td>&quot;60&quot;</td><td>&quot;61&quot;</td><td>&quot;67&quot;</td><td>&quot;77&quot;</td><td>&quot;60&quot;</td><td>&quot;58&quot;</td><td>&quot;48&quot;</td><td>&quot;94&quot;</td><td>&quot;23&quot;</td><td>&quot;78&quot;</td><td>&quot;86&quot;</td><td>&quot;91&quot;</td><td>&quot;82&quot;</td><td>&quot;54&quot;</td><td>&quot;51&quot;</td><td>&quot;76&quot;</td><td>&quot;45&quot;</td><td>&quot;83&quot;</td><td>&quot;75&quot;</td><td>&quot;78&quot;</td><td>&quot;76&quot;</td><td>&quot;74&quot;</td><td>&quot;62&quot;</td><td>&quot;95&quot;</td><td>&quot;55&quot;</td><td>&quot;65&quot;</td><td>&quot;77&quot;</td><td>&quot;86&quot;</td></tr></tbody></table></div>"
      ],
      "text/plain": [
       "shape: (8, 1_001)\n",
       "┌──────────────┬──────────────┬──────────────┬──────────┬───┬──────────────┬──────────────┬──────────────┬─────────────┐\n",
       "│ column       ┆ column_0     ┆ column_1     ┆ column_2 ┆ … ┆ column_996   ┆ column_997   ┆ column_998   ┆ column_999  │\n",
       "│ ---          ┆ ---          ┆ ---          ┆ ---      ┆   ┆ ---          ┆ ---          ┆ ---          ┆ ---         │\n",
       "│ str          ┆ str          ┆ str          ┆ str      ┆   ┆ str          ┆ str          ┆ str          ┆ str         │\n",
       "╞══════════════╪══════════════╪══════════════╪══════════╪═══╪══════════════╪══════════════╪══════════════╪═════════════╡\n",
       "│ gender       ┆ female       ┆ female       ┆ female   ┆ … ┆ male         ┆ female       ┆ female       ┆ female      │\n",
       "│ race/ethnici ┆ group B      ┆ group C      ┆ group B  ┆ … ┆ group C      ┆ group C      ┆ group D      ┆ group D     │\n",
       "│ ty           ┆              ┆              ┆          ┆   ┆              ┆              ┆              ┆             │\n",
       "│ parental     ┆ bachelor's   ┆ some college ┆ master's ┆ … ┆ high school  ┆ high school  ┆ some college ┆ some        │\n",
       "│ level of     ┆ degree       ┆              ┆ degree   ┆   ┆              ┆              ┆              ┆ college     │\n",
       "│ education    ┆              ┆              ┆          ┆   ┆              ┆              ┆              ┆             │\n",
       "│ lunch        ┆ standard     ┆ standard     ┆ standard ┆ … ┆ free/reduced ┆ free/reduced ┆ standard     ┆ free/reduce │\n",
       "│              ┆              ┆              ┆          ┆   ┆              ┆              ┆              ┆ d           │\n",
       "│ test         ┆ none         ┆ completed    ┆ none     ┆ … ┆ none         ┆ completed    ┆ completed    ┆ none        │\n",
       "│ preparation  ┆              ┆              ┆          ┆   ┆              ┆              ┆              ┆             │\n",
       "│ course       ┆              ┆              ┆          ┆   ┆              ┆              ┆              ┆             │\n",
       "│ math score   ┆ 72           ┆ 69           ┆ 90       ┆ … ┆ 62           ┆ 59           ┆ 68           ┆ 77          │\n",
       "│ reading      ┆ 72           ┆ 90           ┆ 95       ┆ … ┆ 55           ┆ 71           ┆ 78           ┆ 86          │\n",
       "│ score        ┆              ┆              ┆          ┆   ┆              ┆              ┆              ┆             │\n",
       "│ writing      ┆ 74           ┆ 88           ┆ 93       ┆ … ┆ 55           ┆ 65           ┆ 77           ┆ 86          │\n",
       "│ score        ┆              ┆              ┆          ┆   ┆              ┆              ┆              ┆             │\n",
       "└──────────────┴──────────────┴──────────────┴──────────┴───┴──────────────┴──────────────┴──────────────┴─────────────┘"
      ]
     },
     "execution_count": 47,
     "metadata": {},
     "output_type": "execute_result"
    }
   ],
   "source": [
    "df.transpose(include_header=True)"
   ]
  },
  {
   "cell_type": "markdown",
   "id": "ab8c90af",
   "metadata": {},
   "source": [
    "#### Función `pl.rename()`"
   ]
  },
  {
   "cell_type": "markdown",
   "id": "5200fdd5",
   "metadata": {},
   "source": [
    "Nos permite renombrar las columnas."
   ]
  },
  {
   "cell_type": "code",
   "execution_count": 50,
   "id": "0c64719e",
   "metadata": {},
   "outputs": [
    {
     "data": {
      "text/plain": [
       "['gender',\n",
       " 'race/ethnicity',\n",
       " 'parental level of education',\n",
       " 'lunch',\n",
       " 'test preparation course',\n",
       " 'math score',\n",
       " 'reading score',\n",
       " 'writing score']"
      ]
     },
     "execution_count": 50,
     "metadata": {},
     "output_type": "execute_result"
    }
   ],
   "source": [
    "df.columns"
   ]
  },
  {
   "cell_type": "code",
   "execution_count": 52,
   "id": "a608ac3e",
   "metadata": {
    "scrolled": true
   },
   "outputs": [
    {
     "data": {
      "text/html": [
       "<div><style>\n",
       ".dataframe > thead > tr > th,\n",
       ".dataframe > tbody > tr > td {\n",
       "  text-align: right;\n",
       "}\n",
       "</style>\n",
       "<small>shape: (1_000, 8)</small><table border=\"1\" class=\"dataframe\"><thead><tr><th>genero</th><th>raza/etnia</th><th>nivel de educacion de los padres</th><th>almuerzo</th><th>test de preparacion de curso</th><th>notas de matematicas</th><th>notas de lectura</th><th>notas de escritura</th></tr><tr><td>str</td><td>str</td><td>str</td><td>str</td><td>str</td><td>i64</td><td>i64</td><td>i64</td></tr></thead><tbody><tr><td>&quot;female&quot;</td><td>&quot;group B&quot;</td><td>&quot;bachelor&#x27;s deg…</td><td>&quot;standard&quot;</td><td>&quot;none&quot;</td><td>72</td><td>72</td><td>74</td></tr><tr><td>&quot;female&quot;</td><td>&quot;group C&quot;</td><td>&quot;some college&quot;</td><td>&quot;standard&quot;</td><td>&quot;completed&quot;</td><td>69</td><td>90</td><td>88</td></tr><tr><td>&quot;female&quot;</td><td>&quot;group B&quot;</td><td>&quot;master&#x27;s degre…</td><td>&quot;standard&quot;</td><td>&quot;none&quot;</td><td>90</td><td>95</td><td>93</td></tr><tr><td>&quot;male&quot;</td><td>&quot;group A&quot;</td><td>&quot;associate&#x27;s de…</td><td>&quot;free/reduced&quot;</td><td>&quot;none&quot;</td><td>47</td><td>57</td><td>44</td></tr><tr><td>&quot;male&quot;</td><td>&quot;group C&quot;</td><td>&quot;some college&quot;</td><td>&quot;standard&quot;</td><td>&quot;none&quot;</td><td>76</td><td>78</td><td>75</td></tr><tr><td>&quot;female&quot;</td><td>&quot;group B&quot;</td><td>&quot;associate&#x27;s de…</td><td>&quot;standard&quot;</td><td>&quot;none&quot;</td><td>71</td><td>83</td><td>78</td></tr><tr><td>&quot;female&quot;</td><td>&quot;group B&quot;</td><td>&quot;some college&quot;</td><td>&quot;standard&quot;</td><td>&quot;completed&quot;</td><td>88</td><td>95</td><td>92</td></tr><tr><td>&quot;male&quot;</td><td>&quot;group B&quot;</td><td>&quot;some college&quot;</td><td>&quot;free/reduced&quot;</td><td>&quot;none&quot;</td><td>40</td><td>43</td><td>39</td></tr><tr><td>&quot;male&quot;</td><td>&quot;group D&quot;</td><td>&quot;high school&quot;</td><td>&quot;free/reduced&quot;</td><td>&quot;completed&quot;</td><td>64</td><td>64</td><td>67</td></tr><tr><td>&quot;female&quot;</td><td>&quot;group B&quot;</td><td>&quot;high school&quot;</td><td>&quot;free/reduced&quot;</td><td>&quot;none&quot;</td><td>38</td><td>60</td><td>50</td></tr><tr><td>&quot;male&quot;</td><td>&quot;group C&quot;</td><td>&quot;associate&#x27;s de…</td><td>&quot;standard&quot;</td><td>&quot;none&quot;</td><td>58</td><td>54</td><td>52</td></tr><tr><td>&quot;male&quot;</td><td>&quot;group D&quot;</td><td>&quot;associate&#x27;s de…</td><td>&quot;standard&quot;</td><td>&quot;none&quot;</td><td>40</td><td>52</td><td>43</td></tr><tr><td>&hellip;</td><td>&hellip;</td><td>&hellip;</td><td>&hellip;</td><td>&hellip;</td><td>&hellip;</td><td>&hellip;</td><td>&hellip;</td></tr><tr><td>&quot;female&quot;</td><td>&quot;group A&quot;</td><td>&quot;some high scho…</td><td>&quot;free/reduced&quot;</td><td>&quot;none&quot;</td><td>44</td><td>45</td><td>45</td></tr><tr><td>&quot;female&quot;</td><td>&quot;group D&quot;</td><td>&quot;some college&quot;</td><td>&quot;free/reduced&quot;</td><td>&quot;completed&quot;</td><td>67</td><td>86</td><td>83</td></tr><tr><td>&quot;male&quot;</td><td>&quot;group E&quot;</td><td>&quot;high school&quot;</td><td>&quot;free/reduced&quot;</td><td>&quot;completed&quot;</td><td>86</td><td>81</td><td>75</td></tr><tr><td>&quot;female&quot;</td><td>&quot;group B&quot;</td><td>&quot;some high scho…</td><td>&quot;standard&quot;</td><td>&quot;completed&quot;</td><td>65</td><td>82</td><td>78</td></tr><tr><td>&quot;female&quot;</td><td>&quot;group D&quot;</td><td>&quot;associate&#x27;s de…</td><td>&quot;free/reduced&quot;</td><td>&quot;none&quot;</td><td>55</td><td>76</td><td>76</td></tr><tr><td>&quot;female&quot;</td><td>&quot;group D&quot;</td><td>&quot;bachelor&#x27;s deg…</td><td>&quot;free/reduced&quot;</td><td>&quot;none&quot;</td><td>62</td><td>72</td><td>74</td></tr><tr><td>&quot;male&quot;</td><td>&quot;group A&quot;</td><td>&quot;high school&quot;</td><td>&quot;standard&quot;</td><td>&quot;none&quot;</td><td>63</td><td>63</td><td>62</td></tr><tr><td>&quot;female&quot;</td><td>&quot;group E&quot;</td><td>&quot;master&#x27;s degre…</td><td>&quot;standard&quot;</td><td>&quot;completed&quot;</td><td>88</td><td>99</td><td>95</td></tr><tr><td>&quot;male&quot;</td><td>&quot;group C&quot;</td><td>&quot;high school&quot;</td><td>&quot;free/reduced&quot;</td><td>&quot;none&quot;</td><td>62</td><td>55</td><td>55</td></tr><tr><td>&quot;female&quot;</td><td>&quot;group C&quot;</td><td>&quot;high school&quot;</td><td>&quot;free/reduced&quot;</td><td>&quot;completed&quot;</td><td>59</td><td>71</td><td>65</td></tr><tr><td>&quot;female&quot;</td><td>&quot;group D&quot;</td><td>&quot;some college&quot;</td><td>&quot;standard&quot;</td><td>&quot;completed&quot;</td><td>68</td><td>78</td><td>77</td></tr><tr><td>&quot;female&quot;</td><td>&quot;group D&quot;</td><td>&quot;some college&quot;</td><td>&quot;free/reduced&quot;</td><td>&quot;none&quot;</td><td>77</td><td>86</td><td>86</td></tr></tbody></table></div>"
      ],
      "text/plain": [
       "shape: (1_000, 8)\n",
       "┌────────┬────────────┬──────────────────────┬──────────────┬─────────────────────┬─────────────┬──────────┬───────────┐\n",
       "│ genero ┆ raza/etnia ┆ nivel de educacion   ┆ almuerzo     ┆ test de preparacion ┆ notas de    ┆ notas de ┆ notas de  │\n",
       "│ ---    ┆ ---        ┆ de los padres        ┆ ---          ┆ de curso            ┆ matematicas ┆ lectura  ┆ escritura │\n",
       "│ str    ┆ str        ┆ ---                  ┆ str          ┆ ---                 ┆ ---         ┆ ---      ┆ ---       │\n",
       "│        ┆            ┆ str                  ┆              ┆ str                 ┆ i64         ┆ i64      ┆ i64       │\n",
       "╞════════╪════════════╪══════════════════════╪══════════════╪═════════════════════╪═════════════╪══════════╪═══════════╡\n",
       "│ female ┆ group B    ┆ bachelor's degree    ┆ standard     ┆ none                ┆ 72          ┆ 72       ┆ 74        │\n",
       "│ female ┆ group C    ┆ some college         ┆ standard     ┆ completed           ┆ 69          ┆ 90       ┆ 88        │\n",
       "│ female ┆ group B    ┆ master's degree      ┆ standard     ┆ none                ┆ 90          ┆ 95       ┆ 93        │\n",
       "│ male   ┆ group A    ┆ associate's degree   ┆ free/reduced ┆ none                ┆ 47          ┆ 57       ┆ 44        │\n",
       "│ …      ┆ …          ┆ …                    ┆ …            ┆ …                   ┆ …           ┆ …        ┆ …         │\n",
       "│ male   ┆ group C    ┆ high school          ┆ free/reduced ┆ none                ┆ 62          ┆ 55       ┆ 55        │\n",
       "│ female ┆ group C    ┆ high school          ┆ free/reduced ┆ completed           ┆ 59          ┆ 71       ┆ 65        │\n",
       "│ female ┆ group D    ┆ some college         ┆ standard     ┆ completed           ┆ 68          ┆ 78       ┆ 77        │\n",
       "│ female ┆ group D    ┆ some college         ┆ free/reduced ┆ none                ┆ 77          ┆ 86       ┆ 86        │\n",
       "└────────┴────────────┴──────────────────────┴──────────────┴─────────────────────┴─────────────┴──────────┴───────────┘"
      ]
     },
     "execution_count": 52,
     "metadata": {},
     "output_type": "execute_result"
    }
   ],
   "source": [
    "df.rename({'gender':'genero',\n",
    "           'race/ethnicity':'raza/etnia',\n",
    "           'parental level of education':'nivel de educacion de los padres',\n",
    "           'lunch':'almuerzo', \n",
    "           'test preparation course':'test de preparacion de curso',\n",
    "           'math score':'notas de matematicas', \n",
    "           'reading score':'notas de lectura' , \n",
    "           'writing score':'notas de escritura'})"
   ]
  },
  {
   "cell_type": "markdown",
   "id": "426659e9",
   "metadata": {},
   "source": [
    "----------------"
   ]
  }
 ],
 "metadata": {
  "kernelspec": {
   "display_name": "Python 3 (ipykernel)",
   "language": "python",
   "name": "python3"
  },
  "language_info": {
   "codemirror_mode": {
    "name": "ipython",
    "version": 3
   },
   "file_extension": ".py",
   "mimetype": "text/x-python",
   "name": "python",
   "nbconvert_exporter": "python",
   "pygments_lexer": "ipython3",
   "version": "3.9.13"
  },
  "toc": {
   "base_numbering": "2",
   "nav_menu": {
    "height": "209px",
    "width": "315px"
   },
   "number_sections": true,
   "sideBar": true,
   "skip_h1_title": true,
   "title_cell": "Índice",
   "title_sidebar": "Contenidos",
   "toc_cell": true,
   "toc_position": {
    "height": "calc(100% - 180px)",
    "left": "10px",
    "top": "150px",
    "width": "324.4px"
   },
   "toc_section_display": true,
   "toc_window_display": true
  }
 },
 "nbformat": 4,
 "nbformat_minor": 5
}
